{
  "cells": [
    {
      "cell_type": "markdown",
      "metadata": {
        "id": "view-in-github",
        "colab_type": "text"
      },
      "source": [
        "<a href=\"https://colab.research.google.com/github/natalia0911/Tarea_Practica_3_IA/blob/main/2022_1_Trabajo_Practico_03_NataliaVargas_FabricioElizondo.ipynb\" target=\"_parent\"><img src=\"https://colab.research.google.com/assets/colab-badge.svg\" alt=\"Open In Colab\"/></a>"
      ]
    },
    {
      "cell_type": "markdown",
      "metadata": {
        "id": "Y5zYLAE8LTvr"
      },
      "source": [
        "**Instituto Tecnológico de Costa Rica**\n",
        "\n",
        "**Escuela de Ingeniería en Computación**\n",
        "\n",
        "**Curso: Inteligencia Artificial**\n",
        "\n",
        "**Primer Semestre 2022**\n",
        "\n",
        "**Profesor: Luis-Alexander Calvo-Valverde**\n",
        "\n",
        "**Trabajo Práctico:** 03\n",
        "\n",
        "**Datos de la entrega:** Lunes 30 de mayo 2022, a más tardar a las 11:59 pm\n",
        "\n",
        "**Estudiantes:**\n",
        "- Natalia Vanessa Vargas Reyes\n",
        "- Fabricio Antonio Elizondo Fernández\n",
        "\n",
        "\n",
        "\n"
      ]
    },
    {
      "cell_type": "markdown",
      "metadata": {
        "id": "G2vp9Pasdvo-"
      },
      "source": [
        "___\n",
        "\n",
        "# Nota Introductoria\n",
        "___"
      ]
    },
    {
      "cell_type": "markdown",
      "metadata": {
        "id": "0bn7ujBQAqxw",
        "outputId": "9b4cccb3-5be5-465c-ed78-9580132bdb5d"
      },
      "source": [
        "Ustedes han sido contratados por la empresa *SoloIA* para trabajar con dos conjuntos de datos y lograr la mejor predicción posible, dadas ciertas métricas.\n",
        "\n",
        "Para efectos de dudas o ampliaciones sobre el proyecto, además de lo que se indique en este cuaderno, considere a Luis-Alexánder Calvo-Valverde como su cliente para atender sus consultas.\n",
        "\n",
        "**IMPORTANTE:** Entre los algoritmos elegidos para las partes 1 y 2, no debe usar ninguno visto en clase.  En caso de duda puede preguntar primero al profesor."
      ]
    },
    {
      "cell_type": "markdown",
      "metadata": {
        "id": "J2q6S6zcdvo_"
      },
      "source": [
        "___\n",
        "\n",
        "# Parte 1  -  Clasificación (50 puntos)\n",
        "___"
      ]
    },
    {
      "cell_type": "markdown",
      "metadata": {
        "id": "EM7crs7PdvpA"
      },
      "source": [
        "### Considere lo siguiente:\n",
        "1. Conjunto de datos: **cardio.csv**\n",
        "1. Algunos detalles del conjunto de datos los puede ver en: https://www.kaggle.com/datasets/sulianova/cardiovascular-disease-dataset.  **Pero debe usar el conjunto de datos que se le dan adjuntos a este Trabajo Práctico, no descargar otro**.\n",
        "1. El atributo a predecir es: **cardio**.\n",
        "1. Proponga al menos dos algoritmos a utilizar\n",
        "1. Métricas:\n",
        "    1. Accuracy\n",
        "    1. Ustedes propongan una más.\n",
        "1. Debe presentar en este cuaderno:\n",
        "    1. Pre-procesamiento de los datos, explicando las decisiones en cada caso.\n",
        "    1. Para cada uno de los algoritmos seleccionados: \n",
        "        1. Explicación del algoritmo.\n",
        "        1. Explicación de la implementación seleccionada y de sus parámetros.\n",
        "    1. Explicación del diseño experimental por ejecutar. Recuerde que si el algoritmo requiere seleccionar hyperparámetros, hay que dividir en tres conjuntos de datos: Training, Validation, Testing (60%, 20%, 20%). Se le recomienda confirmar con el profesor cuántos y cuáles hyperparámetros validar.\n",
        "    1. Programación del diseño experimental. \n",
        "    1. Tablas de resultados, gráficos y conclusiones de los resultados, recomendando a su contratante cuál algoritmo utilizar, con qué configuración y por qué lo recomienda. "
      ]
    },
    {
      "cell_type": "code",
      "source": [
        "%matplotlib inline\n",
        "import pandas as pd\n",
        "import numpy as np\n",
        "import matplotlib.pyplot as plt\n",
        "import seaborn as sn\n",
        "from sklearn.model_selection import train_test_split\n",
        "from sklearn.preprocessing import StandardScaler\n",
        "from sklearn import svm"
      ],
      "metadata": {
        "id": "kEmNpmjrYbN4"
      },
      "execution_count": null,
      "outputs": []
    },
    {
      "cell_type": "markdown",
      "source": [
        "####Análisis del conjunto de datos\n"
      ],
      "metadata": {
        "id": "R-_BsxeEZC1f"
      }
    },
    {
      "cell_type": "code",
      "source": [
        "# Se realiza la carga de los datos por utilizar \n",
        "dataset = pd.read_csv('cardio.csv', delimiter = \";\")\n",
        "\n",
        "# Se imprimen las dimensiones del arreglo\n",
        "print(f\"Las dimensiones del arreglo cargado son: {dataset.shape}\")\n",
        "\n",
        "#Se muestran los primeros 10 valores del conjunto de datos\n",
        "dataset.head(10)"
      ],
      "metadata": {
        "colab": {
          "base_uri": "https://localhost:8080/",
          "height": 380
        },
        "id": "etIeHrZUZX5w",
        "outputId": "c2892074-60b8-41ae-a96a-cf1350866a17"
      },
      "execution_count": null,
      "outputs": [
        {
          "output_type": "stream",
          "name": "stdout",
          "text": [
            "Las dimensiones del arreglo cargado son: (69301, 13)\n"
          ]
        },
        {
          "output_type": "execute_result",
          "data": {
            "text/plain": [
              "   id    age  gender  height  weight  ap_hi  ap_lo  cholesterol  gluc  smoke  \\\n",
              "0   1  22469       1     155    69.0    130     80            2     2      0   \n",
              "1   2  14648       1     163    71.0    110     70            1     1      0   \n",
              "2   3  21901       1     165    70.0    120     80            1     1      0   \n",
              "3   4  14549       2     165    85.0    120     80            1     1      1   \n",
              "4   5  23393       1     155    62.0    120     80            1     1      0   \n",
              "5   6  21143       1     164    61.0    100     70            1     1      0   \n",
              "6   7  18085       1     162    72.0    100     70            1     1      0   \n",
              "7   8  22547       1     161    93.0    140     90            2     1      0   \n",
              "8   9  21250       1     157    68.0    110     80            1     1      0   \n",
              "9  10  22446       1     158    65.0    140     90            3     1      0   \n",
              "\n",
              "   alco  active  cardio  \n",
              "0     0       1       0  \n",
              "1     0       1       1  \n",
              "2     0       1       0  \n",
              "3     1       1       0  \n",
              "4     0       1       0  \n",
              "5     0       1       0  \n",
              "6     0       1       0  \n",
              "7     0       1       1  \n",
              "8     0       1       0  \n",
              "9     0       1       1  "
            ],
            "text/html": [
              "\n",
              "  <div id=\"df-d7113d95-5040-4dce-ae4b-f6fe86a71408\">\n",
              "    <div class=\"colab-df-container\">\n",
              "      <div>\n",
              "<style scoped>\n",
              "    .dataframe tbody tr th:only-of-type {\n",
              "        vertical-align: middle;\n",
              "    }\n",
              "\n",
              "    .dataframe tbody tr th {\n",
              "        vertical-align: top;\n",
              "    }\n",
              "\n",
              "    .dataframe thead th {\n",
              "        text-align: right;\n",
              "    }\n",
              "</style>\n",
              "<table border=\"1\" class=\"dataframe\">\n",
              "  <thead>\n",
              "    <tr style=\"text-align: right;\">\n",
              "      <th></th>\n",
              "      <th>id</th>\n",
              "      <th>age</th>\n",
              "      <th>gender</th>\n",
              "      <th>height</th>\n",
              "      <th>weight</th>\n",
              "      <th>ap_hi</th>\n",
              "      <th>ap_lo</th>\n",
              "      <th>cholesterol</th>\n",
              "      <th>gluc</th>\n",
              "      <th>smoke</th>\n",
              "      <th>alco</th>\n",
              "      <th>active</th>\n",
              "      <th>cardio</th>\n",
              "    </tr>\n",
              "  </thead>\n",
              "  <tbody>\n",
              "    <tr>\n",
              "      <th>0</th>\n",
              "      <td>1</td>\n",
              "      <td>22469</td>\n",
              "      <td>1</td>\n",
              "      <td>155</td>\n",
              "      <td>69.0</td>\n",
              "      <td>130</td>\n",
              "      <td>80</td>\n",
              "      <td>2</td>\n",
              "      <td>2</td>\n",
              "      <td>0</td>\n",
              "      <td>0</td>\n",
              "      <td>1</td>\n",
              "      <td>0</td>\n",
              "    </tr>\n",
              "    <tr>\n",
              "      <th>1</th>\n",
              "      <td>2</td>\n",
              "      <td>14648</td>\n",
              "      <td>1</td>\n",
              "      <td>163</td>\n",
              "      <td>71.0</td>\n",
              "      <td>110</td>\n",
              "      <td>70</td>\n",
              "      <td>1</td>\n",
              "      <td>1</td>\n",
              "      <td>0</td>\n",
              "      <td>0</td>\n",
              "      <td>1</td>\n",
              "      <td>1</td>\n",
              "    </tr>\n",
              "    <tr>\n",
              "      <th>2</th>\n",
              "      <td>3</td>\n",
              "      <td>21901</td>\n",
              "      <td>1</td>\n",
              "      <td>165</td>\n",
              "      <td>70.0</td>\n",
              "      <td>120</td>\n",
              "      <td>80</td>\n",
              "      <td>1</td>\n",
              "      <td>1</td>\n",
              "      <td>0</td>\n",
              "      <td>0</td>\n",
              "      <td>1</td>\n",
              "      <td>0</td>\n",
              "    </tr>\n",
              "    <tr>\n",
              "      <th>3</th>\n",
              "      <td>4</td>\n",
              "      <td>14549</td>\n",
              "      <td>2</td>\n",
              "      <td>165</td>\n",
              "      <td>85.0</td>\n",
              "      <td>120</td>\n",
              "      <td>80</td>\n",
              "      <td>1</td>\n",
              "      <td>1</td>\n",
              "      <td>1</td>\n",
              "      <td>1</td>\n",
              "      <td>1</td>\n",
              "      <td>0</td>\n",
              "    </tr>\n",
              "    <tr>\n",
              "      <th>4</th>\n",
              "      <td>5</td>\n",
              "      <td>23393</td>\n",
              "      <td>1</td>\n",
              "      <td>155</td>\n",
              "      <td>62.0</td>\n",
              "      <td>120</td>\n",
              "      <td>80</td>\n",
              "      <td>1</td>\n",
              "      <td>1</td>\n",
              "      <td>0</td>\n",
              "      <td>0</td>\n",
              "      <td>1</td>\n",
              "      <td>0</td>\n",
              "    </tr>\n",
              "    <tr>\n",
              "      <th>5</th>\n",
              "      <td>6</td>\n",
              "      <td>21143</td>\n",
              "      <td>1</td>\n",
              "      <td>164</td>\n",
              "      <td>61.0</td>\n",
              "      <td>100</td>\n",
              "      <td>70</td>\n",
              "      <td>1</td>\n",
              "      <td>1</td>\n",
              "      <td>0</td>\n",
              "      <td>0</td>\n",
              "      <td>1</td>\n",
              "      <td>0</td>\n",
              "    </tr>\n",
              "    <tr>\n",
              "      <th>6</th>\n",
              "      <td>7</td>\n",
              "      <td>18085</td>\n",
              "      <td>1</td>\n",
              "      <td>162</td>\n",
              "      <td>72.0</td>\n",
              "      <td>100</td>\n",
              "      <td>70</td>\n",
              "      <td>1</td>\n",
              "      <td>1</td>\n",
              "      <td>0</td>\n",
              "      <td>0</td>\n",
              "      <td>1</td>\n",
              "      <td>0</td>\n",
              "    </tr>\n",
              "    <tr>\n",
              "      <th>7</th>\n",
              "      <td>8</td>\n",
              "      <td>22547</td>\n",
              "      <td>1</td>\n",
              "      <td>161</td>\n",
              "      <td>93.0</td>\n",
              "      <td>140</td>\n",
              "      <td>90</td>\n",
              "      <td>2</td>\n",
              "      <td>1</td>\n",
              "      <td>0</td>\n",
              "      <td>0</td>\n",
              "      <td>1</td>\n",
              "      <td>1</td>\n",
              "    </tr>\n",
              "    <tr>\n",
              "      <th>8</th>\n",
              "      <td>9</td>\n",
              "      <td>21250</td>\n",
              "      <td>1</td>\n",
              "      <td>157</td>\n",
              "      <td>68.0</td>\n",
              "      <td>110</td>\n",
              "      <td>80</td>\n",
              "      <td>1</td>\n",
              "      <td>1</td>\n",
              "      <td>0</td>\n",
              "      <td>0</td>\n",
              "      <td>1</td>\n",
              "      <td>0</td>\n",
              "    </tr>\n",
              "    <tr>\n",
              "      <th>9</th>\n",
              "      <td>10</td>\n",
              "      <td>22446</td>\n",
              "      <td>1</td>\n",
              "      <td>158</td>\n",
              "      <td>65.0</td>\n",
              "      <td>140</td>\n",
              "      <td>90</td>\n",
              "      <td>3</td>\n",
              "      <td>1</td>\n",
              "      <td>0</td>\n",
              "      <td>0</td>\n",
              "      <td>1</td>\n",
              "      <td>1</td>\n",
              "    </tr>\n",
              "  </tbody>\n",
              "</table>\n",
              "</div>\n",
              "      <button class=\"colab-df-convert\" onclick=\"convertToInteractive('df-d7113d95-5040-4dce-ae4b-f6fe86a71408')\"\n",
              "              title=\"Convert this dataframe to an interactive table.\"\n",
              "              style=\"display:none;\">\n",
              "        \n",
              "  <svg xmlns=\"http://www.w3.org/2000/svg\" height=\"24px\"viewBox=\"0 0 24 24\"\n",
              "       width=\"24px\">\n",
              "    <path d=\"M0 0h24v24H0V0z\" fill=\"none\"/>\n",
              "    <path d=\"M18.56 5.44l.94 2.06.94-2.06 2.06-.94-2.06-.94-.94-2.06-.94 2.06-2.06.94zm-11 1L8.5 8.5l.94-2.06 2.06-.94-2.06-.94L8.5 2.5l-.94 2.06-2.06.94zm10 10l.94 2.06.94-2.06 2.06-.94-2.06-.94-.94-2.06-.94 2.06-2.06.94z\"/><path d=\"M17.41 7.96l-1.37-1.37c-.4-.4-.92-.59-1.43-.59-.52 0-1.04.2-1.43.59L10.3 9.45l-7.72 7.72c-.78.78-.78 2.05 0 2.83L4 21.41c.39.39.9.59 1.41.59.51 0 1.02-.2 1.41-.59l7.78-7.78 2.81-2.81c.8-.78.8-2.07 0-2.86zM5.41 20L4 18.59l7.72-7.72 1.47 1.35L5.41 20z\"/>\n",
              "  </svg>\n",
              "      </button>\n",
              "      \n",
              "  <style>\n",
              "    .colab-df-container {\n",
              "      display:flex;\n",
              "      flex-wrap:wrap;\n",
              "      gap: 12px;\n",
              "    }\n",
              "\n",
              "    .colab-df-convert {\n",
              "      background-color: #E8F0FE;\n",
              "      border: none;\n",
              "      border-radius: 50%;\n",
              "      cursor: pointer;\n",
              "      display: none;\n",
              "      fill: #1967D2;\n",
              "      height: 32px;\n",
              "      padding: 0 0 0 0;\n",
              "      width: 32px;\n",
              "    }\n",
              "\n",
              "    .colab-df-convert:hover {\n",
              "      background-color: #E2EBFA;\n",
              "      box-shadow: 0px 1px 2px rgba(60, 64, 67, 0.3), 0px 1px 3px 1px rgba(60, 64, 67, 0.15);\n",
              "      fill: #174EA6;\n",
              "    }\n",
              "\n",
              "    [theme=dark] .colab-df-convert {\n",
              "      background-color: #3B4455;\n",
              "      fill: #D2E3FC;\n",
              "    }\n",
              "\n",
              "    [theme=dark] .colab-df-convert:hover {\n",
              "      background-color: #434B5C;\n",
              "      box-shadow: 0px 1px 3px 1px rgba(0, 0, 0, 0.15);\n",
              "      filter: drop-shadow(0px 1px 2px rgba(0, 0, 0, 0.3));\n",
              "      fill: #FFFFFF;\n",
              "    }\n",
              "  </style>\n",
              "\n",
              "      <script>\n",
              "        const buttonEl =\n",
              "          document.querySelector('#df-d7113d95-5040-4dce-ae4b-f6fe86a71408 button.colab-df-convert');\n",
              "        buttonEl.style.display =\n",
              "          google.colab.kernel.accessAllowed ? 'block' : 'none';\n",
              "\n",
              "        async function convertToInteractive(key) {\n",
              "          const element = document.querySelector('#df-d7113d95-5040-4dce-ae4b-f6fe86a71408');\n",
              "          const dataTable =\n",
              "            await google.colab.kernel.invokeFunction('convertToInteractive',\n",
              "                                                     [key], {});\n",
              "          if (!dataTable) return;\n",
              "\n",
              "          const docLinkHtml = 'Like what you see? Visit the ' +\n",
              "            '<a target=\"_blank\" href=https://colab.research.google.com/notebooks/data_table.ipynb>data table notebook</a>'\n",
              "            + ' to learn more about interactive tables.';\n",
              "          element.innerHTML = '';\n",
              "          dataTable['output_type'] = 'display_data';\n",
              "          await google.colab.output.renderOutput(dataTable, element);\n",
              "          const docLink = document.createElement('div');\n",
              "          docLink.innerHTML = docLinkHtml;\n",
              "          element.appendChild(docLink);\n",
              "        }\n",
              "      </script>\n",
              "    </div>\n",
              "  </div>\n",
              "  "
            ]
          },
          "metadata": {},
          "execution_count": 3
        }
      ]
    },
    {
      "cell_type": "markdown",
      "source": [
        "####Tipo de dato de los atributos"
      ],
      "metadata": {
        "id": "wdWClUskFq_f"
      }
    },
    {
      "cell_type": "code",
      "source": [
        "# Se realiza una comprobación del tipo de dato de cada columna\n",
        "print(dataset.dtypes)"
      ],
      "metadata": {
        "colab": {
          "base_uri": "https://localhost:8080/"
        },
        "id": "xBpo2VB_mPV7",
        "outputId": "3520d4d3-8ddd-4fd1-bf40-d8691f25d548"
      },
      "execution_count": null,
      "outputs": [
        {
          "output_type": "stream",
          "name": "stdout",
          "text": [
            "id               int64\n",
            "age              int64\n",
            "gender           int64\n",
            "height           int64\n",
            "weight         float64\n",
            "ap_hi            int64\n",
            "ap_lo            int64\n",
            "cholesterol      int64\n",
            "gluc             int64\n",
            "smoke            int64\n",
            "alco             int64\n",
            "active           int64\n",
            "cardio           int64\n",
            "dtype: object\n"
          ]
        }
      ]
    },
    {
      "cell_type": "markdown",
      "source": [
        "Como se visualiza a apartir de la información anterior, nos encontramos con un conjunto de datos cuyas características se encuentran representadas por datos numéricos, donde al final del diseño experimental, lo que se busca es predecir el atributo de cardio. Dicho atributo es una variable binaria, lo que nos indica que nos encontramos ante un problema de clasificación binaria. El hecho de que no se presenten datos que no sean numéricos, reduce el trabajo que se debe realizar ante un eventual procesamiento de valores cardinales, transformación de variables binarias, etc."
      ],
      "metadata": {
        "id": "4rORaujRmgaT"
      }
    },
    {
      "cell_type": "markdown",
      "source": [
        "####Histogramas\n",
        "\n",
        "A continuación se presenta de forma gráfica, los histogramas que muestren la distribución de los datos para cada uno de los atributos, lo cual nos puede brindar información útil sobre el comportamiento de los mismos, en caso de que se necesite realizar algún tratamiento especial previo a la ejecución de los algoritmos."
      ],
      "metadata": {
        "id": "Gs7FrPa6Fyqb"
      }
    },
    {
      "cell_type": "code",
      "source": [
        "# Se grafican cada uno de los atributos utilizando un histrograma\n",
        "fig, axs = plt.subplots(4, 3, constrained_layout=True, figsize=(15,15))\n",
        "fig.suptitle('Histograma de cada atributo', fontsize=16)\n",
        "\n",
        "d = 1\n",
        "for i in range(4):\n",
        "  for j in range(3):\n",
        "      axs[i,j].set_title(dataset.columns[d])\n",
        "      dataset.iloc[:, d].hist(ax=axs[i,j])\n",
        "      d += 1\n",
        "plt.show()"
      ],
      "metadata": {
        "colab": {
          "base_uri": "https://localhost:8080/",
          "height": 1000
        },
        "id": "GmWumBhenuDl",
        "outputId": "d06ebc3e-c99c-483e-d709-1cb296cc45ae"
      },
      "execution_count": null,
      "outputs": [
        {
          "output_type": "display_data",
          "data": {
            "text/plain": [
              "<Figure size 1080x1080 with 12 Axes>"
            ],
            "image/png": "[encoded data removed]"
          },
          "metadata": {
            "needs_background": "light"
          }
        }
      ]
    },
    {
      "cell_type": "markdown",
      "source": [
        "De los histogramas anteriores, se puede verificar que contamos con muchos valores binarios como lo son smoke, alco, active y la variable a predecir que es cardio. Gender también es un valor binario con parámetros de clasificación entre 1 y 2. En el caso de ap_hi y ap_lo se encuentran muy compactos en un mismo valor, por lo que no existe una distribución más gaussiana como sí sucede con el parámetro de weight"
      ],
      "metadata": {
        "id": "2jlmxWtBGX4X"
      }
    },
    {
      "cell_type": "markdown",
      "source": [
        "####Diagrama de cajas y bigotes\n",
        "\n",
        "A continuación se presentan una serie diagramas de cajas y bigotes, que nos permiten detectar posibles outliers en las variables de interés, por medio de la detección de muestras que se encuentren muy alejadas de la media, y que se pasen de los límites mínimos y máximos."
      ],
      "metadata": {
        "id": "nGXLNubtHhrC"
      }
    },
    {
      "cell_type": "code",
      "source": [
        "# Se grafica con un boxplot cada uno de los atributos del dataset\n",
        "fig, axs = plt.subplots(4, 3, constrained_layout=True, figsize=(20,20))\n",
        "fig.suptitle('Boxplot por atributo', fontsize=16)\n",
        "\n",
        "d = 1\n",
        "for i in range(4):\n",
        "  for j in range(3):\n",
        "    axs[i,j].set_title(dataset.columns[d])\n",
        "    axs[i,j].boxplot(dataset.iloc[:,d])\n",
        "    d += 1"
      ],
      "metadata": {
        "colab": {
          "base_uri": "https://localhost:8080/",
          "height": 1000
        },
        "id": "tyFwTugGrPqO",
        "outputId": "d05d3eb4-87d0-45b3-a074-08dd0bbf0dff"
      },
      "execution_count": null,
      "outputs": [
        {
          "output_type": "display_data",
          "data": {
            "text/plain": [
              "<Figure size 1440x1440 with 12 Axes>"
            ],
            "image/png": "[encoded data removed]"
          },
          "metadata": {
            "needs_background": "light"
          }
        }
      ]
    },
    {
      "cell_type": "markdown",
      "source": [
        "De los diagramas anteriores se puede comprobar que las variables de height y weight presentan posibles outliers, ya se se separan mucho de la media obtenida para todas las muestras. Lo mismo se puede extrapolar de las variables ap_hi y ap_lo. Por lo que es conveniente realizar un análisis más profundo de las variables para verificar en que escenario nos encontramos y que medidas puede ser conveniente utilizar para tratar los datos antes del diseño experimental."
      ],
      "metadata": {
        "id": "Gz378FP2IG17"
      }
    },
    {
      "cell_type": "markdown",
      "source": [
        "\n",
        "####Valores faltantes\n",
        "\n",
        "\n"
      ],
      "metadata": {
        "id": "VylUCqgrJcmz"
      }
    },
    {
      "cell_type": "code",
      "source": [
        "print(\"Cantidad de muestras \",len(dataset), \"\\n\")\n",
        "print(dataset.count())"
      ],
      "metadata": {
        "colab": {
          "base_uri": "https://localhost:8080/"
        },
        "id": "FAe07dUrN_ik",
        "outputId": "8e086fce-3fd3-4c98-c341-9af93e638630"
      },
      "execution_count": null,
      "outputs": [
        {
          "output_type": "stream",
          "name": "stdout",
          "text": [
            "Cantidad de muestras  69301 \n",
            "\n",
            "id             69301\n",
            "age            69301\n",
            "gender         69301\n",
            "height         69301\n",
            "weight         69301\n",
            "ap_hi          69301\n",
            "ap_lo          69301\n",
            "cholesterol    69301\n",
            "gluc           69301\n",
            "smoke          69301\n",
            "alco           69301\n",
            "active         69301\n",
            "cardio         69301\n",
            "dtype: int64\n"
          ]
        }
      ]
    },
    {
      "cell_type": "markdown",
      "source": [
        "Como se comprueba con los resultados obtenidos, ninguno de los atributos presenta valores faltantes, por lo que no será necesario realizar algún tipo de tratamiento de los datos en ese apartado."
      ],
      "metadata": {
        "id": "xt2I6I-rONR4"
      }
    },
    {
      "cell_type": "markdown",
      "source": [
        "####Comprobación de los outliers\n",
        "\n",
        "A continuación se realiza una comprobación más exhaustiva sobre los outliers que se presentan en el conjunto de datos. Por simplicidad del análisis, se omiten la incorporación de atributos a los cuales no se les aplicará ningún tipo de procesamiento como el atributo de id, el cual será descartado posteriormente, y los valores binarios. "
      ],
      "metadata": {
        "id": "w3yaPMAGOsb1"
      }
    },
    {
      "cell_type": "markdown",
      "source": [
        "#####Age\n"
      ],
      "metadata": {
        "id": "8LhAvudjPUSB"
      }
    },
    {
      "cell_type": "code",
      "source": [
        "data = pd.DataFrame(dataset.age)\n",
        "data.boxplot()\n",
        "\n",
        "print(\"---------------- Resumen Estadístico de la variable ----------------\")\n",
        "print(data.describe())\n",
        "\n",
        "values = dataset.age\n",
        "print(\"-----------------Ver outliers -----------------\")\n",
        "#Imprimir valores que se encuentren entre dichos cuartiles\n",
        "print(values[values.between(values.quantile(0), values.quantile(.003))] )\n",
        "print(values[values.between(values.quantile(.997), values.quantile(1))] )"
      ],
      "metadata": {
        "colab": {
          "base_uri": "https://localhost:8080/",
          "height": 873
        },
        "id": "Qx2ukjJpPa9e",
        "outputId": "dbe539c8-262f-44e9-a8da-f9467f879904"
      },
      "execution_count": null,
      "outputs": [
        {
          "output_type": "stream",
          "name": "stdout",
          "text": [
            "---------------- Resumen Estadístico de la variable ----------------\n",
            "                age\n",
            "count  69301.000000\n",
            "mean   19468.786280\n",
            "std     2467.261818\n",
            "min    10798.000000\n",
            "25%    17664.000000\n",
            "50%    19704.000000\n",
            "75%    21326.000000\n",
            "max    23713.000000\n",
            "-----------------Ver outliers -----------------\n",
            "442      14307\n",
            "915      14369\n",
            "1073     14365\n",
            "1350     14359\n",
            "1836     14366\n",
            "         ...  \n",
            "67754    14324\n",
            "67800    14352\n",
            "68004    14345\n",
            "68179    14326\n",
            "68945    14332\n",
            "Name: age, Length: 209, dtype: int64\n",
            "25       23587\n",
            "122      23616\n",
            "204      23606\n",
            "582      23578\n",
            "607      23604\n",
            "         ...  \n",
            "68130    23605\n",
            "68443    23677\n",
            "68657    23578\n",
            "68976    23620\n",
            "69166    23646\n",
            "Name: age, Length: 208, dtype: int64\n"
          ]
        },
        {
          "output_type": "display_data",
          "data": {
            "text/plain": [
              "<Figure size 432x288 with 1 Axes>"
            ],
            "image/png": "[encoded data removed]"
          },
          "metadata": {
            "needs_background": "light"
          }
        }
      ]
    },
    {
      "cell_type": "markdown",
      "source": [
        "Con los datos obtenidos para el atributo de age, se demuestra que existen algunos valores que se consideran outliers. De acuerdo con la información del conjunto de datos, este valor de edad viene representado en formato de días, por lo que sí será necesario aplicar un escalamiento de los datos para evitar problemas con futuros datos de prueba. Pero con respecto a los outliers se toma la decisión de no removerlos del conjunto de datos, ya que los valores que se detectaron se encuentran alejados de la media, pero no corresponden con edades irreales o que no tengan sentido, por lo que se procede a dejarlos como están."
      ],
      "metadata": {
        "id": "zymVN4wFPjE4"
      }
    },
    {
      "cell_type": "markdown",
      "source": [
        "####Height"
      ],
      "metadata": {
        "id": "VvtAu2O3Rrch"
      }
    },
    {
      "cell_type": "code",
      "source": [
        "data = pd.DataFrame(dataset.height)\n",
        "data.boxplot()\n",
        "\n",
        "print(\"---------------- Resumen Estadístico de la variable ----------------\")\n",
        "print(data.describe())\n",
        "\n",
        "values = dataset.height\n",
        "print(\"-----------------Ver outliers -----------------\")\n",
        "#Imprimir valores que se encuentren entre dichos cuartiles\n",
        "print(values[values.between(values.quantile(0), values.quantile(.003))] )\n",
        "print(values[values.between(values.quantile(.997), values.quantile(1))] )"
      ],
      "metadata": {
        "colab": {
          "base_uri": "https://localhost:8080/",
          "height": 873
        },
        "id": "KYzEyupjR2NA",
        "outputId": "d11218b3-54b6-4e73-8453-28687b247c7c"
      },
      "execution_count": null,
      "outputs": [
        {
          "output_type": "stream",
          "name": "stdout",
          "text": [
            "---------------- Resumen Estadístico de la variable ----------------\n",
            "             height\n",
            "count  69301.000000\n",
            "mean     164.362217\n",
            "std        8.205337\n",
            "min       55.000000\n",
            "25%      159.000000\n",
            "50%      165.000000\n",
            "75%      170.000000\n",
            "max      250.000000\n",
            "-----------------Ver outliers -----------------\n",
            "82       141\n",
            "349      140\n",
            "1713     138\n",
            "2245     134\n",
            "2433     140\n",
            "        ... \n",
            "67626    140\n",
            "68353    120\n",
            "68425    138\n",
            "68731    140\n",
            "69085    141\n",
            "Name: height, Length: 220, dtype: int64\n",
            "328      195\n",
            "418      198\n",
            "720      187\n",
            "1461     196\n",
            "1504     187\n",
            "        ... \n",
            "68517    190\n",
            "68592    187\n",
            "68776    187\n",
            "68890    192\n",
            "69174    188\n",
            "Name: height, Length: 267, dtype: int64\n"
          ]
        },
        {
          "output_type": "display_data",
          "data": {
            "text/plain": [
              "<Figure size 432x288 with 1 Axes>"
            ],
            "image/png": "[encoded data removed]"
          },
          "metadata": {
            "needs_background": "light"
          }
        }
      ]
    },
    {
      "cell_type": "markdown",
      "source": [
        "Para el caso del atributo relacionado a la estatura de las personas, también se detectan outliers. Es recomendable aplicar un escalamiento de los datos para evitar posibles conflictos que se presenten con los datos de pruebas. Se toma la decisión de no remover los outliers detectados, ya que aunque se separan del valor de la media, no corresponden con estaturas dadas en cm que sean irreales."
      ],
      "metadata": {
        "id": "LOFjVOVGR76G"
      }
    },
    {
      "cell_type": "markdown",
      "source": [
        "####Weight"
      ],
      "metadata": {
        "id": "juIIHSY5SjAJ"
      }
    },
    {
      "cell_type": "code",
      "source": [
        "data = pd.DataFrame(dataset.weight)\n",
        "data.boxplot()\n",
        "\n",
        "print(\"---------------- Resumen Estadístico de la variable ----------------\")\n",
        "print(data.describe())\n",
        "\n",
        "values = dataset.weight\n",
        "print(\"-----------------Ver outliers -----------------\")\n",
        "#Imprimir valores que se encuentren entre dichos cuartiles\n",
        "print(values[values.between(values.quantile(0), values.quantile(.003))] )\n",
        "print(values[values.between(values.quantile(.997), values.quantile(1))] )"
      ],
      "metadata": {
        "colab": {
          "base_uri": "https://localhost:8080/",
          "height": 873
        },
        "id": "KvjS1-QiSsCP",
        "outputId": "a8841bfa-e376-4062-dec7-75d0b88bb961"
      },
      "execution_count": null,
      "outputs": [
        {
          "output_type": "stream",
          "name": "stdout",
          "text": [
            "---------------- Resumen Estadístico de la variable ----------------\n",
            "             weight\n",
            "count  69301.000000\n",
            "mean      74.203027\n",
            "std       14.383469\n",
            "min       10.000000\n",
            "25%       65.000000\n",
            "50%       72.000000\n",
            "75%       82.000000\n",
            "max      200.000000\n",
            "-----------------Ver outliers -----------------\n",
            "138      42.0\n",
            "875      43.0\n",
            "1563     40.0\n",
            "1773     40.0\n",
            "1823     41.0\n",
            "         ... \n",
            "68821    43.0\n",
            "68823    43.0\n",
            "69035    43.0\n",
            "69152    42.0\n",
            "69209    42.0\n",
            "Name: weight, Length: 235, dtype: float64\n",
            "498      139.0\n",
            "571      150.0\n",
            "577      138.0\n",
            "700      131.0\n",
            "899      150.0\n",
            "         ...  \n",
            "66229    134.0\n",
            "66422    146.0\n",
            "66458    131.0\n",
            "66736    147.0\n",
            "68410    155.0\n",
            "Name: weight, Length: 253, dtype: float64\n"
          ]
        },
        {
          "output_type": "display_data",
          "data": {
            "text/plain": [
              "<Figure size 432x288 with 1 Axes>"
            ],
            "image/png": "[encoded data removed]"
          },
          "metadata": {
            "needs_background": "light"
          }
        }
      ]
    },
    {
      "cell_type": "markdown",
      "source": [
        "Para el atributo del peso, se toman las mismas decisiones que con respecto al atributo de la estatura, ya que se presentan las mismas condiciones. "
      ],
      "metadata": {
        "id": "m5MrlN5bSxw4"
      }
    },
    {
      "cell_type": "markdown",
      "source": [
        "####ap_hi\n",
        "\n",
        "De acuerdo con la información del conjunto de datos, este atributo representa mediciones hechas a las personas sobre la presión sistólica de sangre. Los outliers detectados muestan valores irreales que puede llegar a tener una persona sobe esta métrica de caracter médico, por lo que en adición a realizar un escalado de los datos, similar a los otros atributos, también se recomienda remover esos outliers detectados, para obtener un conjunto de datos que tenga mayor sentido a la hora de aplicar los algoritmos de clasificación. "
      ],
      "metadata": {
        "id": "WWasDu1-TFJ4"
      }
    },
    {
      "cell_type": "code",
      "source": [
        "data = pd.DataFrame(dataset.ap_hi)\n",
        "data.boxplot()\n",
        "\n",
        "print(\"---------------- Resumen Estadístico de la variable ----------------\")\n",
        "print(data.describe())\n",
        "\n",
        "values = dataset.ap_hi\n",
        "print(\"-----------------Ver outliers -----------------\")\n",
        "#Imprimir valores que se encuentren entre dichos cuartiles\n",
        "print(values[values.between(values.quantile(0), values.quantile(.003))] )\n",
        "print(values[values.between(values.quantile(.997), values.quantile(1))] )\n",
        "\n",
        "#Remover Outliers\n",
        "dataset = dataset.loc[values.between(values.quantile(0.001), values.quantile(.998)), :]\n",
        "print(\"---------------- Resumen Estadístico de la variable después de quitar outliers----------------\")\n",
        "print(dataset.ap_hi.describe())"
      ],
      "metadata": {
        "colab": {
          "base_uri": "https://localhost:8080/",
          "height": 1000
        },
        "id": "slSwNd2hTYgf",
        "outputId": "49580a1a-42ba-4d05-c7ab-cc25da9c3ba8"
      },
      "execution_count": null,
      "outputs": [
        {
          "output_type": "stream",
          "name": "stdout",
          "text": [
            "---------------- Resumen Estadístico de la variable ----------------\n",
            "              ap_hi\n",
            "count  69301.000000\n",
            "mean     128.829584\n",
            "std      154.775805\n",
            "min     -150.000000\n",
            "25%      120.000000\n",
            "50%      120.000000\n",
            "75%      140.000000\n",
            "max    16020.000000\n",
            "-----------------Ver outliers -----------------\n",
            "228      14\n",
            "280      11\n",
            "901      12\n",
            "928      14\n",
            "1073     11\n",
            "         ..\n",
            "68043    14\n",
            "68299    14\n",
            "68438    12\n",
            "68566    80\n",
            "68850    13\n",
            "Name: ap_hi, Length: 307, dtype: int64\n",
            "629       220\n",
            "1177      902\n",
            "1315      906\n",
            "1443      210\n",
            "1579      220\n",
            "         ... \n",
            "67880     220\n",
            "67964     906\n",
            "68630     240\n",
            "68671    2000\n",
            "69195     200\n",
            "Name: ap_hi, Length: 210, dtype: int64\n",
            "---------------- Resumen Estadístico de la variable después de quitar outliers----------------\n",
            "count    69156.000000\n",
            "mean       126.681806\n",
            "std         17.638209\n",
            "min         12.000000\n",
            "25%        120.000000\n",
            "50%        120.000000\n",
            "75%        140.000000\n",
            "max        200.000000\n",
            "Name: ap_hi, dtype: float64\n"
          ]
        },
        {
          "output_type": "display_data",
          "data": {
            "text/plain": [
              "<Figure size 432x288 with 1 Axes>"
            ],
            "image/png": "[encoded data removed]"
          },
          "metadata": {
            "needs_background": "light"
          }
        }
      ]
    },
    {
      "cell_type": "markdown",
      "source": [
        "####ap_lo"
      ],
      "metadata": {
        "id": "hCekeAQQTIwy"
      }
    },
    {
      "cell_type": "markdown",
      "source": [
        "El conjunto de datos indica que el ap_lo representa la presión sanguínea diastólica. Similar al atributo de ap_hi, se recomienda realizar un escalamiento de los datos y remover los outliers detectados, ya que representan valores irreales de este tipo de presión sanguínea con los que puede tener una persona. Se toma esta decisión para que el procesamiento del conjunto de datos sea acorde al modelo con el que se van a ejecutar los modelos de clasificación."
      ],
      "metadata": {
        "id": "pkAQVdrKUyDk"
      }
    },
    {
      "cell_type": "code",
      "source": [
        "data = pd.DataFrame(dataset.ap_lo)\n",
        "data.boxplot()\n",
        "\n",
        "print(\"---------------- Resumen Estadístico de la variable ----------------\")\n",
        "print(data.describe())\n",
        "\n",
        "values = dataset.ap_lo\n",
        "print(\"-----------------Ver outliers -----------------\")\n",
        "#Imprimir valores que se encuentren entre dichos cuartiles\n",
        "print(values[values.between(values.quantile(0), values.quantile(.003))] )\n",
        "print(values[values.between(values.quantile(.997), values.quantile(1))] )\n",
        "\n",
        "#Remover Outliers\n",
        "dataset = dataset.loc[values.between(values.quantile(0.001), values.quantile(.998)), :]\n",
        "print(\"---------------- Resumen Estadístico de la variable después de quitar outliers----------------\")\n",
        "print(dataset.ap_lo.describe())"
      ],
      "metadata": {
        "colab": {
          "base_uri": "https://localhost:8080/",
          "height": 1000
        },
        "id": "W7ANcTTzUbVP",
        "outputId": "0a66424e-4ff4-4cd0-905e-d0f4a175a457"
      },
      "execution_count": null,
      "outputs": [
        {
          "output_type": "stream",
          "name": "stdout",
          "text": [
            "---------------- Resumen Estadístico de la variable ----------------\n",
            "              ap_lo\n",
            "count  69156.000000\n",
            "mean      96.498655\n",
            "std      188.756592\n",
            "min      -70.000000\n",
            "25%       80.000000\n",
            "50%       80.000000\n",
            "75%       90.000000\n",
            "max    11000.000000\n",
            "-----------------Ver outliers -----------------\n",
            "28       60\n",
            "59       60\n",
            "138      60\n",
            "189      60\n",
            "198      60\n",
            "         ..\n",
            "69178    60\n",
            "69223    60\n",
            "69233    60\n",
            "69238    60\n",
            "69279    60\n",
            "Name: ap_lo, Length: 2858, dtype: int64\n",
            "182       1100\n",
            "876       1200\n",
            "880       1100\n",
            "915       1100\n",
            "1370      1100\n",
            "         ...  \n",
            "66775     1200\n",
            "67338     1100\n",
            "67589     1100\n",
            "67839    10000\n",
            "68853     1100\n",
            "Name: ap_lo, Length: 219, dtype: int64\n",
            "---------------- Resumen Estadístico de la variable después de quitar outliers----------------\n",
            "count    69019.000000\n",
            "mean        93.013721\n",
            "std        104.011496\n",
            "min         49.000000\n",
            "25%         80.000000\n",
            "50%         80.000000\n",
            "75%         90.000000\n",
            "max       1100.000000\n",
            "Name: ap_lo, dtype: float64\n"
          ]
        },
        {
          "output_type": "display_data",
          "data": {
            "text/plain": [
              "<Figure size 432x288 with 1 Axes>"
            ],
            "image/png": "[encoded data removed]"
          },
          "metadata": {
            "needs_background": "light"
          }
        }
      ]
    },
    {
      "cell_type": "markdown",
      "source": [
        "####Modelo de Train (60%), validation (20%) y test (20%)"
      ],
      "metadata": {
        "id": "Y-nGBmxAr3fD"
      }
    },
    {
      "cell_type": "code",
      "source": [
        "#Separar los datos en X y Y, donde Y es la variable que queremos predecir\n",
        "my_data = dataset\n",
        "X = my_data.iloc[:, :12]\n",
        "cantidad_muestras = len(my_data)\n",
        "y = my_data.iloc[:, 12]\n",
        "\n",
        "\n",
        "print(\"\\nMuestra fila 1: \",X[0:1])\n",
        "print(\"\\nCantidad de muestras: \", len(my_data))\n",
        "print(\"\\nCantidad de atributos (incluye y): \", my_data.shape[1])"
      ],
      "metadata": {
        "colab": {
          "base_uri": "https://localhost:8080/"
        },
        "id": "gKK9YQGmVvqf",
        "outputId": "698b89e2-048f-41fe-abf6-361681eda75b"
      },
      "execution_count": null,
      "outputs": [
        {
          "output_type": "stream",
          "name": "stdout",
          "text": [
            "\n",
            "Muestra fila 1:     id    age  gender  height  weight  ap_hi  ap_lo  cholesterol  gluc  smoke  \\\n",
            "0   1  22469       1     155    69.0    130     80            2     2      0   \n",
            "\n",
            "   alco  active  \n",
            "0     0       1  \n",
            "\n",
            "Cantidad de muestras:  69019\n",
            "\n",
            "Cantidad de atributos (incluye y):  13\n"
          ]
        }
      ]
    },
    {
      "cell_type": "code",
      "source": [
        "#Se divide el conjunto de datos en Train, Validation y Test\n",
        "X_train, X_test, y_train, y_test = train_test_split(X, \n",
        "                                                    y, \n",
        "                                                    test_size=0.2,\n",
        "                                                    shuffle=True,     #Mezclar los datos y que se reparta aleatoriamente\n",
        "                                                    random_state=40)  #Definir una semilla para usar los mismos valores en todas las corridas\n",
        "\n",
        "X_train, X_val, y_train, y_val = train_test_split(X_train, \n",
        "                                                    y_train, \n",
        "                                                    test_size=0.25,\n",
        "                                                    shuffle=True,     #Mezclar los datos y que se reparta aleatoriamente\n",
        "                                                    random_state=40)  #Definir una semilla para usar los mismos valores en todas las corridas\n",
        "\n",
        "print(\"\\nTamaño de X_train + X_val  + X_test : \", len(X_train)+len(X_val)+len(X_test))\n",
        "print(\"\\nTamaño del train: \", len(X_train))\n",
        "print(\"\\nTamaño del test: \", len(X_test))\n",
        "print(\"\\nTamaño del validation: \", len(X_val))\n",
        "print(\"\\nPrimeros elementos del X_train:\")\n",
        "print( X_train[0:4])\n",
        "print(\"\\nPrimeros elementos del X_test:\")\n",
        "print( X_test[0:4])\n",
        "print(\"\\nPrimeros elementos del X_val:\")\n",
        "print( X_val[0:4])\n",
        "print(\"\\nPrimeros elementos del y_train:\")\n",
        "print( y_train[0:4])\n",
        "print(\"\\nPrimeros elementos del y_test:\")\n",
        "print( y_test[0:4])\n",
        "print(\"\\nPrimeros elementos del y_val:\")\n",
        "print( y_val[0:4])"
      ],
      "metadata": {
        "colab": {
          "base_uri": "https://localhost:8080/"
        },
        "id": "BeAhDz5oV__n",
        "outputId": "d1da8d4d-65fa-46ef-c753-5f3dc708a48b"
      },
      "execution_count": null,
      "outputs": [
        {
          "output_type": "stream",
          "name": "stdout",
          "text": [
            "\n",
            "Tamaño de X_train + X_val  + X_test :  69019\n",
            "\n",
            "Tamaño del train:  41411\n",
            "\n",
            "Tamaño del test:  13804\n",
            "\n",
            "Tamaño del validation:  13804\n",
            "\n",
            "Primeros elementos del X_train:\n",
            "          id    age  gender  height  weight  ap_hi  ap_lo  cholesterol  gluc  \\\n",
            "17002  17003  20422       1     158    61.0    110     70            1     1   \n",
            "63048  63049  18240       2     165    78.0    120     80            1     1   \n",
            "32262  32263  21273       2     168    60.0    120     80            3     3   \n",
            "11327  11328  16864       2     168    67.0    120     80            1     1   \n",
            "\n",
            "       smoke  alco  active  \n",
            "17002      0     0       1  \n",
            "63048      0     0       1  \n",
            "32262      1     1       1  \n",
            "11327      0     0       1  \n",
            "\n",
            "Primeros elementos del X_test:\n",
            "          id    age  gender  height  weight  ap_hi  ap_lo  cholesterol  gluc  \\\n",
            "34093  34094  21678       1     159    79.0    160    100            1     1   \n",
            "2741    2742  21918       1     149    49.0    150     90            1     1   \n",
            "64290  64291  16552       2     163    64.0    110     60            1     1   \n",
            "68648  68649  22749       1     164    70.0    150     90            1     3   \n",
            "\n",
            "       smoke  alco  active  \n",
            "34093      0     0       1  \n",
            "2741       0     0       1  \n",
            "64290      0     0       1  \n",
            "68648      0     0       1  \n",
            "\n",
            "Primeros elementos del X_val:\n",
            "          id    age  gender  height  weight  ap_hi  ap_lo  cholesterol  gluc  \\\n",
            "41217  41218  16914       1     168    65.0    120     80            1     1   \n",
            "364      365  15302       1     158    94.0    135     85            1     1   \n",
            "17770  17771  19064       1     169    94.0     90     60            1     1   \n",
            "12465  12466  16067       1     166    78.0    140     80            2     2   \n",
            "\n",
            "       smoke  alco  active  \n",
            "41217      0     0       1  \n",
            "364        0     0       1  \n",
            "17770      1     0       1  \n",
            "12465      0     0       0  \n",
            "\n",
            "Primeros elementos del y_train:\n",
            "17002    0\n",
            "63048    0\n",
            "32262    0\n",
            "11327    0\n",
            "Name: cardio, dtype: int64\n",
            "\n",
            "Primeros elementos del y_test:\n",
            "34093    1\n",
            "2741     1\n",
            "64290    0\n",
            "68648    0\n",
            "Name: cardio, dtype: int64\n",
            "\n",
            "Primeros elementos del y_val:\n",
            "41217    0\n",
            "364      0\n",
            "17770    0\n",
            "12465    1\n",
            "Name: cardio, dtype: int64\n"
          ]
        }
      ]
    },
    {
      "cell_type": "markdown",
      "source": [
        "####Atributo id\n",
        "\n",
        "Tal y como se indicó previamente, se optó por eliminar la variable de id ya que no proporciona información útil  al problema en que nos encontramos, caso contrario como sucedería con series temporales donde el tiempo en que fueron tomadas las muestras cobra una gran relevancia."
      ],
      "metadata": {
        "id": "FqbKP1-jYHIK"
      }
    },
    {
      "cell_type": "code",
      "source": [
        "X_train = X_train.drop('id', 1)\n",
        "X_val = X_val.drop('id', 1)\n",
        "X_test = X_test.drop('id', 1)\n",
        "#Se muestra la cantidad de datos para el train, validation y el test\n",
        "print(X_train.count())\n",
        "print('--------------------')\n",
        "print(X_val.count())\n",
        "print('--------------------')\n",
        "print(X_test.count())\n",
        "\n",
        "# Se almacena en una variable los valores de las nuevas columnas del arreglo X\n",
        "column_names = X_train.columns.values"
      ],
      "metadata": {
        "colab": {
          "base_uri": "https://localhost:8080/"
        },
        "id": "0kuYn7nJY0Pv",
        "outputId": "a9f4e654-3df8-427f-86fc-bf19c5a69645"
      },
      "execution_count": null,
      "outputs": [
        {
          "output_type": "stream",
          "name": "stdout",
          "text": [
            "age            41411\n",
            "gender         41411\n",
            "height         41411\n",
            "weight         41411\n",
            "ap_hi          41411\n",
            "ap_lo          41411\n",
            "cholesterol    41411\n",
            "gluc           41411\n",
            "smoke          41411\n",
            "alco           41411\n",
            "active         41411\n",
            "dtype: int64\n",
            "--------------------\n",
            "age            13804\n",
            "gender         13804\n",
            "height         13804\n",
            "weight         13804\n",
            "ap_hi          13804\n",
            "ap_lo          13804\n",
            "cholesterol    13804\n",
            "gluc           13804\n",
            "smoke          13804\n",
            "alco           13804\n",
            "active         13804\n",
            "dtype: int64\n",
            "--------------------\n",
            "age            13804\n",
            "gender         13804\n",
            "height         13804\n",
            "weight         13804\n",
            "ap_hi          13804\n",
            "ap_lo          13804\n",
            "cholesterol    13804\n",
            "gluc           13804\n",
            "smoke          13804\n",
            "alco           13804\n",
            "active         13804\n",
            "dtype: int64\n"
          ]
        },
        {
          "output_type": "stream",
          "name": "stderr",
          "text": [
            "/usr/local/lib/python3.7/dist-packages/ipykernel_launcher.py:1: FutureWarning: In a future version of pandas all arguments of DataFrame.drop except for the argument 'labels' will be keyword-only\n",
            "  \"\"\"Entry point for launching an IPython kernel.\n",
            "/usr/local/lib/python3.7/dist-packages/ipykernel_launcher.py:2: FutureWarning: In a future version of pandas all arguments of DataFrame.drop except for the argument 'labels' will be keyword-only\n",
            "  \n",
            "/usr/local/lib/python3.7/dist-packages/ipykernel_launcher.py:3: FutureWarning: In a future version of pandas all arguments of DataFrame.drop except for the argument 'labels' will be keyword-only\n",
            "  This is separate from the ipykernel package so we can avoid doing imports until\n"
          ]
        }
      ]
    },
    {
      "cell_type": "markdown",
      "source": [
        "####Escalamiento de los datos"
      ],
      "metadata": {
        "id": "V41Z_TS2ZUoB"
      }
    },
    {
      "cell_type": "code",
      "source": [
        "# Escalar datos\n",
        "scaler = StandardScaler()\n",
        "transformer = scaler.fit(X_train)\n",
        "#Se deben escalar tanto train, val y test\n",
        "X_train = transformer.transform( X_train)\n",
        "X_val = transformer.transform( X_val)\n",
        "X_test = transformer.transform( X_test)\n",
        "print(\"Primeros X_train: \", X_train[0:1])\n",
        "print(\"Primeros X_train: \", X_val[0:1])\n",
        "print(\"Primeros X_test: \", X_test[0:1])"
      ],
      "metadata": {
        "colab": {
          "base_uri": "https://localhost:8080/"
        },
        "id": "DCUzgntBZaEZ",
        "outputId": "6a80259f-529b-456e-c27e-bb42f3922679"
      },
      "execution_count": null,
      "outputs": [
        {
          "output_type": "stream",
          "name": "stdout",
          "text": [
            "Primeros X_train:  [[ 0.38716986 -0.73688448 -0.78579262 -0.92227278 -0.94870499 -0.22156063\n",
            "  -0.53914189 -0.39801146 -0.31225542 -0.23629946  0.49440175]]\n",
            "Primeros X_train:  [[-1.03403666 -0.73688448  0.44222334 -0.64296392 -0.38018436 -0.12935355\n",
            "  -0.53914189 -0.39801146 -0.31225542 -0.23629946  0.49440175]]\n",
            "Primeros X_test:  [[ 0.89601689 -0.73688448 -0.66299102  0.33461709  1.89389817  0.05506062\n",
            "  -0.53914189 -0.39801146 -0.31225542 -0.23629946  0.49440175]]\n"
          ]
        }
      ]
    },
    {
      "cell_type": "markdown",
      "source": [
        "####Guardar el archivo después del pre-procesamiento"
      ],
      "metadata": {
        "id": "4SjKoXKmZ0ME"
      }
    },
    {
      "cell_type": "code",
      "source": [
        "from pathlib import Path\n",
        "\n",
        "#JUNTAR XTRAIN,YTRAIN, XTEST,YTEST XVAL,YVAL\n",
        "new_columns_names = np.append(column_names,'cardio')\n",
        "print(new_columns_names)\n",
        "\n",
        "X_concat = np.concatenate((X_train, X_val,X_test), axis=0)\n",
        "\n",
        "Y_concat = np.concatenate((y_train,y_val,y_test), axis=0)\n",
        "#Se convierte a matriz y luego se hace columna\n",
        "Y_concat = np.asmatrix(Y_concat)\n",
        "Y_concat = np.transpose(Y_concat)\n",
        "#Se agrega la columna de Y \n",
        "data = np.concatenate((X_concat,Y_concat), axis=1)\n",
        "\n",
        "#Guardar el dataset en un csv\n",
        "X_df = pd.DataFrame(data = data, columns = new_columns_names)\n",
        "X_df.to_csv(\"cardioPROCESADO.csv\",index=False,sep= \";\")"
      ],
      "metadata": {
        "colab": {
          "base_uri": "https://localhost:8080/"
        },
        "id": "RpLrZ9l7Z_S_",
        "outputId": "74a2f1e8-4b7f-4bf7-b13d-c4a4a62006a2"
      },
      "execution_count": null,
      "outputs": [
        {
          "output_type": "stream",
          "name": "stdout",
          "text": [
            "['age' 'gender' 'height' 'weight' 'ap_hi' 'ap_lo' 'cholesterol' 'gluc'\n",
            " 'smoke' 'alco' 'active' 'cardio']\n"
          ]
        }
      ]
    },
    {
      "cell_type": "markdown",
      "source": [
        "###Diseño experimental"
      ],
      "metadata": {
        "id": "7-vPVne3aYtF"
      }
    },
    {
      "cell_type": "markdown",
      "source": [
        "####Métricas a utilizar\n",
        "\n",
        "Para el siguiente diseño experimental se propone utilizar las siguientes métricas, sacando provecho de sus implementaciones en la biblioteca de sklearn.\n",
        "\n",
        "*   Accuracy: En el caso de clasificaciones binarias, como es el contexto de este problema, sklearn ejecuta el accuracy de forma exacta como lo hace \n",
        "*   ROC_AUC:"
      ],
      "metadata": {
        "id": "bxBk6ZrtT0Qr"
      }
    },
    {
      "cell_type": "markdown",
      "source": [
        "#### Algoritmo #1 - Support Vector Machines (SVM)\n",
        "\n",
        "SVMs constituye un conjunto de métodos para realizar aprendizaje supervisado, en escenarios de clasificación, regresión y detección de outliers. Dentro de los principales beneficios de utilizar esta familia de algoritmos, se pueden mencionar los siguientes:\n",
        "\n",
        "\n",
        "\n",
        "*   Efectivos en espacios de muchas dimensiones\n",
        "*   Eficiente en términos de manejo de memoria\n",
        "*   Flexible a la hora de seleccionar los tipos función de kernel que se pueden incorporar en la función de toma de decisiones\n",
        "\n",
        "De igual forma es necesario tener cuidado con el conjunto de datos que se vaya a predecir, ya que si el número de características de los datos es mucho mayor que el número de muestras obtenidas, la selección del tipo de kernel y la regularización utilizada se vuelven cruciales para obtener resultados adecuados.\n",
        "\n",
        "SVM incluye las clases denomindas SVC, NuSVC y LinearSVC para efectuar clasificación tanto binaria como multiclases. Las dos primeras son muy similares pero utilizan formulaciones matemáticas distintas, y aceptan parámetros de configuración diferentes. Por su parte LinearSVC, representa otra implementación de SVC (Support Vector Classification) que utiliza por defecto un kernel de tipo lineal. Al igual que la mayoría de clasificadores, cualquiera de las clases mencionadas de SVC recibe como parámetro de entrada dos conjuntos, las muestras de training que corresponden con un arreglo de entrenamiento denominado **X**, de tamaño (numero_muestras, numero_caracteristicas), y un conjunto **Y** que representa las etiquetas de los tipos de clases que se van a predecir (con soporte para strings o valores enteros). El proceso de ajuste y modelado por medio de la función de decisión, se basa en el uso de vectores de soporte que el algoritmo obtiene dentro del mismo conjunto de entrenamiento. \n",
        "\n"
      ],
      "metadata": {
        "id": "9Rlkjw92sJXK"
      }
    },
    {
      "cell_type": "markdown",
      "source": [
        "####Validación de hiperparámetros\n",
        "\n",
        "En nuestro caso se optó por utilizar la clase de SVC. Dentro de los hiperparámetros de mayor importancia con que cuenta el modelo se encuentran:\n",
        "\n",
        "\n",
        "*   C: Parámetro de regularización utilizado por sklearn. Aquí C es el parámetro de penalización, que representa clasificación errónea o término de error. El término de clasificación errónea o error le dice a la optimización de SVM cuánto error es soportable. Así es como puede controlar el equilibrio entre el límite de decisión y el término de clasificación errónea.\n",
        "\n",
        "*   Gamma: Un valor más bajo de Gamma se ajustará libremente al conjunto de datos de entrenamiento, mientras que un valor más alto de gamma se ajustará exactamente al conjunto de datos de entrenamiento, lo que provoca un ajuste excesivo. En otras palabras, debe existir un balance en el parámetro seleccionado para que se ajuste de buena manera al conjunto de datos utilizado. Por defecto su valor es de 1 / (n_atributos * X.var()).\n",
        "\n",
        "*   Kernel: La función principal del kernel es transformar los datos de entrada del conjunto de datos dados en la forma requerida. Hay varios tipos de funciones, como funciones de base lineales, polinómicas y radiales (RBF).\n",
        "\n",
        "\n",
        "\n"
      ],
      "metadata": {
        "id": "SP-aQaoKtoqd"
      }
    },
    {
      "cell_type": "code",
      "source": [
        "# Se declaran arreglos y diccionarios donde se almacenan los resultados obtenidos\n",
        "matrizPredicciones = []\n",
        "diccMetricas = {}"
      ],
      "metadata": {
        "id": "lcqroVTlHVNP"
      },
      "execution_count": null,
      "outputs": []
    },
    {
      "cell_type": "code",
      "source": [
        "import math\n",
        "# Función auxiliar que permite obtener la mejor métrica a partir de un arreglo ingresado a la entrada\n",
        "def getBestMetric(resultados):\n",
        "    mejor = math.inf\n",
        "    elMejor = 0.0\n",
        "    for e in resultados:\n",
        "        if resultados[e] < mejor:\n",
        "            mejor = resultados[e]\n",
        "            elMejor = e\n",
        "    return mejor, elMejor"
      ],
      "metadata": {
        "id": "lriMrmpz74m8"
      },
      "execution_count": null,
      "outputs": []
    },
    {
      "cell_type": "markdown",
      "source": [
        "####Cross validation\n",
        "\n",
        "A continuación se realiza un cross validation con 5 Folds. La idea es utilizar el conjunto de datos de validación para encontrar los hiperparámetros que mejor optimicen el modelo, a la hora de ejecutar el algoritmo con los conjuntos de entrenamiento y testing. Para el caso del SVC se validan los parámetros de gamma y C. En el caso del kernel se utiliza por defecto el linear, ya que al hacer pruebas con otro tipo de kernels los tiempos requeridos de ejecución eran computacionalmente grandes, lo cual dificultaba el desarrollo de un diseño experimental con un cross validation donde se validen múltiples parámetros de kernel ingresados."
      ],
      "metadata": {
        "id": "IEoHSuGtSM6Y"
      }
    },
    {
      "cell_type": "code",
      "source": [
        "from numpy.random.mtrand import shuffle\n",
        "from sklearn.model_selection import KFold\n",
        "from sklearn import metrics\n",
        "\n",
        "numFolds = 5\n",
        "gammas = [1,0.1,0.01, 0.001, 0.0001] #Valores de gamma que se van a validar\n",
        "c_values = [0.1,1,5,8,10] # Valores de C que se van a validar\n",
        "resultados_gammas1 = {}\n",
        "resultados_gammas2 = {}\n",
        "resultados_c1 = {}\n",
        "resultados_c2 = {}\n",
        "\n",
        "for i in range(numFolds):\n",
        "    kf = KFold(n_splits=numFolds,\n",
        "              shuffle=True,\n",
        "              random_state=10)\n",
        "\n",
        "    resultados_metric1_gamma = []\n",
        "    resultados_metric2_gamma = []\n",
        "    resultados_metric1_c = []\n",
        "    resultados_metric2_c = []\n",
        "    kf.get_n_splits(X_val)\n",
        "    keysY = y_val.keys()\n",
        "\n",
        "    for train_index, val_index in kf.split(X_val): \n",
        "\n",
        "        X_train_tmp = X_val[train_index]\n",
        "        X_val_tmp = X_val[val_index]\n",
        "        y_train_tmp = y_val[keysY[train_index]]\n",
        "        y_val_tmp = y_val[keysY[val_index]]   \n",
        "\n",
        "        #Se ejecuta el modelo con cada uno de los gammas, utilizando el conjunto de validación\n",
        "        # Se guardan resultados para ambas métricas, tanto Accuracy, como ROC_AUC\n",
        "        clf = svm.SVC(kernel='linear', gamma=gammas[i])\n",
        "        clf.fit(X_train_tmp, y_train_tmp)\n",
        "        y_pred = clf.predict(X_val_tmp)\n",
        "        metric1 = metrics.accuracy_score(y_val_tmp, y_pred)    \n",
        "        resultados_metric1_gamma.append( metric1)\n",
        "        metric2 = metrics.roc_auc_score(y_val_tmp, y_pred)    \n",
        "        resultados_metric2_gamma.append( metric2)\n",
        "\n",
        "        #Se ejecuta el modelo con cada uno de los valores de C, utilizando el conjunto de validación\n",
        "        # Se guardan resultados para ambas métricas, tanto Accuracy, como ROC_AUC\n",
        "        clf = svm.SVC(kernel='linear', C=c_values[i])\n",
        "        clf.fit(X_train_tmp, y_train_tmp)\n",
        "        y_pred = clf.predict(X_val_tmp)\n",
        "        metric1 = metrics.accuracy_score(y_val_tmp, y_pred)    \n",
        "        resultados_metric1_c.append( metric1)\n",
        "        metric2 = metrics.roc_auc_score(y_val_tmp, y_pred)    \n",
        "        resultados_metric2_c.append( metric2)\n",
        "\n",
        "    promedio_metric1_gamma = sum(resultados_metric1_gamma) / len(resultados_metric1_gamma)\n",
        "    promedio_metric2_gamma = sum(resultados_metric2_gamma) / len(resultados_metric2_gamma)\n",
        "    promedio_metric1_c = sum(resultados_metric1_c) / len(resultados_metric1_c)\n",
        "    promedio_metric2_c = sum(resultados_metric2_c) / len(resultados_metric2_c)\n",
        "    print(\"\\nMétricas obtenidas en cross-validation para gamma de: \", gammas[i], \" Accuracy: \", resultados_metric1_gamma, \n",
        "              \"     con un promedio de: \", promedio_metric1_gamma)\n",
        "    print(\"\\nMétricas obtenidas en cross-validation para gamma de: \", gammas[i], \" ROC_AUC: \", resultados_metric2_gamma, \n",
        "              \"     con un promedio de: \", promedio_metric2_gamma)\n",
        "    \n",
        "\n",
        "\n",
        "    resultados_gammas1[gammas[i]] = promedio_metric1_gamma\n",
        "    resultados_gammas2[gammas[i]] = promedio_metric2_gamma\n",
        "\n",
        "    print(\"\\nMétricas obtenidas en cross-validation para C de: \", c_values[i], \" Accuracy: \", resultados_metric1_c, \n",
        "              \"     con un promedio de: \", promedio_metric1_c)\n",
        "    print(\"\\nMétricas obtenidas en cross-validation para C de: \", c_values[i], \" ROC_AUC: \", resultados_metric2_c, \n",
        "              \"     con un promedio de: \", promedio_metric2_c)\n",
        "    \n",
        "    resultados_c1[c_values[i]] = promedio_metric1_c\n",
        "    resultados_c2[c_values[i]] = promedio_metric2_c\n",
        "\n",
        "print('-----------------------------------------------------------------------')\n",
        "print(\"\\nResultados del Train-Validation: \")\n",
        "mejor_metrica, mejor_gamma = getBestMetric(resultados_gammas1)\n",
        "print(\"\\nMejor valor de accuracy en Train-Validation: \", mejor_metrica,\", Gamma: \", mejor_gamma)\n",
        "mejor_metrica, mejor_gamma = getBestMetric(resultados_gammas2)\n",
        "print(\"\\nMejor valor de ROC_AUC en Train-Validation: \", mejor_metrica,\", Gamma: \", mejor_gamma)  \n",
        "\n",
        "\n",
        "mejor_metrica, mejor_c = getBestMetric(resultados_c1)\n",
        "print(\"\\nMejor valor de accuracy en Train-Validation: \", mejor_metrica,\", C: \", mejor_c)\n",
        "mejor_metrica, mejor_c = getBestMetric(resultados_c2)\n",
        "print(\"\\nMejor valor de ROC_AUC en Train-Validation: \", mejor_metrica,\", C: \", mejor_c)"
      ],
      "metadata": {
        "colab": {
          "base_uri": "https://localhost:8080/"
        },
        "id": "uvyaSoCpy7oM",
        "outputId": "ac6bb5d9-bd4c-434a-945a-373f4361c49a"
      },
      "execution_count": null,
      "outputs": [
        {
          "output_type": "stream",
          "name": "stdout",
          "text": [
            "\n",
            "Métricas obtenidas en cross-validation para gamma de:  1  Accuracy:  [0.7164070988772184, 0.7171314741035857, 0.723650851140891, 0.7250996015936255, 0.7202898550724638]      con un promedio de:  0.7205157761575569\n",
            "\n",
            "Métricas obtenidas en cross-validation para gamma de:  1  ROC_AUC:  [0.7145731581842845, 0.7199271802577587, 0.7217145707011051, 0.7247503607503607, 0.7217902470487143]      con un promedio de:  0.7205511033884446\n",
            "\n",
            "Métricas obtenidas en cross-validation para C de:  0.1  Accuracy:  [0.7160449112640348, 0.7174936617167693, 0.7232886635277074, 0.7247374139804419, 0.7206521739130435]      con un promedio de:  0.7204433648803994\n",
            "\n",
            "Métricas obtenidas en cross-validation para C de:  0.1  ROC_AUC:  [0.71421829658031, 0.7202768306074091, 0.7213602120901909, 0.7243896103896104, 0.7221468804295988]      con un promedio de:  0.7204783660194238\n",
            "\n",
            "Métricas obtenidas en cross-validation para gamma de:  0.1  Accuracy:  [0.7164070988772184, 0.7171314741035857, 0.723650851140891, 0.7250996015936255, 0.7202898550724638]      con un promedio de:  0.7205157761575569\n",
            "\n",
            "Métricas obtenidas en cross-validation para gamma de:  0.1  ROC_AUC:  [0.7145731581842845, 0.7199271802577587, 0.7217145707011051, 0.7247503607503607, 0.7217902470487143]      con un promedio de:  0.7205511033884446\n",
            "\n",
            "Métricas obtenidas en cross-validation para C de:  1  Accuracy:  [0.7164070988772184, 0.7171314741035857, 0.723650851140891, 0.7250996015936255, 0.7202898550724638]      con un promedio de:  0.7205157761575569\n",
            "\n",
            "Métricas obtenidas en cross-validation para C de:  1  ROC_AUC:  [0.7145731581842845, 0.7199271802577587, 0.7217145707011051, 0.7247503607503607, 0.7217902470487143]      con un promedio de:  0.7205511033884446\n",
            "\n",
            "Métricas obtenidas en cross-validation para gamma de:  0.01  Accuracy:  [0.7164070988772184, 0.7171314741035857, 0.723650851140891, 0.7250996015936255, 0.7202898550724638]      con un promedio de:  0.7205157761575569\n",
            "\n",
            "Métricas obtenidas en cross-validation para gamma de:  0.01  ROC_AUC:  [0.7145731581842845, 0.7199271802577587, 0.7217145707011051, 0.7247503607503607, 0.7217902470487143]      con un promedio de:  0.7205511033884446\n",
            "\n",
            "Métricas obtenidas en cross-validation para C de:  5  Accuracy:  [0.7164070988772184, 0.7171314741035857, 0.723650851140891, 0.7250996015936255, 0.7195652173913043]      con un promedio de:  0.7203708486213249\n",
            "\n",
            "Métricas obtenidas en cross-validation para C de:  5  ROC_AUC:  [0.7145731581842845, 0.7199271802577587, 0.7217145707011051, 0.7247503607503607, 0.7210769802869454]      con un promedio de:  0.7204084500360909\n",
            "\n",
            "Métricas obtenidas en cross-validation para gamma de:  0.001  Accuracy:  [0.7164070988772184, 0.7171314741035857, 0.723650851140891, 0.7250996015936255, 0.7202898550724638]      con un promedio de:  0.7205157761575569\n",
            "\n",
            "Métricas obtenidas en cross-validation para gamma de:  0.001  ROC_AUC:  [0.7145731581842845, 0.7199271802577587, 0.7217145707011051, 0.7247503607503607, 0.7217902470487143]      con un promedio de:  0.7205511033884446\n",
            "\n",
            "Métricas obtenidas en cross-validation para C de:  8  Accuracy:  [0.7153205360376675, 0.7171314741035857, 0.723650851140891, 0.7247374139804419, 0.7195652173913043]      con un promedio de:  0.7200810985307781\n",
            "\n",
            "Métricas obtenidas en cross-validation para C de:  8  ROC_AUC:  [0.7135085733723612, 0.7199271802577587, 0.7217145707011051, 0.7243896103896104, 0.7210769802869454]      con un promedio de:  0.7201233830015561\n",
            "\n",
            "Métricas obtenidas en cross-validation para gamma de:  0.0001  Accuracy:  [0.7164070988772184, 0.7171314741035857, 0.723650851140891, 0.7250996015936255, 0.7202898550724638]      con un promedio de:  0.7205157761575569\n",
            "\n",
            "Métricas obtenidas en cross-validation para gamma de:  0.0001  ROC_AUC:  [0.7145731581842845, 0.7199271802577587, 0.7217145707011051, 0.7247503607503607, 0.7217902470487143]      con un promedio de:  0.7205511033884446\n",
            "\n",
            "Métricas obtenidas en cross-validation para C de:  10  Accuracy:  [0.7164070988772184, 0.7171314741035857, 0.723650851140891, 0.7250996015936255, 0.7195652173913043]      con un promedio de:  0.7203708486213249\n",
            "\n",
            "Métricas obtenidas en cross-validation para C de:  10  ROC_AUC:  [0.7145731581842845, 0.7199271802577587, 0.7217145707011051, 0.7247503607503607, 0.7210769802869454]      con un promedio de:  0.7204084500360909\n",
            "-----------------------------------------------------------------------\n",
            "\n",
            "Resultados del Train-Validation: \n",
            "\n",
            "Mejor valor de accuracy en Train-Validation:  0.7205157761575569 , Gamma:  1\n",
            "\n",
            "Mejor valor de ROC_AUC en Train-Validation:  0.7205511033884446 , Gamma:  1\n",
            "\n",
            "Mejor valor de accuracy en Train-Validation:  0.7200810985307781 , C:  8\n",
            "\n",
            "Mejor valor de ROC_AUC en Train-Validation:  0.7201233830015561 , C:  8\n"
          ]
        }
      ]
    },
    {
      "cell_type": "code",
      "source": [
        "#Entrenar y predecir con los mejores parámetros\n",
        "clf = svm.SVC(kernel='linear', C=mejor_c, gamma=mejor_gamma)\n",
        "clf.fit(X_train, y_train)\n",
        "y_pred = clf.predict(X_test)\n",
        "#Se agrega a la matriz de predicciones\n",
        "matrizPredicciones.append(y_pred)\n",
        "#Mostrar las métricas y Agregar al diccionario de métricas\n",
        "Accuracy = metrics.accuracy_score(y_test, y_pred)\n",
        "ROC_AUC = metrics.roc_auc_score(y_test, y_pred)\n",
        "print('Accuracy', Accuracy)\n",
        "print('ROC_AUC', ROC_AUC)\n",
        "diccMetricas['SVC'] = [Accuracy,ROC_AUC]"
      ],
      "metadata": {
        "id": "IckNaRLMa8xI",
        "colab": {
          "base_uri": "https://localhost:8080/"
        },
        "outputId": "8875383a-29d5-4368-9682-0f332b5ff64a"
      },
      "execution_count": null,
      "outputs": [
        {
          "output_type": "stream",
          "name": "stdout",
          "text": [
            "Accuracy 0.7208055636047522\n",
            "ROC_AUC 0.7206301400781504\n"
          ]
        }
      ]
    },
    {
      "cell_type": "markdown",
      "source": [
        "#### Algoritmo #2 - Ensemble Bagging Classifier\n",
        "\n",
        "Un clasificador de Bagging es un meta-estimador de conjunto que ajusta los clasificadores base a subconjuntos aleatorios del conjunto de datos original y luego agrega sus predicciones individuales (ya sea mediante votación o promediando) para formar una predicción final. Un meta-estimador de este tipo se puede utilizar típicamente como una forma de reducir la varianza de un estimador de caja negra, introduciendo la aleatoriedad en su procedimiento de construcción y luego convirtiéndolo en un conjunto.\n",
        "\n"
      ],
      "metadata": {
        "id": "aRvlYiFgkPyJ"
      }
    },
    {
      "cell_type": "markdown",
      "source": [
        "####Validación de hiperparámetros \n",
        "\n",
        "*  Base_estimator: Corresponde con el estimador base para ajustarse a subconjuntos aleatorios del conjunto de datos. Si no se ingresa ningún parámetro, entonces el estimador base por defecto es DecisionTreeClassifier. El cual es el caso de este diseño experimental.\n",
        "\n",
        "*  Num_estimators:  El número de estimadores base que se utilizaran el en \"ensemble\" o conjunto que trabaja el algoritmo. Por lo general, la cantidad de árboles aumenta hasta que el rendimiento del modelo se estabiliza. La intuición podría sugerir que más árboles conducirán a un sobreajuste, aunque este no es el caso. El ensemble y el conjunto relacionado de algoritmos de árboles de decisión  parecen ser algo inmunes al sobreajuste del conjunto de datos de entrenamiento dada la naturaleza estocástica del algoritmo de aprendizaje."
      ],
      "metadata": {
        "id": "t7HQMQbXJbEl"
      }
    },
    {
      "cell_type": "code",
      "source": [
        "from sklearn.ensemble import BaggingClassifier\n",
        "\n",
        "numFolds = 5\n",
        "estimators = [2,4,6,8,10] # Número de estimators que se van a validar\n",
        "resultados_estim1 = {}\n",
        "resultados_estim2 = {}\n",
        "\n",
        "\n",
        "for i in range(numFolds):\n",
        "    kf = KFold(n_splits=numFolds,\n",
        "              shuffle=True,\n",
        "              random_state=10)\n",
        "\n",
        "    resultados_metric1_estim = []\n",
        "    resultados_metric2_estim = []\n",
        "    kf.get_n_splits(X_val)\n",
        "    keysY = y_val.keys()\n",
        "\n",
        "    for train_index, val_index in kf.split(X_val): \n",
        "\n",
        "        X_train_tmp = X_val[train_index]\n",
        "        X_val_tmp = X_val[val_index]\n",
        "        y_train_tmp = y_val[keysY[train_index]]\n",
        "        y_val_tmp = y_val[keysY[val_index]]   \n",
        "\n",
        "        #Se ejecuta el modelo con cada uno de los valores posibles de estimators, utilizando el conjunto de validación\n",
        "        # Se guardan resultados para ambas métricas, tanto Accuracy, como ROC_AUC\n",
        "        clf = BaggingClassifier(n_estimators=estimators[i], random_state=0)\n",
        "        clf.fit(X_train_tmp, y_train_tmp)\n",
        "        y_pred = clf.predict(X_val_tmp)\n",
        "        metric1 = metrics.accuracy_score(y_val_tmp, y_pred)    \n",
        "        resultados_metric1_estim.append( metric1)\n",
        "        metric2 = metrics.roc_auc_score(y_val_tmp, y_pred)    \n",
        "        resultados_metric2_estim.append( metric2)\n",
        "\n",
        "\n",
        "    promedio_metric1_estim = sum(resultados_metric1_estim) / len(resultados_metric1_estim)\n",
        "    promedio_metric2_estim = sum(resultados_metric2_estim) / len(resultados_metric2_estim)\n",
        "\n",
        "    print(\"\\nMétricas obtenidas en cross-validation para Num estimators de: \", estimators[i], \" Accuracy: \", resultados_metric1_estim, \n",
        "              \"     con un promedio de: \", promedio_metric1_estim)\n",
        "    print(\"\\nMétricas obtenidas en cross-validation para Num estimators de: \", estimators[i], \" ROC_AUC: \", resultados_metric2_estim, \n",
        "              \"     con un promedio de: \", promedio_metric2_estim)\n",
        "    \n",
        "\n",
        "\n",
        "    resultados_estim1[estimators[i]] = promedio_metric1_estim\n",
        "    resultados_estim2[estimators[i]] = promedio_metric2_estim\n",
        "\n",
        "print('-----------------------------------------------------------------------')\n",
        "print(\"\\nResultados del Train-Validation: \")\n",
        "mejor_metrica, mejor_estim = getBestMetric(resultados_estim1)\n",
        "print(\"\\nMejor valor de accuracy en Train-Validation: \", mejor_metrica,\", Estimators: \", mejor_estim)\n",
        "mejor_metrica, mejor_estim = getBestMetric(resultados_estim2)\n",
        "print(\"\\nMejor valor de ROC_AUC en Train-Validation: \", mejor_metrica,\", Estimators: \", mejor_estim)  \n"
      ],
      "metadata": {
        "colab": {
          "base_uri": "https://localhost:8080/"
        },
        "id": "2x09gQWEKBrO",
        "outputId": "c9871515-67c5-46e1-fe78-53e86f0f5c17"
      },
      "execution_count": null,
      "outputs": [
        {
          "output_type": "stream",
          "name": "stdout",
          "text": [
            "\n",
            "Métricas obtenidas en cross-validation para Num estimators de:  2  Accuracy:  [0.6378123868163709, 0.6287576964867801, 0.6356392611372691, 0.6157189424121695, 0.631159420289855]      con un promedio de:  0.629817541428489\n",
            "\n",
            "Métricas obtenidas en cross-validation para Num estimators de:  2  ROC_AUC:  [0.634605935637764, 0.6351326359590822, 0.6321628999658767, 0.614995670995671, 0.6338735532449961]      con un promedio de:  0.630154139160678\n",
            "\n",
            "Métricas obtenidas en cross-validation para Num estimators de:  4  Accuracy:  [0.6606302064469395, 0.6675117710974284, 0.6693227091633466, 0.6537486417964505, 0.6608695652173913]      con un promedio de:  0.6624165787443113\n",
            "\n",
            "Métricas obtenidas en cross-validation para Num estimators de:  4  ROC_AUC:  [0.6585779918612805, 0.6712188637808473, 0.6674879911804078, 0.6533160173160173, 0.6624241825794835]      con un promedio de:  0.6626050093436073\n",
            "\n",
            "Métricas obtenidas en cross-validation para Num estimators de:  6  Accuracy:  [0.6657008330315103, 0.6762042738138355, 0.6714958348424483, 0.6635277073524085, 0.6764492753623188]      con un promedio de:  0.6706755848805044\n",
            "\n",
            "Métricas obtenidas en cross-validation para Num estimators de:  6  ROC_AUC:  [0.6640696851600657, 0.6788562676992429, 0.6701425309079456, 0.6631890331890332, 0.677505205061568]      con un promedio de:  0.6707525444035711\n",
            "\n",
            "Métricas obtenidas en cross-validation para Num estimators de:  8  Accuracy:  [0.6841724013038754, 0.6827236508511408, 0.6798261499456718, 0.6725823976819992, 0.6771739130434783]      con un promedio de:  0.6792957025652331\n",
            "\n",
            "Métricas obtenidas en cross-validation para Num estimators de:  8  ROC_AUC:  [0.6827660622120687, 0.6848899034849448, 0.6788852140588497, 0.6723203463203463, 0.6781029205069972]      con un promedio de:  0.6793928893166413\n",
            "\n",
            "Métricas obtenidas en cross-validation para Num estimators de:  10  Accuracy:  [0.6794639623324882, 0.688518652662079, 0.6834480260775081, 0.6631655197392249, 0.6818840579710145]      con un promedio de:  0.6792960437564629\n",
            "\n",
            "Métricas obtenidas en cross-validation para Num estimators de:  10  ROC_AUC:  [0.6783623136976579, 0.6904322949777495, 0.6827010000787463, 0.6629494949494948, 0.6827853749850309]      con un promedio de:  0.679446095737736\n",
            "-----------------------------------------------------------------------\n",
            "\n",
            "Resultados del Train-Validation: \n",
            "\n",
            "Mejor valor de accuracy en Train-Validation:  0.629817541428489 , Estimators:  2\n",
            "\n",
            "Mejor valor de ROC_AUC en Train-Validation:  0.630154139160678 , Estimators:  2\n"
          ]
        }
      ]
    },
    {
      "cell_type": "code",
      "source": [
        "#Entrenar y predecir con los mejores parámetros de los estimators\n",
        "clf = BaggingClassifier(n_estimators=mejor_estim, random_state=0)\n",
        "clf.fit(X_train, y_train)\n",
        "y_pred = clf.predict(X_test)\n",
        "#Se agrega a la matriz de predicciones\n",
        "matrizPredicciones.append(y_pred)\n",
        "#Mostrar las métricas y Agregar al diccionario de métricas\n",
        "Accuracy = metrics.accuracy_score(y_test, y_pred)\n",
        "ROC_AUC = metrics.roc_auc_score(y_test, y_pred)\n",
        "print('Accuracy', Accuracy)\n",
        "print('ROC_AUC', ROC_AUC)\n",
        "diccMetricas['BAGGING'] = [Accuracy,ROC_AUC]"
      ],
      "metadata": {
        "colab": {
          "base_uri": "https://localhost:8080/"
        },
        "id": "i7puws4nMiNe",
        "outputId": "80f22c08-f932-4052-b308-26053bb77a32"
      },
      "execution_count": null,
      "outputs": [
        {
          "output_type": "stream",
          "name": "stdout",
          "text": [
            "Accuracy 0.6385830194146624\n",
            "ROC_AUC 0.6382528201366455\n"
          ]
        }
      ]
    },
    {
      "cell_type": "markdown",
      "source": [
        "###Resultados y Conclusiones"
      ],
      "metadata": {
        "id": "feOi9fsBgm4Z"
      }
    },
    {
      "cell_type": "markdown",
      "source": [
        "####Análisis de las métricas obtenidas"
      ],
      "metadata": {
        "id": "-vX4LYkltMl_"
      }
    },
    {
      "cell_type": "code",
      "source": [
        "for key in diccMetricas:\n",
        "  print(key)\n",
        "  print('Accuracy: ', diccMetricas[key][0])\n",
        "  print('ROC_AUC  : ', diccMetricas[key][1])\n",
        "  print('\\n')"
      ],
      "metadata": {
        "colab": {
          "base_uri": "https://localhost:8080/"
        },
        "id": "wh9gTJ62NJBY",
        "outputId": "76ab9ded-2598-4408-cbd9-ea438d39dac8"
      },
      "execution_count": null,
      "outputs": [
        {
          "output_type": "stream",
          "name": "stdout",
          "text": [
            "SVC\n",
            "Accuracy:  0.7208055636047522\n",
            "ROC_AUC  :  0.7206301400781504\n",
            "\n",
            "\n",
            "BAGGING\n",
            "Accuracy:  0.6385830194146624\n",
            "ROC_AUC  :  0.6382528201366455\n",
            "\n",
            "\n"
          ]
        }
      ]
    },
    {
      "cell_type": "markdown",
      "source": [
        "####Conclusiones"
      ],
      "metadata": {
        "id": "lB6ZyUkZtSPq"
      }
    },
    {
      "cell_type": "markdown",
      "metadata": {
        "id": "5NzPQfbcdvpA"
      },
      "source": [
        "___\n",
        "\n",
        "# Parte 2  -  Clustering  (50 puntos)\n",
        "___"
      ]
    },
    {
      "cell_type": "markdown",
      "metadata": {
        "id": "jSCBKorAdvpB"
      },
      "source": [
        "### Considere lo siguiente:\n",
        "1. Conjunto de datos: **descubrir_emociones.csv**\n",
        "1. Este dataset corresponde a pixeles en imágenes, a partir de las cuales se desea descubrir cuántos grupos (clusters) se podrían encontrar. Se cree que son diferentes emociones de las personas en las imágenes (alegría, enojo, tristeza, etc).\n",
        "1. Proponga al menos dos algoritmos a utilizar\n",
        "1. Proponga una métrica, la cual debe ser **interna**.\n",
        "1. Debe presentar en este cuaderno:\n",
        "    1. Pre-procesamiento de los datos, explicando las decisiones en cada caso. Observará que en este caso viene bastante preparado\n",
        "    1. Para cada uno de los algoritmos seleccionados: \n",
        "        1. Explicación del algoritmo.\n",
        "        1. Explicación de la implementación seleccionada y de sus parámetros.\n",
        "    1. Explicación del diseño experimental por ejecutar. En este caso recuerde que es aprendizaje NO Supervisado. Además en cuanto al número de clusters, se cree que es mayor que uno y menor que veinte. \n",
        "    1. Programación del diseño experimental. \n",
        "    1. Muestre en una tabla los resultados de la métrica.\n",
        "    1. Grafique las métrica para ver el criterio del codo.\n",
        "    1. ¿Cuál es el númermo de cluster que considera mejor describe el conjunto de datos? ¿Cómo defendería su recomendación ante su contratante? (Considere en su respuesta los algoritmos que utilizó)"
      ]
    },
    {
      "cell_type": "markdown",
      "source": [
        "##2.1. Preprocesamiento de los datos\n",
        "En esta sección como un paso inicial, se carga se el dataset y se muestra algunas de las imagenes contenidas en este. \n",
        "Como parte del procesamiento, normalmente buscaríamos valores faltantes, outliers, y variables que haya que codificar. Pero para este dataset no es mecesario, pues se trata de pixeles, y todos están completos ya que todas las imágenes tienen la misma dimensión, además todas las variables, sabemos de ante mano que están en un valor de 0 a 255, por lo que no habrán outliers a menos que se haya hecho mal el dataset. \n",
        "\n",
        "Tampoco tenemos que codificar variables pues todas hacen referencia a pixeles. Esto también nos lleva a que no se pueden reducir atributos, al menos no para el problema que queremos resolver con este conjunto, porque nos interesa tener las imagenes completas. \n",
        "\n",
        "De igual forma, no consideramos necesario escalar los datos, porque todos se encuentran entre 0 y 255, son valores que tenemos por seguro que serán así. Si se desea se puede escalar, pero consideramos que no es indispensable en este caso, además de hizo la prueba en otro notebook para comprobar y al graficar el método del codo, la diferencia es mínima, pues si se escalan los datos solo se ve la curva más lisa. "
      ],
      "metadata": {
        "id": "UAdhPqjj-yR1"
      }
    },
    {
      "cell_type": "markdown",
      "source": [
        "--------------------------------------------------"
      ],
      "metadata": {
        "id": "jjqRzHyVOk9p"
      }
    },
    {
      "cell_type": "code",
      "execution_count": null,
      "metadata": {
        "id": "peD59PBjdvpC"
      },
      "outputs": [],
      "source": [
        "%matplotlib inline\n",
        "import pandas as pd\n",
        "import math\n",
        "import matplotlib.pyplot as plt\n",
        "import numpy as np"
      ]
    },
    {
      "cell_type": "code",
      "source": [
        "from google.colab import drive\n",
        "drive.mount('/content/drive')"
      ],
      "metadata": {
        "colab": {
          "base_uri": "https://localhost:8080/"
        },
        "id": "RiIFYW8Xz5xd",
        "outputId": "032f177e-261b-4608-c41c-adb755b84c86"
      },
      "execution_count": null,
      "outputs": [
        {
          "output_type": "stream",
          "name": "stdout",
          "text": [
            "Mounted at /content/drive\n"
          ]
        }
      ]
    },
    {
      "cell_type": "code",
      "source": [
        "emotions_df = pd.read_csv('/content/drive/MyDrive/1 SEMESTRE 2022/IA/Trabajo Práctico 3/descubrir_emociones.csv', header = 0, delimiter=';')  \n",
        "#print(dataset.describe())\n",
        "print(emotions_df.head(2))\n",
        "#Ver las filas\n",
        "#A veces no me cargan todas\n",
        "print(emotions_df.shape[0])"
      ],
      "metadata": {
        "colab": {
          "base_uri": "https://localhost:8080/"
        },
        "id": "QTtNYgL5yl-N",
        "outputId": "1a49ae66-13a9-40bc-c225-d63fcd661aa8"
      },
      "execution_count": null,
      "outputs": [
        {
          "output_type": "stream",
          "name": "stdout",
          "text": [
            "    p1   p2   p3   p4   p5   p6   p7   p8   p9  p10  ...  p2295  p2296  p2297  \\\n",
            "0   70   80   82   72   58   58   60   63   54   58  ...    159    182    183   \n",
            "1  151  150  147  155  148  133  111  140  170  174  ...    105    108     95   \n",
            "\n",
            "   p2298  p2299  p2300  p2301  p2302  p2303  p2304  \n",
            "0    136    106    116     95    106    109     82  \n",
            "1    108    102     67    171    193    183    184  \n",
            "\n",
            "[2 rows x 2304 columns]\n",
            "24568\n"
          ]
        }
      ]
    },
    {
      "cell_type": "markdown",
      "source": [
        "Se crea una función para reconstruir imagenes, en este caso solo se muestra una, pues el objetivo es ver los datos con los que estamos trabajando. "
      ],
      "metadata": {
        "id": "Jpa_iycDqPtC"
      }
    },
    {
      "cell_type": "code",
      "source": [
        "def displayImg(i):\n",
        "  plt.imshow(emotions_df.loc[i].values.reshape(48,48))\n",
        "#Mostrar la imagen en la fila 2457\n",
        "displayImg(2457)"
      ],
      "metadata": {
        "colab": {
          "base_uri": "https://localhost:8080/",
          "height": 267
        },
        "id": "sOFXvwOi_O9i",
        "outputId": "f8a047db-4165-40f8-8046-cb8cdb6ce755"
      },
      "execution_count": null,
      "outputs": [
        {
          "output_type": "display_data",
          "data": {
            "text/plain": [
              "<Figure size 432x288 with 1 Axes>"
            ],
            "image/png": "[encoded data removed]"
          },
          "metadata": {
            "needs_background": "light"
          }
        }
      ]
    },
    {
      "cell_type": "markdown",
      "source": [
        "--------------------------------------------------"
      ],
      "metadata": {
        "id": "UkeMa43QOi7X"
      }
    },
    {
      "cell_type": "markdown",
      "source": [
        "##2.2 Algoritmos de clustering"
      ],
      "metadata": {
        "id": "nKQu50iqT8_J"
      }
    },
    {
      "cell_type": "markdown",
      "source": [
        "En esta sección vamos a presentar el desarrollo y explicación de los algoritmos de Mini-batch K-means clustering y Birch clustering. \n",
        "\n",
        "Se han elegido estos dos porque en general, usar ambos algoritmos derivados de k-means como Mini-batch t Bisecting K-means, no nos permitía aprender mucho más, así que se usó Mini-batch por rapidez. \n",
        "\n",
        "Tampoco pudimos usar los algoritmos de Spectral clustering, pues aunque estos tienen el hiperparámetro que nos interesa, que es el número de clusters, y además son interesantemente buenos con imágenes, pero no se pudo terminar de ejecutar pues después de incluso 10 horas no estaba listo. \n",
        "\n",
        "En el caso de los agglomerative clustering, no se pudo pues no cuentan con hiperparámetros a probar en el análisis experimental. \n",
        "\n",
        "Finalmente se intentó con otro método, que a pesar de no tener el número de clusters, nos podría dar una estimación del mismo, sin embargo es algo lerdo, por lo que solo se logró ejecutarlo con un tercio de los datos para que durara unas cuantas horas, no obstante no es parte de la presente tarea.\n",
        "\n",
        "Por dichas razones se usan los algoritmos de Mini-Batch y Birch. \n"
      ],
      "metadata": {
        "id": "LSA63ikRv3gB"
      }
    },
    {
      "cell_type": "markdown",
      "source": [
        "###2.2.2 Mini-batch K-means Clustering\n",
        "\n",
        "Este algoritmo es una variante del K means visto en clases, solo que utiliza lotes, para reducir el tiempo de cálculo e intenta optimizar la función de objetivo al mismo tiempo.\n",
        "Los mini lotes son muestreados en cada iteración, la desventaja es que muestra peores resultados que el K means, pero con la ventaja de ser más rápido. \n",
        "Otro aspecto de este algortimo es que por cada lote, el centroide asignado, se actualiza, con el promedio de todas las muestras anteriores a ese centroide y a la larga, esto disminuye la tasa de cambio del mismo.\n",
        "\n",
        "Para este ejemplo usamos este algoritmo por su rápidez, ya que otros aunque quizá más exactos, tardan incluso horas, y muchos otros no tenían el hiperparámetro de número de clúster que es requerido en esta tarea. \n",
        "\n",
        "* Con respecto a los hiperparámetros, tenemos el número de clusters, vamos a guardar las métricas cambiando este valor de 2 a 19 clústers. \n",
        "* El método de inicialización, es decir el init, se escogió como K-means++, porque este selecciona los centroides iniciales para el agrupamiento, y lo hace de manera más inteligente. \n",
        "* Max_iter es el número de iteraciones que se hacen sobre el conjunto, el default es 100, pero se dejó 300 para ver si logra mejores resultados.\n",
        "* N_init, número de veces que se ejecutará el algoritmo con semillas de centroide diferente. \n",
        "* Random_state es para la inicialización de los centroides, de manera random. El valor elegido es la semilla.\n",
        "* Por último el batch_size es el tamaño de los mini lotes, en este caso es de 1024 porque es el valor preterminado y porque parece un valor adecuado para asegurar que sea un poco más rápido.\n",
        "\n"
      ],
      "metadata": {
        "id": "ycFBJZL-DPPw"
      }
    },
    {
      "cell_type": "code",
      "source": [
        "from sklearn.cluster import MiniBatchKMeans\n",
        "from sklearn.metrics import calinski_harabasz_score\n",
        "\n",
        "#Sum of squares based indexes\n",
        "SSBI_Batches = []\n",
        "wcss= []\n",
        "#De 2 a 19\n",
        "for i in range(2,20): \n",
        "    miniB_KMeans = MiniBatchKMeans(n_clusters=i, init=\"k-means++\",max_iter=300, n_init=20, random_state=0, batch_size=1024) #max_iter por default es 300\n",
        "    miniB_KMeans.fit(emotions_df)\n",
        "    c_score = calinski_harabasz_score(emotions_df, miniB_KMeans.labels_)\n",
        "    wcss.append(miniB_KMeans.inertia_)\n",
        "    SSBI_Batches.append(c_score)\n"
      ],
      "metadata": {
        "id": "QgkT2tnGDP6A"
      },
      "execution_count": null,
      "outputs": []
    },
    {
      "cell_type": "markdown",
      "source": [
        "#### Método del codo usando WCSS \n",
        "Suma de los cuadrados de las distancias (Within cluster sum of squares), en este caso el algoritmo trae dicha métrica con el atributo inertia_.  \n"
      ],
      "metadata": {
        "id": "PuN2lyIL9giG"
      }
    },
    {
      "cell_type": "code",
      "source": [
        "plt.plot(range(2,20),wcss) \n",
        "plt.title(\"Metodo del codo para Mini batch K-means con WCSS\")\n",
        "plt.xlabel(\"# clusters\")\n",
        "plt.show() "
      ],
      "metadata": {
        "id": "qE2P-8hL-Wkg",
        "colab": {
          "base_uri": "https://localhost:8080/",
          "height": 295
        },
        "outputId": "2b899240-8ae6-4c95-c23f-78d6014021fd"
      },
      "execution_count": null,
      "outputs": [
        {
          "output_type": "display_data",
          "data": {
            "text/plain": [
              "<Figure size 432x288 with 1 Axes>"
            ],
            "image/png": "[encoded data removed]"
          },
          "metadata": {
            "needs_background": "light"
          }
        }
      ]
    },
    {
      "cell_type": "markdown",
      "source": [
        "#### Método del codo usando SSBI \n",
        "Otra métrica que decidimos usar es un indice basado en la suma de cuadrados (Sum of squares based indexes), en este caso más especificamente calinski_harabasz_score que se encuentra en sklearn. \n",
        "Se escogió esta métrica ya que no tenemos los valores reales de las etiquetas, y porque es un buen criterio para la relación de la varianza, en la que una puntuación más alta significa que el modelo tiene clusters mejor definidos. El indice es la relación de la suma de la disperción entre los clusters.  "
      ],
      "metadata": {
        "id": "xnWQu_J0-jDW"
      }
    },
    {
      "cell_type": "code",
      "source": [
        "plt.plot(range(2,20),SSBI_Batches) \n",
        "plt.title(\"Metodo del codo para Mini batch K-means con SSBI\")\n",
        "plt.xlabel(\"# clusters\")\n",
        "plt.show() "
      ],
      "metadata": {
        "colab": {
          "base_uri": "https://localhost:8080/",
          "height": 295
        },
        "id": "7l7eGm3QSO5S",
        "outputId": "57fa73d3-2962-4a10-8cce-b25c7fb53fc2"
      },
      "execution_count": null,
      "outputs": [
        {
          "output_type": "display_data",
          "data": {
            "text/plain": [
              "<Figure size 432x288 with 1 Axes>"
            ],
            "image/png": "[encoded data removed]"
          },
          "metadata": {
            "needs_background": "light"
          }
        }
      ]
    },
    {
      "cell_type": "markdown",
      "source": [
        "#### Guardado de métricas para método del codo en Mini-batch K-means Clustering\n",
        "Se guardan los valores de las métricas usadas, en este caso inertia_, que es una métrica que incluye el modelo y calinski harabasz, ambas para ilustrar la gráfica del codo."
      ],
      "metadata": {
        "id": "D6in6XNwqw7J"
      }
    },
    {
      "cell_type": "code",
      "source": [
        "from joblib import dump\n",
        "dump(SSBI_Batches, 'SSBI_Batches_Kmeans.joblib') \n",
        "dump(wcss, 'wcss_Batches_Kmeans.joblib') "
      ],
      "metadata": {
        "colab": {
          "base_uri": "https://localhost:8080/"
        },
        "id": "Sj2lUHCCqKjx",
        "outputId": "60111ac0-56b3-4bb9-dd60-46d88ed97709"
      },
      "execution_count": null,
      "outputs": [
        {
          "output_type": "execute_result",
          "data": {
            "text/plain": [
              "['wcss_Batches_Kmeans.joblib']"
            ]
          },
          "metadata": {},
          "execution_count": 10
        }
      ]
    },
    {
      "cell_type": "markdown",
      "source": [
        "#### Recuperación de métricas para método del codo en Mini-batch K-means Clustering\n",
        "Los archivos que contienen la información de métricas se encuentran en drive. De manera que solo tenemos que cargarlas aquí para no correr el algoritmo desde cero, ya que en particular algunos aunque no Mini batch, suelen ser muy tardados. "
      ],
      "metadata": {
        "id": "0AmA8d2fCtq_"
      }
    },
    {
      "cell_type": "code",
      "source": [
        "from joblib import load\n",
        "SSBI_Batches = load('/content/drive/MyDrive/1 SEMESTRE 2022/IA/Trabajo Práctico 3/SSBI_Batches_Kmeans.joblib') \n",
        "wcss = load('/content/drive/MyDrive/1 SEMESTRE 2022/IA/Trabajo Práctico 3/wcss_Batches_Kmeans.joblib') "
      ],
      "metadata": {
        "id": "dqkz30WUCAGE"
      },
      "execution_count": null,
      "outputs": []
    },
    {
      "cell_type": "markdown",
      "source": [
        "#### Resultados de las métricas WCSS Y SSBI para Mini-Batch"
      ],
      "metadata": {
        "id": "_hcLMpLWAjWU"
      }
    },
    {
      "cell_type": "code",
      "source": [
        "for i in range(len(wcss)):\n",
        "  print(\"Número de clústers:\", i+2, \" métrica WCSS:\", wcss[i], \" métrica SSBI:\", SSBI_Batches[i])"
      ],
      "metadata": {
        "colab": {
          "base_uri": "https://localhost:8080/"
        },
        "id": "2nr1cd_5Ajx5",
        "outputId": "3af6f3f6-3b8a-4059-b9e1-060aafc8a501"
      },
      "execution_count": null,
      "outputs": [
        {
          "output_type": "stream",
          "name": "stdout",
          "text": [
            "Número de clústers: 2  métrica WCSS: 183202451031.01837  métrica SSBI: 5657.253690167098\n",
            "Número de clústers: 3  métrica WCSS: 171723611834.94717  métrica SSBI: 3861.6757363918655\n",
            "Número de clústers: 4  métrica WCSS: 163172067683.95502  métrica SSBI: 3136.6503315769355\n",
            "Número de clústers: 5  métrica WCSS: 156403111077.88257  métrica SSBI: 2703.3651208526217\n",
            "Número de clústers: 6  métrica WCSS: 153411595583.83008  métrica SSBI: 2315.612658029577\n",
            "Número de clústers: 7  métrica WCSS: 150902526611.58148  métrica SSBI: 2020.1022753477064\n",
            "Número de clústers: 8  métrica WCSS: 148629808927.5461  métrica SSBI: 1811.7498527075645\n",
            "Número de clústers: 9  métrica WCSS: 145450152297.74292  métrica SSBI: 1688.0514423543357\n",
            "Número de clústers: 10  métrica WCSS: 144017435348.67828  métrica SSBI: 1545.3415604830068\n",
            "Número de clústers: 11  métrica WCSS: 142598798158.50568  métrica SSBI: 1425.9942860719889\n",
            "Número de clústers: 12  métrica WCSS: 140751203615.245  métrica SSBI: 1342.318063114689\n",
            "Número de clústers: 13  métrica WCSS: 140674194875.92047  métrica SSBI: 1233.2080103976834\n",
            "Número de clústers: 14  métrica WCSS: 138012664631.25262  métrica SSBI: 1197.029050250561\n",
            "Número de clústers: 15  métrica WCSS: 137412110955.20232  métrica SSBI: 1123.9903500304456\n",
            "Número de clústers: 16  métrica WCSS: 135946842733.7938  métrica SSBI: 1079.2709965442905\n",
            "Número de clústers: 17  métrica WCSS: 134828950060.88876  métrica SSBI: 1030.596840764093\n",
            "Número de clústers: 18  métrica WCSS: 133790763731.62405  métrica SSBI: 989.3139797729144\n",
            "Número de clústers: 19  métrica WCSS: 133311424647.48883  métrica SSBI: 942.0939695259419\n"
          ]
        }
      ]
    },
    {
      "cell_type": "markdown",
      "source": [
        "--------------------------------------------------"
      ],
      "metadata": {
        "id": "WzY-09XaObY2"
      }
    },
    {
      "cell_type": "markdown",
      "source": [
        "###2.2.1 Birch clustering"
      ],
      "metadata": {
        "id": "UoatPOA4pd4O"
      }
    },
    {
      "cell_type": "markdown",
      "source": [
        "Balanced Iterative Reducing and Clustering using Hierarchies (BIRCH) es un algoritmo de agrupamiento que puede agrupar grandes conjuntos de datos generando primero un resumen pequeño y compacto del gran conjunto de datos que conserva la mayor cantidad de información posible. Este resumen más pequeño luego se agrupa en clústeres en lugar de agrupar el conjunto de datos más grande.\n",
        "\n",
        "Este algoritmo usa eficientemente la memoria, y es una alternativa al algoritmo anterior. \n",
        "Pero en el caso de birch, contruye una estructura de datos de árbol con centroides del clúster que se leen de la hoja.\n",
        "\n",
        "\n",
        "* El número de clústers es importante porque es el hiperparámetro que necesitamos para graficar el método del codo.\n",
        "* Compute_labels, por default es true, es para calcular las etiquetas en cada ajuste. \n",
        "* El branching factor, por defecto es 50, y limita el número de subclusters en un nodo. Este valor se dejó así, porque cambiarlo habría que analizar los resultados con otros valores. \n",
        "* Y el threshold o umbral, limita la distancia entre la muestra entrante y los subclusters existentes. Este valor si se escoge muy bajo promueve la división, y viceversa si se escoge alto, por eso se eligió un punto medio. \n"
      ],
      "metadata": {
        "id": "5RpOZmr3pkHp"
      }
    },
    {
      "cell_type": "code",
      "source": [
        "from sklearn.cluster import Birch\n",
        "from sklearn.metrics import calinski_harabasz_score\n",
        "#Sum of squares based indexes\n",
        "SSBI = []\n",
        "\n",
        "#De 2 a 19\n",
        "for i in range(2,20): \n",
        "  birch = Birch(n_clusters=i, compute_labels = True, branching_factor = 50, threshold = 0.5) \n",
        "  birch.fit(emotions_df)\n",
        "  c_score = calinski_harabasz_score(emotions_df, birch.labels_)\n",
        "  SSBI.append(c_score)\n"
      ],
      "metadata": {
        "id": "Lkw6eWbTpkiv"
      },
      "execution_count": null,
      "outputs": []
    },
    {
      "cell_type": "markdown",
      "source": [
        "#### Método del codo usando SSBI \n",
        "Como ya se había explicado en la sección anterior, elegimos esta métrica de calinski_harabasz_score porque se encuentra en sklearn y nos sirve para cuando no tenemos los valores reales de las etiquetas. "
      ],
      "metadata": {
        "id": "zkp41cT-Mj0j"
      }
    },
    {
      "cell_type": "code",
      "source": [
        "plt.plot(range(2,20),SSBI) \n",
        "plt.title(\"Metodo del codo para Birch clustering\")\n",
        "plt.xlabel(\"Número de clústers\")\n",
        "plt.show() "
      ],
      "metadata": {
        "colab": {
          "base_uri": "https://localhost:8080/",
          "height": 295
        },
        "id": "ZRWh8JeJMhKu",
        "outputId": "05bfc64c-9d84-4e51-ad24-0eb54c5d423f"
      },
      "execution_count": null,
      "outputs": [
        {
          "output_type": "display_data",
          "data": {
            "text/plain": [
              "<Figure size 432x288 with 1 Axes>"
            ],
            "image/png": "[encoded data removed]"
          },
          "metadata": {
            "needs_background": "light"
          }
        }
      ]
    },
    {
      "cell_type": "markdown",
      "source": [
        "#### Guardado de métricas para método del codo en Birch clustering\n",
        "Se guardan los valores de las métricas usadas, en este caso calinski Harabasz, que es una métrica elegida pues este modelo no cuenta con una definida, como en el caso de Mini-batch k-means."
      ],
      "metadata": {
        "id": "RF2nTtskDaus"
      }
    },
    {
      "cell_type": "code",
      "source": [
        "from joblib import dump, load\n",
        "dump(SSBI, 'SSBI_Birch.joblib') \n"
      ],
      "metadata": {
        "colab": {
          "base_uri": "https://localhost:8080/"
        },
        "id": "nHdd2c-nr22G",
        "outputId": "272d3b77-3b00-4e7f-ed90-72cd54ddb203"
      },
      "execution_count": null,
      "outputs": [
        {
          "output_type": "execute_result",
          "data": {
            "text/plain": [
              "['SSBI_Birch.joblib']"
            ]
          },
          "metadata": {},
          "execution_count": 12
        }
      ]
    },
    {
      "cell_type": "markdown",
      "source": [
        "#### Recuperación de métricas para método del codo en Birch clustering\n",
        "Los archivos que contienen la información de métricas se encuentran en drive. De manera que solo tenemos que cargarlas aquí para no correr el algoritmo desde cero para obtenerlas, ya que en particular algunos algoritmos suelen ser muy tardados, como fue el caso de este con aproximadamente 5 horas. "
      ],
      "metadata": {
        "id": "BmF-s05hD__E"
      }
    },
    {
      "cell_type": "code",
      "source": [
        "from joblib import load\n",
        "SSBI = load('/content/drive/MyDrive/1 SEMESTRE 2022/IA/Trabajo Práctico 3/SSBI_Birch.joblib') \n"
      ],
      "metadata": {
        "id": "z0rCqVhGKHai"
      },
      "execution_count": null,
      "outputs": []
    },
    {
      "cell_type": "markdown",
      "source": [
        "#### Resultados de la métrica SSBI para Birch"
      ],
      "metadata": {
        "id": "4Wz_cI9FNvMx"
      }
    },
    {
      "cell_type": "code",
      "source": [
        "for i in range(len(SSBI)):\n",
        "  print(\"Número de clústers:\", i+2, \" métrica SSBI:\", SSBI[i])"
      ],
      "metadata": {
        "id": "iwswhXV-pqUb",
        "colab": {
          "base_uri": "https://localhost:8080/"
        },
        "outputId": "0eea6e0d-ea26-46d6-98f7-55a8c78a6e29"
      },
      "execution_count": null,
      "outputs": [
        {
          "output_type": "stream",
          "name": "stdout",
          "text": [
            "Número de clústers: 2  métrica SSBI: 4645.300767972804\n",
            "Número de clústers: 3  métrica SSBI: 3227.4087552663927\n",
            "Número de clústers: 4  métrica SSBI: 2490.804700605051\n",
            "Número de clústers: 5  métrica SSBI: 2065.2963364180423\n",
            "Número de clústers: 6  métrica SSBI: 1799.837396664531\n",
            "Número de clústers: 7  métrica SSBI: 1597.5154628394953\n",
            "Número de clústers: 8  métrica SSBI: 1440.1079574853766\n",
            "Número de clústers: 9  métrica SSBI: 1324.1741926471777\n",
            "Número de clústers: 10  métrica SSBI: 1231.9092697676144\n",
            "Número de clústers: 11  métrica SSBI: 1145.3670134345566\n",
            "Número de clústers: 12  métrica SSBI: 1073.5304128733544\n",
            "Número de clústers: 13  métrica SSBI: 1010.3417682438119\n",
            "Número de clústers: 14  métrica SSBI: 957.7757832338375\n",
            "Número de clústers: 15  métrica SSBI: 911.6180090196063\n",
            "Número de clústers: 16  métrica SSBI: 867.6880629137272\n",
            "Número de clústers: 17  métrica SSBI: 828.93829592115\n",
            "Número de clústers: 18  métrica SSBI: 791.8783945033416\n",
            "Número de clústers: 19  métrica SSBI: 758.7564934150467\n"
          ]
        }
      ]
    },
    {
      "cell_type": "markdown",
      "source": [
        "--------------------------------------------------"
      ],
      "metadata": {
        "id": "pGqiJMJ1OS2O"
      }
    },
    {
      "cell_type": "markdown",
      "source": [
        "##2.3 Diseño experimental \n",
        "\n",
        "En esta sección el objetivo es escoger uno de los hiperparámetros de los algoritmos y hacer un diseño experimental que implique probar diferentes valores para este y analizar los valores que da determinada métrica, haciendo cambios en el hiperparámetro. \n",
        "\n",
        "A continuación se muestran dos funciones que usan ambos diseños experimentales, una para ver el mejor hiperparámetro. Y otra para imprimir todas las métricas. \n",
        "\n",
        "Para ambos modelos, usamos silhouette score, métrica que también es interna y encontramos en sklearn. También es una métrica que podemos usar cuando no tenemos los labels reales. Se calcula usando la distancia media dentro del grupo y la distancia media del grupo más cercano para cada muestra. \n",
        "\n",
        "Es decir, es la distancia entre una muestra y el grupo más cercano del que la muestra no forma parte. El mejor valor es 1 y el peor es -1 indicando que se ha asignado incorrectamente algunos clústers. Valores cercanos a 0 indican clústeres superpuestos. "
      ],
      "metadata": {
        "id": "KFWaCIT2XXQH"
      }
    },
    {
      "cell_type": "code",
      "source": [
        "#Funcion que devuelve el mejor hiperparametro, según las métricas obtenidas\n",
        "def getBetter(hyperameter,metrics):\n",
        "  index = 0\n",
        "  high = 0\n",
        "  for m in range(len(metrics)):\n",
        "    if metrics[m]>high:\n",
        "      high = metrics[m]\n",
        "      index = m\n",
        "  return hyperameter[index]\n"
      ],
      "metadata": {
        "id": "W8tFkM8H6qLt"
      },
      "execution_count": null,
      "outputs": []
    },
    {
      "cell_type": "code",
      "source": [
        "def imprimirMetricas(hyperameter,metrics):\n",
        "  for h in range(len(hyperameter)):\n",
        "    print(\"Para el hiperparámetro\",hyperameter[h], \"la métrica interna de silhouette coefficient es\",metrics[h] )"
      ],
      "metadata": {
        "id": "xe-9yU-GW3Eg"
      },
      "execution_count": null,
      "outputs": []
    },
    {
      "cell_type": "markdown",
      "source": [
        "--------------------------------------------------"
      ],
      "metadata": {
        "id": "wc-14XRFeBOR"
      }
    },
    {
      "cell_type": "markdown",
      "source": [
        "###2.3.1 Diseño experimental para Mini-batch K-means Clustering\n",
        "Dado que el algoritmo de Mini-Batch tiene un hiperparámetro importante como el tamaño del lote, el cual es determinante para la precisión y rapidez del algoritmo; queremos conocer los resultados de las métricas para tomar la desición de cuál podría ser tamaño más apropiado a nuestro conjunto de datos. "
      ],
      "metadata": {
        "id": "9u5rOaFFstGT"
      }
    },
    {
      "cell_type": "code",
      "source": [
        "from sklearn.cluster import MiniBatchKMeans\n",
        "from sklearn.metrics import silhouette_score\n",
        "\n",
        "Silluete_batches = []\n",
        "sizeBatches = [256,512,768,1024,1280,1536,1792,2048]\n",
        "#Probar el métricas para diferentes tamaños de lotes\n",
        "for batch in sizeBatches: \n",
        "    kmeans = MiniBatchKMeans(n_clusters=7, init=\"k-means++\",max_iter=300, n_init=20, random_state=0, batch_size=batch) #max_iter por default es 300\n",
        "    kmeans.fit(emotions_df)\n",
        "    s_score = silhouette_score(emotions_df, kmeans.labels_, metric='euclidean')\n",
        "    Silluete_batches.append(s_score)\n"
      ],
      "metadata": {
        "id": "toJAUzhJ3x_J"
      },
      "execution_count": null,
      "outputs": []
    },
    {
      "cell_type": "code",
      "source": [
        "#Guardamos los resultados \n",
        "from joblib import dump\n",
        "dump(Silluete_batches, 'Silluete_batches.joblib') "
      ],
      "metadata": {
        "colab": {
          "base_uri": "https://localhost:8080/"
        },
        "id": "UUGp_9GXpLb5",
        "outputId": "661e9e02-9731-4300-ba4c-82857e70cfdd"
      },
      "execution_count": null,
      "outputs": [
        {
          "output_type": "execute_result",
          "data": {
            "text/plain": [
              "['Silluete_batches.joblib']"
            ]
          },
          "metadata": {},
          "execution_count": 18
        }
      ]
    },
    {
      "cell_type": "code",
      "source": [
        "#Se cargan los resultados, una vez descargados y subidos al drive\n",
        "from joblib import load\n",
        "Silluete_batches = load('/content/drive/MyDrive/1 SEMESTRE 2022/IA/Trabajo Práctico 3/Silluete_batches.joblib') "
      ],
      "metadata": {
        "id": "KfsbEvj5c3lA"
      },
      "execution_count": null,
      "outputs": []
    },
    {
      "cell_type": "code",
      "source": [
        "imprimirMetricas([256,512,768,1024,1280,1536,1792,2048],Silluete_batches)"
      ],
      "metadata": {
        "colab": {
          "base_uri": "https://localhost:8080/"
        },
        "id": "MNCBnFuHwmYG",
        "outputId": "e72d8766-0018-4e70-f774-b843e6fd7c8e"
      },
      "execution_count": null,
      "outputs": [
        {
          "output_type": "stream",
          "name": "stdout",
          "text": [
            "Para el hiperparámetro 256 la métrica interna de silhouette coefficient es 0.07015199442130919\n",
            "Para el hiperparámetro 512 la métrica interna de silhouette coefficient es 0.0662442004398201\n",
            "Para el hiperparámetro 768 la métrica interna de silhouette coefficient es 0.06757160309473198\n",
            "Para el hiperparámetro 1024 la métrica interna de silhouette coefficient es 0.07020957230207354\n",
            "Para el hiperparámetro 1280 la métrica interna de silhouette coefficient es 0.07094075620135525\n",
            "Para el hiperparámetro 1536 la métrica interna de silhouette coefficient es 0.07157794364682703\n",
            "Para el hiperparámetro 1792 la métrica interna de silhouette coefficient es 0.06766124018319462\n",
            "Para el hiperparámetro 2048 la métrica interna de silhouette coefficient es 0.07291261104961583\n"
          ]
        }
      ]
    },
    {
      "cell_type": "code",
      "source": [
        "print(\"El mejor hiperparámetro para batch_size es:\", getBetter([256,512,768,1024,1280,1536,1792,2048],Silluete_batches))"
      ],
      "metadata": {
        "id": "EE5iKmSfWxbc",
        "colab": {
          "base_uri": "https://localhost:8080/"
        },
        "outputId": "5c7149e1-f5bc-4639-82da-2c002b3e0e99"
      },
      "execution_count": null,
      "outputs": [
        {
          "output_type": "stream",
          "name": "stdout",
          "text": [
            "El mejor hiperparámetro para batch_size es: 2048\n"
          ]
        }
      ]
    },
    {
      "cell_type": "markdown",
      "source": [
        "--------------------------------------------------"
      ],
      "metadata": {
        "id": "mYszsrridzd1"
      }
    },
    {
      "cell_type": "markdown",
      "source": [
        "###2.3.2 Diseño experimental para Birch clustering"
      ],
      "metadata": {
        "id": "08LjxR8yYWEh"
      }
    },
    {
      "cell_type": "markdown",
      "source": [
        "Este algoritmo tiene algunos parametros con los que podemos podemos probar varios valores. Uno de ellos es el umbral, el otro es el factor de ramificación.\n",
        "\n",
        "En este caso probamos con el umbral. Ya que como mencionamos anteriormente, limita la distancia entre la muestra entrante y los subclusters existentes. Sin embargo como en muchas pruebas, esta no salió como esperabamos, ya que por alguna razón, que quizá matemáticamente no podamos entender, modificar ese valor en nuestro modelo no generó ningún cambios.\n",
        "\n",
        " Al final se elige como umbral el valor 0.5 para estar en un punto medio."
      ],
      "metadata": {
        "id": "V4Sqta13fM4A"
      }
    },
    {
      "cell_type": "code",
      "source": [
        "from sklearn.cluster import Birch\n",
        "from sklearn.metrics import silhouette_score\n",
        "from google.colab import files\n",
        "from joblib import dump\n",
        "\n",
        "\n",
        "Silluete_birch = []\n",
        "threshold_values = [0.2,0.3,0.4,0.5,0.6,0.7,0.8,0.9]\n",
        "for td in threshold_values: \n",
        "  birch = Birch(n_clusters=7, compute_labels = True, branching_factor = 50, threshold = td) \n",
        "  birch.fit(emotions_df)\n",
        "  s_score = silhouette_score(emotions_df, birch.labels_, metric='euclidean')\n",
        "  Silluete_birch.append(s_score)\n",
        "\n",
        "\n",
        "dump(Silluete_birch, 'Silluete_birch.joblib') \n",
        "files.download(\"Silluete_birch.joblib\")"
      ],
      "metadata": {
        "colab": {
          "base_uri": "https://localhost:8080/"
        },
        "id": "hUegdMF5XNac",
        "outputId": "8d7fba60-2f8d-4e47-80e8-4a3aff3c009d"
      },
      "execution_count": null,
      "outputs": [
        {
          "output_type": "display_data",
          "data": {
            "text/plain": [
              "<IPython.core.display.Javascript object>"
            ],
            "application/javascript": [
              "\n",
              "    async function download(id, filename, size) {\n",
              "      if (!google.colab.kernel.accessAllowed) {\n",
              "        return;\n",
              "      }\n",
              "      const div = document.createElement('div');\n",
              "      const label = document.createElement('label');\n",
              "      label.textContent = `Downloading \"${filename}\": `;\n",
              "      div.appendChild(label);\n",
              "      const progress = document.createElement('progress');\n",
              "      progress.max = size;\n",
              "      div.appendChild(progress);\n",
              "      document.body.appendChild(div);\n",
              "\n",
              "      const buffers = [];\n",
              "      let downloaded = 0;\n",
              "\n",
              "      const channel = await google.colab.kernel.comms.open(id);\n",
              "      // Send a message to notify the kernel that we're ready.\n",
              "      channel.send({})\n",
              "\n",
              "      for await (const message of channel.messages) {\n",
              "        // Send a message to notify the kernel that we're ready.\n",
              "        channel.send({})\n",
              "        if (message.buffers) {\n",
              "          for (const buffer of message.buffers) {\n",
              "            buffers.push(buffer);\n",
              "            downloaded += buffer.byteLength;\n",
              "            progress.value = downloaded;\n",
              "          }\n",
              "        }\n",
              "      }\n",
              "      const blob = new Blob(buffers, {type: 'application/binary'});\n",
              "      const a = document.createElement('a');\n",
              "      a.href = window.URL.createObjectURL(blob);\n",
              "      a.download = filename;\n",
              "      div.appendChild(a);\n",
              "      a.click();\n",
              "      div.remove();\n",
              "    }\n",
              "  "
            ]
          },
          "metadata": {}
        },
        {
          "output_type": "display_data",
          "data": {
            "text/plain": [
              "<IPython.core.display.Javascript object>"
            ],
            "application/javascript": [
              "download(\"download_cdc2beff-c3c2-4548-b84a-16a110860fc4\", \"Silluete_birch.joblib\", 274)"
            ]
          },
          "metadata": {}
        }
      ]
    },
    {
      "cell_type": "code",
      "source": [
        "from joblib import load\n",
        "Silluete_birch = load('Silluete_birch.joblib') "
      ],
      "metadata": {
        "id": "Yueujfb4pS-c"
      },
      "execution_count": null,
      "outputs": []
    },
    {
      "cell_type": "code",
      "source": [
        "#Se cargan los resultados, una vez descargados y subidos al drive\n",
        "from joblib import load\n",
        "Silluete_birch = load('/content/drive/MyDrive/1 SEMESTRE 2022/IA/Trabajo Práctico 3/Silluete_birch.joblib') "
      ],
      "metadata": {
        "id": "1j9Pa8xtfQ9m"
      },
      "execution_count": null,
      "outputs": []
    },
    {
      "cell_type": "code",
      "source": [
        "imprimirMetricas([0.2,0.3,0.4,0.5,0.6,0.7,0.8,0.9],Silluete_birch)"
      ],
      "metadata": {
        "colab": {
          "base_uri": "https://localhost:8080/"
        },
        "id": "Rg4mm_n7fXI4",
        "outputId": "6d1d77b9-de91-4e41-f9f3-7e6aec950688"
      },
      "execution_count": null,
      "outputs": [
        {
          "output_type": "stream",
          "name": "stdout",
          "text": [
            "Para el hiperparámetro 0.2 la métrica interna de silhouette coefficient es 0.021349100510711018\n",
            "Para el hiperparámetro 0.3 la métrica interna de silhouette coefficient es 0.021349100510711018\n",
            "Para el hiperparámetro 0.4 la métrica interna de silhouette coefficient es 0.021349100510711018\n",
            "Para el hiperparámetro 0.5 la métrica interna de silhouette coefficient es 0.021349100510711018\n",
            "Para el hiperparámetro 0.6 la métrica interna de silhouette coefficient es 0.021349100510711018\n",
            "Para el hiperparámetro 0.7 la métrica interna de silhouette coefficient es 0.021349100510711018\n",
            "Para el hiperparámetro 0.8 la métrica interna de silhouette coefficient es 0.021349100510711018\n",
            "Para el hiperparámetro 0.9 la métrica interna de silhouette coefficient es 0.021349100510711018\n"
          ]
        }
      ]
    },
    {
      "cell_type": "markdown",
      "source": [
        "--------------------------------------------------"
      ],
      "metadata": {
        "id": "hhBnG81qOqEH"
      }
    },
    {
      "cell_type": "markdown",
      "source": [
        "##2.4 Conclusión"
      ],
      "metadata": {
        "id": "3zyu5Ehim4_L"
      }
    },
    {
      "cell_type": "markdown",
      "source": [
        "Teniendo en cuenta no solo las gráficas de los codos para ambos algoritmos si no también evaluando los valores de las métricas, podríamos pensar que el número de clústers puede estar entre 7 y 10, porque después de esos valores lo que baja la métrica es realmente es poco, comparado con las diferencias entre los primeros que es de mil o más, las diferencias entre 7 y 10 son de 50 aproximadamente y de 10 en más las diferencias son más cortas. \n",
        "\n",
        "Puede ser confuso, porque en otros datasets suele aparecer un punto que resalta mucho el codo, pero en este caso se forma una curva más lisa. \n",
        "\n",
        "También se hicieron pruebas con Mean shift, pero lastimosamente no se incluyeron porque no se realizó con todo el dataset, sino con un 30% de los datos, pues con todo el conjunto no se pudo. En esa prueba, dio 4 clústers. \n",
        "\n",
        "Esto nos llevó a la conclusión de que quizá con todo el dataset podría no haber un número tan alto de clústers como 10, por ello pensamos que deben haber exactamente 7 clústers, pues de todos modos es lo que gráfica y las métricas nos muestran. \n"
      ],
      "metadata": {
        "id": "fuIx33a6GQRP"
      }
    },
    {
      "cell_type": "markdown",
      "source": [
        "--------------------------------------------------"
      ],
      "metadata": {
        "id": "umO1TtRiOrsT"
      }
    },
    {
      "cell_type": "markdown",
      "source": [
        "##2.5 Opcionalmente se muestran gráficas de los clústers\n",
        "Nos pareció importante mostrar graficamente, como queda la divisón de los clústers después de haber elegido un número de clústers al analizar las gráficas de codo. Esto no se pedía como parte de la tarea, pero nos ayudó a visualizar el trabajo del proceso realizado."
      ],
      "metadata": {
        "id": "YcrHI5cm5D_U"
      }
    },
    {
      "cell_type": "markdown",
      "source": [
        "### Mini-batch K-means clustering"
      ],
      "metadata": {
        "id": "4eZGchgvACE6"
      }
    },
    {
      "cell_type": "code",
      "source": [
        "from sklearn.cluster import MiniBatchKMeans\n",
        "#Se cambia el tamaño del lote, por los resultados del diseño experimental \n",
        "miniB_KMeans = MiniBatchKMeans(n_clusters=7, init=\"k-means++\",max_iter=300, n_init=7, random_state=0, batch_size=2048)\n",
        "miniB_KMeans.fit(emotions_df)\n",
        "\n",
        "result_batch = miniB_KMeans.predict(emotions_df)"
      ],
      "metadata": {
        "id": "Nf-f2_pPACkL"
      },
      "execution_count": null,
      "outputs": []
    },
    {
      "cell_type": "code",
      "source": [
        "from sklearn.decomposition import PCA\n",
        "'''\n",
        "Se hace analisis de componentes principales, para reducir la dimensionalidad\n",
        "De esta forma podemos hacer gráficas en 2D\n",
        "'''\n",
        "pca = PCA(n_components=2)\n",
        "pca_emotions = pca.fit_transform(emotions_df)\n",
        "pca_emotions_df =  pd.DataFrame(data= pca_emotions, columns=['C1','C2'])\n",
        "pca_emotions_clusters = pd.concat([pca_emotions_df,  pd.DataFrame(result_batch)],axis = 1)\n",
        "pca_emotions_clusters = pca_emotions_clusters.rename({0: 'Label'}, axis=1)\n",
        "pca_emotions_clusters.head()"
      ],
      "metadata": {
        "colab": {
          "base_uri": "https://localhost:8080/",
          "height": 206
        },
        "id": "v2BGIUbJALn4",
        "outputId": "d9c8b62c-d0b7-49e6-c2c9-5f996dc1f646"
      },
      "execution_count": null,
      "outputs": [
        {
          "output_type": "execute_result",
          "data": {
            "text/plain": [
              "            C1           C2  Label\n",
              "0   701.059432   332.086216      4\n",
              "1   -60.482652  -503.266141      5\n",
              "2  -231.780172  -489.782351      6\n",
              "3  -401.480258  1276.986829      3\n",
              "4  1027.018325  1099.774409      4"
            ],
            "text/html": [
              "\n",
              "  <div id=\"df-6474ff1d-b2b3-40a8-ab08-ccf2e261e843\">\n",
              "    <div class=\"colab-df-container\">\n",
              "      <div>\n",
              "<style scoped>\n",
              "    .dataframe tbody tr th:only-of-type {\n",
              "        vertical-align: middle;\n",
              "    }\n",
              "\n",
              "    .dataframe tbody tr th {\n",
              "        vertical-align: top;\n",
              "    }\n",
              "\n",
              "    .dataframe thead th {\n",
              "        text-align: right;\n",
              "    }\n",
              "</style>\n",
              "<table border=\"1\" class=\"dataframe\">\n",
              "  <thead>\n",
              "    <tr style=\"text-align: right;\">\n",
              "      <th></th>\n",
              "      <th>C1</th>\n",
              "      <th>C2</th>\n",
              "      <th>Label</th>\n",
              "    </tr>\n",
              "  </thead>\n",
              "  <tbody>\n",
              "    <tr>\n",
              "      <th>0</th>\n",
              "      <td>701.059432</td>\n",
              "      <td>332.086216</td>\n",
              "      <td>4</td>\n",
              "    </tr>\n",
              "    <tr>\n",
              "      <th>1</th>\n",
              "      <td>-60.482652</td>\n",
              "      <td>-503.266141</td>\n",
              "      <td>5</td>\n",
              "    </tr>\n",
              "    <tr>\n",
              "      <th>2</th>\n",
              "      <td>-231.780172</td>\n",
              "      <td>-489.782351</td>\n",
              "      <td>6</td>\n",
              "    </tr>\n",
              "    <tr>\n",
              "      <th>3</th>\n",
              "      <td>-401.480258</td>\n",
              "      <td>1276.986829</td>\n",
              "      <td>3</td>\n",
              "    </tr>\n",
              "    <tr>\n",
              "      <th>4</th>\n",
              "      <td>1027.018325</td>\n",
              "      <td>1099.774409</td>\n",
              "      <td>4</td>\n",
              "    </tr>\n",
              "  </tbody>\n",
              "</table>\n",
              "</div>\n",
              "      <button class=\"colab-df-convert\" onclick=\"convertToInteractive('df-6474ff1d-b2b3-40a8-ab08-ccf2e261e843')\"\n",
              "              title=\"Convert this dataframe to an interactive table.\"\n",
              "              style=\"display:none;\">\n",
              "        \n",
              "  <svg xmlns=\"http://www.w3.org/2000/svg\" height=\"24px\"viewBox=\"0 0 24 24\"\n",
              "       width=\"24px\">\n",
              "    <path d=\"M0 0h24v24H0V0z\" fill=\"none\"/>\n",
              "    <path d=\"M18.56 5.44l.94 2.06.94-2.06 2.06-.94-2.06-.94-.94-2.06-.94 2.06-2.06.94zm-11 1L8.5 8.5l.94-2.06 2.06-.94-2.06-.94L8.5 2.5l-.94 2.06-2.06.94zm10 10l.94 2.06.94-2.06 2.06-.94-2.06-.94-.94-2.06-.94 2.06-2.06.94z\"/><path d=\"M17.41 7.96l-1.37-1.37c-.4-.4-.92-.59-1.43-.59-.52 0-1.04.2-1.43.59L10.3 9.45l-7.72 7.72c-.78.78-.78 2.05 0 2.83L4 21.41c.39.39.9.59 1.41.59.51 0 1.02-.2 1.41-.59l7.78-7.78 2.81-2.81c.8-.78.8-2.07 0-2.86zM5.41 20L4 18.59l7.72-7.72 1.47 1.35L5.41 20z\"/>\n",
              "  </svg>\n",
              "      </button>\n",
              "      \n",
              "  <style>\n",
              "    .colab-df-container {\n",
              "      display:flex;\n",
              "      flex-wrap:wrap;\n",
              "      gap: 12px;\n",
              "    }\n",
              "\n",
              "    .colab-df-convert {\n",
              "      background-color: #E8F0FE;\n",
              "      border: none;\n",
              "      border-radius: 50%;\n",
              "      cursor: pointer;\n",
              "      display: none;\n",
              "      fill: #1967D2;\n",
              "      height: 32px;\n",
              "      padding: 0 0 0 0;\n",
              "      width: 32px;\n",
              "    }\n",
              "\n",
              "    .colab-df-convert:hover {\n",
              "      background-color: #E2EBFA;\n",
              "      box-shadow: 0px 1px 2px rgba(60, 64, 67, 0.3), 0px 1px 3px 1px rgba(60, 64, 67, 0.15);\n",
              "      fill: #174EA6;\n",
              "    }\n",
              "\n",
              "    [theme=dark] .colab-df-convert {\n",
              "      background-color: #3B4455;\n",
              "      fill: #D2E3FC;\n",
              "    }\n",
              "\n",
              "    [theme=dark] .colab-df-convert:hover {\n",
              "      background-color: #434B5C;\n",
              "      box-shadow: 0px 1px 3px 1px rgba(0, 0, 0, 0.15);\n",
              "      filter: drop-shadow(0px 1px 2px rgba(0, 0, 0, 0.3));\n",
              "      fill: #FFFFFF;\n",
              "    }\n",
              "  </style>\n",
              "\n",
              "      <script>\n",
              "        const buttonEl =\n",
              "          document.querySelector('#df-6474ff1d-b2b3-40a8-ab08-ccf2e261e843 button.colab-df-convert');\n",
              "        buttonEl.style.display =\n",
              "          google.colab.kernel.accessAllowed ? 'block' : 'none';\n",
              "\n",
              "        async function convertToInteractive(key) {\n",
              "          const element = document.querySelector('#df-6474ff1d-b2b3-40a8-ab08-ccf2e261e843');\n",
              "          const dataTable =\n",
              "            await google.colab.kernel.invokeFunction('convertToInteractive',\n",
              "                                                     [key], {});\n",
              "          if (!dataTable) return;\n",
              "\n",
              "          const docLinkHtml = 'Like what you see? Visit the ' +\n",
              "            '<a target=\"_blank\" href=https://colab.research.google.com/notebooks/data_table.ipynb>data table notebook</a>'\n",
              "            + ' to learn more about interactive tables.';\n",
              "          element.innerHTML = '';\n",
              "          dataTable['output_type'] = 'display_data';\n",
              "          await google.colab.output.renderOutput(dataTable, element);\n",
              "          const docLink = document.createElement('div');\n",
              "          docLink.innerHTML = docLinkHtml;\n",
              "          element.appendChild(docLink);\n",
              "        }\n",
              "      </script>\n",
              "    </div>\n",
              "  </div>\n",
              "  "
            ]
          },
          "metadata": {},
          "execution_count": 44
        }
      ]
    },
    {
      "cell_type": "code",
      "source": [
        "fig = plt.figure(figsize=(6,6))\n",
        "ax = fig.add_subplot(1,1,1)\n",
        "ax.set_xlabel('C1', fontsize = 15)\n",
        "ax.set_ylabel('C2', fontsize = 15)\n",
        "ax.set_title('PCA', fontsize = 20)\n",
        "\n",
        "colors =  np.array(['blue', 'green', 'orange','pink','black','yellow','violet'])\n",
        "ax.scatter(x=pca_emotions_clusters.C1, y=pca_emotions_clusters.C2, c=colors[pca_emotions_clusters.Label], s=50)\n",
        "plt.show()"
      ],
      "metadata": {
        "colab": {
          "base_uri": "https://localhost:8080/",
          "height": 414
        },
        "id": "6L0WGo7ZASV_",
        "outputId": "b2709d8e-1bb5-4d07-90ee-83e846a7848f"
      },
      "execution_count": null,
      "outputs": [
        {
          "output_type": "display_data",
          "data": {
            "text/plain": [
              "<Figure size 432x432 with 1 Axes>"
            ],
            "image/png": "[encoded data removed]"
          },
          "metadata": {
            "needs_background": "light"
          }
        }
      ]
    },
    {
      "cell_type": "markdown",
      "source": [
        "### Birch clustering"
      ],
      "metadata": {
        "id": "5qezcP2FNOKi"
      }
    },
    {
      "cell_type": "code",
      "source": [
        "from sklearn.cluster import Birch\n",
        "#Se usa un threshold intermedio, ya que en las pruebas, ningún otro valor mostró diferencias. \n",
        "birch = Birch(n_clusters=7, compute_labels = True, branching_factor = 50, threshold = 0.5)\n",
        "birch.fit(emotions_df)\n",
        "\n",
        "result = birch.predict(emotions_df)"
      ],
      "metadata": {
        "id": "aRE3dLdINT4b"
      },
      "execution_count": null,
      "outputs": []
    },
    {
      "cell_type": "code",
      "source": [
        "from sklearn.decomposition import PCA\n",
        "pca_b = PCA(n_components=2)\n",
        "pca_emotions_b = pca_b.fit_transform(emotions_df)\n",
        "pca_emotions_df_b =  pd.DataFrame(data= pca_emotions_b, columns=['C1','C2'])\n",
        "pca_emotions_clusters_b = pd.concat([pca_emotions_df_b,  pd.DataFrame(result)],axis = 1)\n",
        "pca_emotions_clusters_b = pca_emotions_clusters_b.rename({0: 'Label'}, axis=1)\n",
        "pca_emotions_clusters_b.head()"
      ],
      "metadata": {
        "colab": {
          "base_uri": "https://localhost:8080/",
          "height": 206
        },
        "id": "K3oVytUlNdaz",
        "outputId": "ff5c7365-1416-4b48-d978-5f7f3b702ce9"
      },
      "execution_count": null,
      "outputs": [
        {
          "output_type": "execute_result",
          "data": {
            "text/plain": [
              "            C1           C2  Label\n",
              "0   701.059432   332.086209      3\n",
              "1   -60.482652  -503.266113      2\n",
              "2  -231.780172  -489.782303      0\n",
              "3  -401.480258  1276.986797      0\n",
              "4  1027.018325  1099.774399      1"
            ],
            "text/html": [
              "\n",
              "  <div id=\"df-f1822dd4-e10b-4a90-a7d7-ef381f899a41\">\n",
              "    <div class=\"colab-df-container\">\n",
              "      <div>\n",
              "<style scoped>\n",
              "    .dataframe tbody tr th:only-of-type {\n",
              "        vertical-align: middle;\n",
              "    }\n",
              "\n",
              "    .dataframe tbody tr th {\n",
              "        vertical-align: top;\n",
              "    }\n",
              "\n",
              "    .dataframe thead th {\n",
              "        text-align: right;\n",
              "    }\n",
              "</style>\n",
              "<table border=\"1\" class=\"dataframe\">\n",
              "  <thead>\n",
              "    <tr style=\"text-align: right;\">\n",
              "      <th></th>\n",
              "      <th>C1</th>\n",
              "      <th>C2</th>\n",
              "      <th>Label</th>\n",
              "    </tr>\n",
              "  </thead>\n",
              "  <tbody>\n",
              "    <tr>\n",
              "      <th>0</th>\n",
              "      <td>701.059432</td>\n",
              "      <td>332.086209</td>\n",
              "      <td>3</td>\n",
              "    </tr>\n",
              "    <tr>\n",
              "      <th>1</th>\n",
              "      <td>-60.482652</td>\n",
              "      <td>-503.266113</td>\n",
              "      <td>2</td>\n",
              "    </tr>\n",
              "    <tr>\n",
              "      <th>2</th>\n",
              "      <td>-231.780172</td>\n",
              "      <td>-489.782303</td>\n",
              "      <td>0</td>\n",
              "    </tr>\n",
              "    <tr>\n",
              "      <th>3</th>\n",
              "      <td>-401.480258</td>\n",
              "      <td>1276.986797</td>\n",
              "      <td>0</td>\n",
              "    </tr>\n",
              "    <tr>\n",
              "      <th>4</th>\n",
              "      <td>1027.018325</td>\n",
              "      <td>1099.774399</td>\n",
              "      <td>1</td>\n",
              "    </tr>\n",
              "  </tbody>\n",
              "</table>\n",
              "</div>\n",
              "      <button class=\"colab-df-convert\" onclick=\"convertToInteractive('df-f1822dd4-e10b-4a90-a7d7-ef381f899a41')\"\n",
              "              title=\"Convert this dataframe to an interactive table.\"\n",
              "              style=\"display:none;\">\n",
              "        \n",
              "  <svg xmlns=\"http://www.w3.org/2000/svg\" height=\"24px\"viewBox=\"0 0 24 24\"\n",
              "       width=\"24px\">\n",
              "    <path d=\"M0 0h24v24H0V0z\" fill=\"none\"/>\n",
              "    <path d=\"M18.56 5.44l.94 2.06.94-2.06 2.06-.94-2.06-.94-.94-2.06-.94 2.06-2.06.94zm-11 1L8.5 8.5l.94-2.06 2.06-.94-2.06-.94L8.5 2.5l-.94 2.06-2.06.94zm10 10l.94 2.06.94-2.06 2.06-.94-2.06-.94-.94-2.06-.94 2.06-2.06.94z\"/><path d=\"M17.41 7.96l-1.37-1.37c-.4-.4-.92-.59-1.43-.59-.52 0-1.04.2-1.43.59L10.3 9.45l-7.72 7.72c-.78.78-.78 2.05 0 2.83L4 21.41c.39.39.9.59 1.41.59.51 0 1.02-.2 1.41-.59l7.78-7.78 2.81-2.81c.8-.78.8-2.07 0-2.86zM5.41 20L4 18.59l7.72-7.72 1.47 1.35L5.41 20z\"/>\n",
              "  </svg>\n",
              "      </button>\n",
              "      \n",
              "  <style>\n",
              "    .colab-df-container {\n",
              "      display:flex;\n",
              "      flex-wrap:wrap;\n",
              "      gap: 12px;\n",
              "    }\n",
              "\n",
              "    .colab-df-convert {\n",
              "      background-color: #E8F0FE;\n",
              "      border: none;\n",
              "      border-radius: 50%;\n",
              "      cursor: pointer;\n",
              "      display: none;\n",
              "      fill: #1967D2;\n",
              "      height: 32px;\n",
              "      padding: 0 0 0 0;\n",
              "      width: 32px;\n",
              "    }\n",
              "\n",
              "    .colab-df-convert:hover {\n",
              "      background-color: #E2EBFA;\n",
              "      box-shadow: 0px 1px 2px rgba(60, 64, 67, 0.3), 0px 1px 3px 1px rgba(60, 64, 67, 0.15);\n",
              "      fill: #174EA6;\n",
              "    }\n",
              "\n",
              "    [theme=dark] .colab-df-convert {\n",
              "      background-color: #3B4455;\n",
              "      fill: #D2E3FC;\n",
              "    }\n",
              "\n",
              "    [theme=dark] .colab-df-convert:hover {\n",
              "      background-color: #434B5C;\n",
              "      box-shadow: 0px 1px 3px 1px rgba(0, 0, 0, 0.15);\n",
              "      filter: drop-shadow(0px 1px 2px rgba(0, 0, 0, 0.3));\n",
              "      fill: #FFFFFF;\n",
              "    }\n",
              "  </style>\n",
              "\n",
              "      <script>\n",
              "        const buttonEl =\n",
              "          document.querySelector('#df-f1822dd4-e10b-4a90-a7d7-ef381f899a41 button.colab-df-convert');\n",
              "        buttonEl.style.display =\n",
              "          google.colab.kernel.accessAllowed ? 'block' : 'none';\n",
              "\n",
              "        async function convertToInteractive(key) {\n",
              "          const element = document.querySelector('#df-f1822dd4-e10b-4a90-a7d7-ef381f899a41');\n",
              "          const dataTable =\n",
              "            await google.colab.kernel.invokeFunction('convertToInteractive',\n",
              "                                                     [key], {});\n",
              "          if (!dataTable) return;\n",
              "\n",
              "          const docLinkHtml = 'Like what you see? Visit the ' +\n",
              "            '<a target=\"_blank\" href=https://colab.research.google.com/notebooks/data_table.ipynb>data table notebook</a>'\n",
              "            + ' to learn more about interactive tables.';\n",
              "          element.innerHTML = '';\n",
              "          dataTable['output_type'] = 'display_data';\n",
              "          await google.colab.output.renderOutput(dataTable, element);\n",
              "          const docLink = document.createElement('div');\n",
              "          docLink.innerHTML = docLinkHtml;\n",
              "          element.appendChild(docLink);\n",
              "        }\n",
              "      </script>\n",
              "    </div>\n",
              "  </div>\n",
              "  "
            ]
          },
          "metadata": {},
          "execution_count": 47
        }
      ]
    },
    {
      "cell_type": "code",
      "source": [
        "fig = plt.figure(figsize=(6,6))\n",
        "ax = fig.add_subplot(1,1,1)\n",
        "ax.set_xlabel('C1', fontsize = 15)\n",
        "ax.set_ylabel('C2', fontsize = 15)\n",
        "ax.set_title('PCA', fontsize = 20)\n",
        "\n",
        "colors =  np.array(['blue', 'green', 'orange','pink','black','yellow','violet'])\n",
        "ax.scatter(x=pca_emotions_clusters_b.C1, y=pca_emotions_clusters_b.C2, c=colors[pca_emotions_clusters_b.Label], s=50)\n",
        "plt.show()"
      ],
      "metadata": {
        "colab": {
          "base_uri": "https://localhost:8080/",
          "height": 414
        },
        "id": "L5U5_pYgNjI0",
        "outputId": "c3f31083-35b2-4d39-8a36-5ceca87462ea"
      },
      "execution_count": null,
      "outputs": [
        {
          "output_type": "display_data",
          "data": {
            "text/plain": [
              "<Figure size 432x432 with 1 Axes>"
            ],
            "image/png": "[encoded data removed]"
          },
          "metadata": {
            "needs_background": "light"
          }
        }
      ]
    },
    {
      "cell_type": "markdown",
      "source": [
        "Nótese que aunque ambas hayan generado métodos del codo similares, se haya determinado de manera general, que el número adecuado de clúster es 7, por otro lado las gráficas los clúster al aplicar PCA, se ven distintas, ya que los grupos no parecen exactamente los mismos. \n",
        "\n",
        "En este punto, sería interesante tener los labels reales, pues podríamos comprobar cúan efectos han sido nuestros algoritmos y cuál de los dos hizo mejores predicciones. \n",
        "\n",
        "También, aquí podemos ver cómo se ven superpuestos algunos puntos, debido a la cantidad de dimensiones podríamos pensar que no, pero en realidad el hecho de la gráfica se muestre así, y que las métricas de silhouette dieran valores cercanas al 0,5 indica que puede que sí hayan clústers que se encuentren parcialmente encima de otros, sin embargo tampoco obtuvimos valores negativos. "
      ],
      "metadata": {
        "id": "cAhybE4DknF-"
      }
    }
  ],
  "metadata": {
    "colab": {
      "collapsed_sections": [],
      "name": "2022-1-Trabajo Practico_03_NataliaVargas_FabricioElizondo.ipynb",
      "provenance": [],
      "include_colab_link": true
    },
    "kernelspec": {
      "display_name": "Python 3 (ipykernel)",
      "language": "python",
      "name": "python3"
    },
    "language_info": {
      "codemirror_mode": {
        "name": "ipython",
        "version": 3
      },
      "file_extension": ".py",
      "mimetype": "text/x-python",
      "name": "python",
      "nbconvert_exporter": "python",
      "pygments_lexer": "ipython3",
      "version": "3.7.13"
    }
  },
  "nbformat": 4,
  "nbformat_minor": 0
}