{
  "cells": [
    {
      "cell_type": "markdown",
      "metadata": {
        "id": "view-in-github",
        "colab_type": "text"
      },
      "source": [
        "<a href=\"https://colab.research.google.com/github/natalia0911/Tarea_Practica_3_IA/blob/main/2022_1_Trabajo_Practico_03_NataliaVargas_FabricioElizondo.ipynb\" target=\"_parent\"><img src=\"https://colab.research.google.com/assets/colab-badge.svg\" alt=\"Open In Colab\"/></a>"
      ]
    },
    {
      "cell_type": "markdown",
      "metadata": {
        "id": "Y5zYLAE8LTvr"
      },
      "source": [
        "**Instituto Tecnológico de Costa Rica**\n",
        "\n",
        "**Escuela de Ingeniería en Computación**\n",
        "\n",
        "**Curso: Inteligencia Artificial**\n",
        "\n",
        "**Primer Semestre 2022**\n",
        "\n",
        "**Profesor: Luis-Alexander Calvo-Valverde**\n",
        "\n",
        "**Trabajo Práctico:** 03\n",
        "\n",
        "**Datos de la entrega:** Lunes 30 de mayo 2022, a más tardar a las 11:59 pm\n",
        "\n",
        "**Estudiantes:**\n",
        "- Natalia Vanessa Vargas Reyes\n",
        "- Fabricio Antonio Elizondo Fernández\n",
        "\n",
        "\n",
        "\n"
      ]
    },
    {
      "cell_type": "markdown",
      "metadata": {
        "id": "G2vp9Pasdvo-"
      },
      "source": [
        "___\n",
        "\n",
        "# Nota Introductoria\n",
        "___"
      ]
    },
    {
      "cell_type": "markdown",
      "metadata": {
        "id": "0bn7ujBQAqxw",
        "outputId": "9b4cccb3-5be5-465c-ed78-9580132bdb5d"
      },
      "source": [
        "Ustedes han sido contratados por la empresa *SoloIA* para trabajar con dos conjuntos de datos y lograr la mejor predicción posible, dadas ciertas métricas.\n",
        "\n",
        "Para efectos de dudas o ampliaciones sobre el proyecto, además de lo que se indique en este cuaderno, considere a Luis-Alexánder Calvo-Valverde como su cliente para atender sus consultas.\n",
        "\n",
        "**IMPORTANTE:** Entre los algoritmos elegidos para las partes 1 y 2, no debe usar ninguno visto en clase.  En caso de duda puede preguntar primero al profesor."
      ]
    },
    {
      "cell_type": "markdown",
      "metadata": {
        "id": "J2q6S6zcdvo_"
      },
      "source": [
        "___\n",
        "\n",
        "# Parte 1  -  Clasificación (50 puntos)\n",
        "___"
      ]
    },
    {
      "cell_type": "markdown",
      "metadata": {
        "id": "EM7crs7PdvpA"
      },
      "source": [
        "### Considere lo siguiente:\n",
        "1. Conjunto de datos: **cardio.csv**\n",
        "1. Algunos detalles del conjunto de datos los puede ver en: https://www.kaggle.com/datasets/sulianova/cardiovascular-disease-dataset.  **Pero debe usar el conjunto de datos que se le dan adjuntos a este Trabajo Práctico, no descargar otro**.\n",
        "1. El atributo a predecir es: **cardio**.\n",
        "1. Proponga al menos dos algoritmos a utilizar\n",
        "1. Métricas:\n",
        "    1. Accuracy\n",
        "    1. Ustedes propongan una más.\n",
        "1. Debe presentar en este cuaderno:\n",
        "    1. Pre-procesamiento de los datos, explicando las decisiones en cada caso.\n",
        "    1. Para cada uno de los algoritmos seleccionados: \n",
        "        1. Explicación del algoritmo.\n",
        "        1. Explicación de la implementación seleccionada y de sus parámetros.\n",
        "    1. Explicación del diseño experimental por ejecutar. Recuerde que si el algoritmo requiere seleccionar hyperparámetros, hay que dividir en tres conjuntos de datos: Training, Validation, Testing (60%, 20%, 20%). Se le recomienda confirmar con el profesor cuántos y cuáles hyperparámetros validar.\n",
        "    1. Programación del diseño experimental. \n",
        "    1. Tablas de resultados, gráficos y conclusiones de los resultados, recomendando a su contratante cuál algoritmo utilizar, con qué configuración y por qué lo recomienda. "
      ]
    },
    {
      "cell_type": "code",
      "source": [
        "%matplotlib inline\n",
        "import pandas as pd\n",
        "import numpy as np\n",
        "import matplotlib.pyplot as plt\n",
        "import seaborn as sn"
      ],
      "metadata": {
        "id": "kEmNpmjrYbN4"
      },
      "execution_count": null,
      "outputs": []
    },
    {
      "cell_type": "markdown",
      "source": [
        "####Análisis del conjunto de datos\n"
      ],
      "metadata": {
        "id": "R-_BsxeEZC1f"
      }
    },
    {
      "cell_type": "code",
      "source": [
        "# Se realiza la carga de los datos por utilizar \n",
        "dataset = pd.read_csv('cardio.csv', delimiter = \";\")\n",
        "\n",
        "# Se imprimen las dimensiones del arreglo\n",
        "print(f\"Las dimensiones del arreglo cargado son: {dataset.shape}\")\n",
        "\n",
        "#Se muestran los primeros 10 valores del conjunto de datos\n",
        "dataset.head(10)"
      ],
      "metadata": {
        "colab": {
          "base_uri": "https://localhost:8080/",
          "height": 380
        },
        "id": "etIeHrZUZX5w",
        "outputId": "59304391-9c1e-4272-981d-e60647587c0b"
      },
      "execution_count": null,
      "outputs": [
        {
          "output_type": "stream",
          "name": "stdout",
          "text": [
            "Las dimensiones del arreglo cargado son: (69301, 13)\n"
          ]
        },
        {
          "output_type": "execute_result",
          "data": {
            "text/plain": [
              "   id    age  gender  height  weight  ap_hi  ap_lo  cholesterol  gluc  smoke  \\\n",
              "0   1  22469       1     155    69.0    130     80            2     2      0   \n",
              "1   2  14648       1     163    71.0    110     70            1     1      0   \n",
              "2   3  21901       1     165    70.0    120     80            1     1      0   \n",
              "3   4  14549       2     165    85.0    120     80            1     1      1   \n",
              "4   5  23393       1     155    62.0    120     80            1     1      0   \n",
              "5   6  21143       1     164    61.0    100     70            1     1      0   \n",
              "6   7  18085       1     162    72.0    100     70            1     1      0   \n",
              "7   8  22547       1     161    93.0    140     90            2     1      0   \n",
              "8   9  21250       1     157    68.0    110     80            1     1      0   \n",
              "9  10  22446       1     158    65.0    140     90            3     1      0   \n",
              "\n",
              "   alco  active  cardio  \n",
              "0     0       1       0  \n",
              "1     0       1       1  \n",
              "2     0       1       0  \n",
              "3     1       1       0  \n",
              "4     0       1       0  \n",
              "5     0       1       0  \n",
              "6     0       1       0  \n",
              "7     0       1       1  \n",
              "8     0       1       0  \n",
              "9     0       1       1  "
            ],
            "text/html": [
              "\n",
              "  <div id=\"df-98251f85-c117-4130-bd2b-1b93d248a975\">\n",
              "    <div class=\"colab-df-container\">\n",
              "      <div>\n",
              "<style scoped>\n",
              "    .dataframe tbody tr th:only-of-type {\n",
              "        vertical-align: middle;\n",
              "    }\n",
              "\n",
              "    .dataframe tbody tr th {\n",
              "        vertical-align: top;\n",
              "    }\n",
              "\n",
              "    .dataframe thead th {\n",
              "        text-align: right;\n",
              "    }\n",
              "</style>\n",
              "<table border=\"1\" class=\"dataframe\">\n",
              "  <thead>\n",
              "    <tr style=\"text-align: right;\">\n",
              "      <th></th>\n",
              "      <th>id</th>\n",
              "      <th>age</th>\n",
              "      <th>gender</th>\n",
              "      <th>height</th>\n",
              "      <th>weight</th>\n",
              "      <th>ap_hi</th>\n",
              "      <th>ap_lo</th>\n",
              "      <th>cholesterol</th>\n",
              "      <th>gluc</th>\n",
              "      <th>smoke</th>\n",
              "      <th>alco</th>\n",
              "      <th>active</th>\n",
              "      <th>cardio</th>\n",
              "    </tr>\n",
              "  </thead>\n",
              "  <tbody>\n",
              "    <tr>\n",
              "      <th>0</th>\n",
              "      <td>1</td>\n",
              "      <td>22469</td>\n",
              "      <td>1</td>\n",
              "      <td>155</td>\n",
              "      <td>69.0</td>\n",
              "      <td>130</td>\n",
              "      <td>80</td>\n",
              "      <td>2</td>\n",
              "      <td>2</td>\n",
              "      <td>0</td>\n",
              "      <td>0</td>\n",
              "      <td>1</td>\n",
              "      <td>0</td>\n",
              "    </tr>\n",
              "    <tr>\n",
              "      <th>1</th>\n",
              "      <td>2</td>\n",
              "      <td>14648</td>\n",
              "      <td>1</td>\n",
              "      <td>163</td>\n",
              "      <td>71.0</td>\n",
              "      <td>110</td>\n",
              "      <td>70</td>\n",
              "      <td>1</td>\n",
              "      <td>1</td>\n",
              "      <td>0</td>\n",
              "      <td>0</td>\n",
              "      <td>1</td>\n",
              "      <td>1</td>\n",
              "    </tr>\n",
              "    <tr>\n",
              "      <th>2</th>\n",
              "      <td>3</td>\n",
              "      <td>21901</td>\n",
              "      <td>1</td>\n",
              "      <td>165</td>\n",
              "      <td>70.0</td>\n",
              "      <td>120</td>\n",
              "      <td>80</td>\n",
              "      <td>1</td>\n",
              "      <td>1</td>\n",
              "      <td>0</td>\n",
              "      <td>0</td>\n",
              "      <td>1</td>\n",
              "      <td>0</td>\n",
              "    </tr>\n",
              "    <tr>\n",
              "      <th>3</th>\n",
              "      <td>4</td>\n",
              "      <td>14549</td>\n",
              "      <td>2</td>\n",
              "      <td>165</td>\n",
              "      <td>85.0</td>\n",
              "      <td>120</td>\n",
              "      <td>80</td>\n",
              "      <td>1</td>\n",
              "      <td>1</td>\n",
              "      <td>1</td>\n",
              "      <td>1</td>\n",
              "      <td>1</td>\n",
              "      <td>0</td>\n",
              "    </tr>\n",
              "    <tr>\n",
              "      <th>4</th>\n",
              "      <td>5</td>\n",
              "      <td>23393</td>\n",
              "      <td>1</td>\n",
              "      <td>155</td>\n",
              "      <td>62.0</td>\n",
              "      <td>120</td>\n",
              "      <td>80</td>\n",
              "      <td>1</td>\n",
              "      <td>1</td>\n",
              "      <td>0</td>\n",
              "      <td>0</td>\n",
              "      <td>1</td>\n",
              "      <td>0</td>\n",
              "    </tr>\n",
              "    <tr>\n",
              "      <th>5</th>\n",
              "      <td>6</td>\n",
              "      <td>21143</td>\n",
              "      <td>1</td>\n",
              "      <td>164</td>\n",
              "      <td>61.0</td>\n",
              "      <td>100</td>\n",
              "      <td>70</td>\n",
              "      <td>1</td>\n",
              "      <td>1</td>\n",
              "      <td>0</td>\n",
              "      <td>0</td>\n",
              "      <td>1</td>\n",
              "      <td>0</td>\n",
              "    </tr>\n",
              "    <tr>\n",
              "      <th>6</th>\n",
              "      <td>7</td>\n",
              "      <td>18085</td>\n",
              "      <td>1</td>\n",
              "      <td>162</td>\n",
              "      <td>72.0</td>\n",
              "      <td>100</td>\n",
              "      <td>70</td>\n",
              "      <td>1</td>\n",
              "      <td>1</td>\n",
              "      <td>0</td>\n",
              "      <td>0</td>\n",
              "      <td>1</td>\n",
              "      <td>0</td>\n",
              "    </tr>\n",
              "    <tr>\n",
              "      <th>7</th>\n",
              "      <td>8</td>\n",
              "      <td>22547</td>\n",
              "      <td>1</td>\n",
              "      <td>161</td>\n",
              "      <td>93.0</td>\n",
              "      <td>140</td>\n",
              "      <td>90</td>\n",
              "      <td>2</td>\n",
              "      <td>1</td>\n",
              "      <td>0</td>\n",
              "      <td>0</td>\n",
              "      <td>1</td>\n",
              "      <td>1</td>\n",
              "    </tr>\n",
              "    <tr>\n",
              "      <th>8</th>\n",
              "      <td>9</td>\n",
              "      <td>21250</td>\n",
              "      <td>1</td>\n",
              "      <td>157</td>\n",
              "      <td>68.0</td>\n",
              "      <td>110</td>\n",
              "      <td>80</td>\n",
              "      <td>1</td>\n",
              "      <td>1</td>\n",
              "      <td>0</td>\n",
              "      <td>0</td>\n",
              "      <td>1</td>\n",
              "      <td>0</td>\n",
              "    </tr>\n",
              "    <tr>\n",
              "      <th>9</th>\n",
              "      <td>10</td>\n",
              "      <td>22446</td>\n",
              "      <td>1</td>\n",
              "      <td>158</td>\n",
              "      <td>65.0</td>\n",
              "      <td>140</td>\n",
              "      <td>90</td>\n",
              "      <td>3</td>\n",
              "      <td>1</td>\n",
              "      <td>0</td>\n",
              "      <td>0</td>\n",
              "      <td>1</td>\n",
              "      <td>1</td>\n",
              "    </tr>\n",
              "  </tbody>\n",
              "</table>\n",
              "</div>\n",
              "      <button class=\"colab-df-convert\" onclick=\"convertToInteractive('df-98251f85-c117-4130-bd2b-1b93d248a975')\"\n",
              "              title=\"Convert this dataframe to an interactive table.\"\n",
              "              style=\"display:none;\">\n",
              "        \n",
              "  <svg xmlns=\"http://www.w3.org/2000/svg\" height=\"24px\"viewBox=\"0 0 24 24\"\n",
              "       width=\"24px\">\n",
              "    <path d=\"M0 0h24v24H0V0z\" fill=\"none\"/>\n",
              "    <path d=\"M18.56 5.44l.94 2.06.94-2.06 2.06-.94-2.06-.94-.94-2.06-.94 2.06-2.06.94zm-11 1L8.5 8.5l.94-2.06 2.06-.94-2.06-.94L8.5 2.5l-.94 2.06-2.06.94zm10 10l.94 2.06.94-2.06 2.06-.94-2.06-.94-.94-2.06-.94 2.06-2.06.94z\"/><path d=\"M17.41 7.96l-1.37-1.37c-.4-.4-.92-.59-1.43-.59-.52 0-1.04.2-1.43.59L10.3 9.45l-7.72 7.72c-.78.78-.78 2.05 0 2.83L4 21.41c.39.39.9.59 1.41.59.51 0 1.02-.2 1.41-.59l7.78-7.78 2.81-2.81c.8-.78.8-2.07 0-2.86zM5.41 20L4 18.59l7.72-7.72 1.47 1.35L5.41 20z\"/>\n",
              "  </svg>\n",
              "      </button>\n",
              "      \n",
              "  <style>\n",
              "    .colab-df-container {\n",
              "      display:flex;\n",
              "      flex-wrap:wrap;\n",
              "      gap: 12px;\n",
              "    }\n",
              "\n",
              "    .colab-df-convert {\n",
              "      background-color: #E8F0FE;\n",
              "      border: none;\n",
              "      border-radius: 50%;\n",
              "      cursor: pointer;\n",
              "      display: none;\n",
              "      fill: #1967D2;\n",
              "      height: 32px;\n",
              "      padding: 0 0 0 0;\n",
              "      width: 32px;\n",
              "    }\n",
              "\n",
              "    .colab-df-convert:hover {\n",
              "      background-color: #E2EBFA;\n",
              "      box-shadow: 0px 1px 2px rgba(60, 64, 67, 0.3), 0px 1px 3px 1px rgba(60, 64, 67, 0.15);\n",
              "      fill: #174EA6;\n",
              "    }\n",
              "\n",
              "    [theme=dark] .colab-df-convert {\n",
              "      background-color: #3B4455;\n",
              "      fill: #D2E3FC;\n",
              "    }\n",
              "\n",
              "    [theme=dark] .colab-df-convert:hover {\n",
              "      background-color: #434B5C;\n",
              "      box-shadow: 0px 1px 3px 1px rgba(0, 0, 0, 0.15);\n",
              "      filter: drop-shadow(0px 1px 2px rgba(0, 0, 0, 0.3));\n",
              "      fill: #FFFFFF;\n",
              "    }\n",
              "  </style>\n",
              "\n",
              "      <script>\n",
              "        const buttonEl =\n",
              "          document.querySelector('#df-98251f85-c117-4130-bd2b-1b93d248a975 button.colab-df-convert');\n",
              "        buttonEl.style.display =\n",
              "          google.colab.kernel.accessAllowed ? 'block' : 'none';\n",
              "\n",
              "        async function convertToInteractive(key) {\n",
              "          const element = document.querySelector('#df-98251f85-c117-4130-bd2b-1b93d248a975');\n",
              "          const dataTable =\n",
              "            await google.colab.kernel.invokeFunction('convertToInteractive',\n",
              "                                                     [key], {});\n",
              "          if (!dataTable) return;\n",
              "\n",
              "          const docLinkHtml = 'Like what you see? Visit the ' +\n",
              "            '<a target=\"_blank\" href=https://colab.research.google.com/notebooks/data_table.ipynb>data table notebook</a>'\n",
              "            + ' to learn more about interactive tables.';\n",
              "          element.innerHTML = '';\n",
              "          dataTable['output_type'] = 'display_data';\n",
              "          await google.colab.output.renderOutput(dataTable, element);\n",
              "          const docLink = document.createElement('div');\n",
              "          docLink.innerHTML = docLinkHtml;\n",
              "          element.appendChild(docLink);\n",
              "        }\n",
              "      </script>\n",
              "    </div>\n",
              "  </div>\n",
              "  "
            ]
          },
          "metadata": {},
          "execution_count": 7
        }
      ]
    },
    {
      "cell_type": "markdown",
      "source": [
        "####Tipo de dato de los atributos"
      ],
      "metadata": {
        "id": "wdWClUskFq_f"
      }
    },
    {
      "cell_type": "code",
      "source": [
        "# Se realiza una comprobación del tipo de dato de cada columna\n",
        "print(dataset.dtypes)"
      ],
      "metadata": {
        "colab": {
          "base_uri": "https://localhost:8080/"
        },
        "id": "xBpo2VB_mPV7",
        "outputId": "4a21cacd-f32e-4ebd-f3a6-e756e98078e6"
      },
      "execution_count": null,
      "outputs": [
        {
          "output_type": "stream",
          "name": "stdout",
          "text": [
            "id               int64\n",
            "age              int64\n",
            "gender           int64\n",
            "height           int64\n",
            "weight         float64\n",
            "ap_hi            int64\n",
            "ap_lo            int64\n",
            "cholesterol      int64\n",
            "gluc             int64\n",
            "smoke            int64\n",
            "alco             int64\n",
            "active           int64\n",
            "cardio           int64\n",
            "dtype: object\n"
          ]
        }
      ]
    },
    {
      "cell_type": "markdown",
      "source": [
        "Como se visualiza a apartir de la información anterior, nos encontramos con un conjunto de datos cuyas características se encuentran representadas por datos numéricos, donde al final del diseño experimental, lo que se busca es predecir el atributo de cardio. Dicho atributo es una variable binaria, lo que nos indica que nos encontramos ante un problema de clasificación binaria."
      ],
      "metadata": {
        "id": "4rORaujRmgaT"
      }
    },
    {
      "cell_type": "markdown",
      "source": [
        "####Histogramas\n",
        "\n",
        "A continuación se presenta de forma gráfica, los histogramas que muestren la distribución de los datos para cada uno de los atributos, lo cual nos puede brindar información útil sobre el comportamiento de los mismos, en caso de que se necesite realizar algún tratamiento especial previo a la ejecución de los algoritmos."
      ],
      "metadata": {
        "id": "Gs7FrPa6Fyqb"
      }
    },
    {
      "cell_type": "code",
      "source": [
        "# Se grafican cada uno de los atributos utilizando un histrograma\n",
        "fig, axs = plt.subplots(4, 3, constrained_layout=True, figsize=(15,15))\n",
        "fig.suptitle('Histograma de cada atributo', fontsize=16)\n",
        "\n",
        "d = 1\n",
        "for i in range(4):\n",
        "  for j in range(3):\n",
        "      axs[i,j].set_title(dataset.columns[d])\n",
        "      dataset.iloc[:, d].hist(ax=axs[i,j])\n",
        "      d += 1\n",
        "plt.show()"
      ],
      "metadata": {
        "colab": {
          "base_uri": "https://localhost:8080/",
          "height": 1000
        },
        "id": "GmWumBhenuDl",
        "outputId": "d06ebc3e-c99c-483e-d709-1cb296cc45ae"
      },
      "execution_count": null,
      "outputs": [
        {
          "output_type": "display_data",
          "data": {
            "text/plain": [
              "<Figure size 1080x1080 with 12 Axes>"
            ],
            "image/png": "[encoded data removed]"
          },
          "metadata": {
            "needs_background": "light"
          }
        }
      ]
    },
    {
      "cell_type": "code",
      "source": [
        "# Se grafica con un boxplot cada uno de los atributos del dataset\n",
        "fig, axs = plt.subplots(4, 3, constrained_layout=True, figsize=(20,20))\n",
        "fig.suptitle('Boxplot por atributo', fontsize=16)\n",
        "\n",
        "d = 1\n",
        "for i in range(4):\n",
        "  for j in range(3):\n",
        "    axs[i,j].set_title(dataset.columns[d])\n",
        "    axs[i,j].boxplot(dataset.iloc[:,d])\n",
        "    d += 1"
      ],
      "metadata": {
        "colab": {
          "base_uri": "https://localhost:8080/",
          "height": 1000
        },
        "id": "tyFwTugGrPqO",
        "outputId": "d05d3eb4-87d0-45b3-a074-08dd0bbf0dff"
      },
      "execution_count": null,
      "outputs": [
        {
          "output_type": "display_data",
          "data": {
            "text/plain": [
              "<Figure size 1440x1440 with 12 Axes>"
            ],
            "image/png": "[encoded data removed]"
          },
          "metadata": {
            "needs_background": "light"
          }
        }
      ]
    },
    {
      "cell_type": "markdown",
      "source": [
        "####Preprocesamiento de los datos"
      ],
      "metadata": {
        "id": "-caxpmnif8MO"
      }
    },
    {
      "cell_type": "markdown",
      "source": [
        "####Explicación de los algoritmos a utilizar"
      ],
      "metadata": {
        "id": "Y-nGBmxAr3fD"
      }
    },
    {
      "cell_type": "markdown",
      "source": [
        "# Support Vector Machines (SVM)\n",
        "\n",
        "SVMs constituye un conjunto de métodos para realizar aprendizaje supervisado, en escenarios de clasificación, regresión y detección de outliers. Dentro de los principales beneficios de utilizar esta familia de algoritmos, se pueden mencionar los siguientes:\n",
        "\n",
        "\n",
        "\n",
        "*   Efectivos en espacios de muchas dimensiones\n",
        "*   Eficiente en términos de manejo de memoria\n",
        "*   Flexible a la hora de seleccionar los tipos función de kernel que se pueden incorporar en la función de toma de decisiones\n",
        "\n",
        "De igual forma es necesario tener cuidado con el conjunto de datos que se vaya a predecir, ya que si el número de características de los datos es mucho mayor que el número de muestras obtenidas, la selección del tipo de kernel y la regularización utilizada se vuelven cruciales para obtener resultados adecuados.\n",
        "\n",
        "SVM incluye las clases denomindas SVC, NuSVC y LinearSVC para efectuar clasificación tanto binaria como multiclases. Las dos primeras son muy similares pero utilizan formulaciones matemáticas distintas, y aceptan parámetros de configuración diferentes. Por su parte LinearSVC, representa otra implementación de SVC (Support Vector Classification) que utiliza por defecto un kernel de tipo lineal. Al igual que la mayoría de clasificadores, cualquiera de las clases mencionadas de SVC recibe como parámetro de entrada dos conjuntos, las muestras de training que corresponden con un arreglo de entrenamiento denominado **X**, de tamaño (numero_muestras, numero_caracteristicas), y un conjunto **Y** que representa las etiquetas de los tipos de clases que se van a predecir (con soporte para strings o valores enteros). El proceso de ajuste y modelado por medio de la función de decisión, se basa en el uso de vectores de soporte que el algoritmo obtiene dentro del mismo conjunto de entrenamiento. \n",
        "\n"
      ],
      "metadata": {
        "id": "9Rlkjw92sJXK"
      }
    },
    {
      "cell_type": "markdown",
      "source": [
        "# Gaussian Process Classification (GPC)\n",
        "\n",
        "GPC representa un tipo de clasificador que implementa procesos Gaussianos para efectuar clasificación de una forma probablilística. Un proceso Gaussiano es una generalización de la famosa distribución probabilística de Gauss, los cuales se pueden utilizar en algoritmos de clasificación de machine learning para predicción de modelos. Al igual que la familia de  métodos SVMs, este algoritmo se basa en el uso de kernels, aunque cuentan con la capacidad de predecir probabilidades calibradas con gran precisión, cosa que no puede lograr los clasificadores que brinda el SVC. Los kernels que se especifican en el algoritmo controlan como las muestras se relacionan entre ellos, definiendo específicamente la covarianza de los datos.  "
      ],
      "metadata": {
        "id": "D-Cb9kmosPdb"
      }
    },
    {
      "cell_type": "markdown",
      "source": [
        "####Diseño experimental"
      ],
      "metadata": {
        "id": "sN8MT0CTgjoo"
      }
    },
    {
      "cell_type": "markdown",
      "source": [
        "####Resultados y Conclusiones"
      ],
      "metadata": {
        "id": "feOi9fsBgm4Z"
      }
    },
    {
      "cell_type": "markdown",
      "metadata": {
        "id": "5NzPQfbcdvpA"
      },
      "source": [
        "___\n",
        "\n",
        "# Parte 2  -  Clustering  (50 puntos)\n",
        "___"
      ]
    },
    {
      "cell_type": "markdown",
      "metadata": {
        "id": "jSCBKorAdvpB"
      },
      "source": [
        "### Considere lo siguiente:\n",
        "1. Conjunto de datos: **descubrir_emociones.csv**\n",
        "1. Este dataset corresponde a pixeles en imágenes, a partir de las cuales se desea descubrir cuántos grupos (clusters) se podrían encontrar. Se cree que son diferentes emociones de las personas en las imágenes (alegría, enojo, tristeza, etc).\n",
        "1. Proponga al menos dos algoritmos a utilizar\n",
        "1. Proponga una métrica, la cual debe ser **interna**.\n",
        "1. Debe presentar en este cuaderno:\n",
        "    1. Pre-procesamiento de los datos, explicando las decisiones en cada caso. Observará que en este caso viene bastante preparado\n",
        "    1. Para cada uno de los algoritmos seleccionados: \n",
        "        1. Explicación del algoritmo.\n",
        "        1. Explicación de la implementación seleccionada y de sus parámetros.\n",
        "    1. Explicación del diseño experimental por ejecutar. En este caso recuerde que es aprendizaje NO Supervisado. Además en cuanto al número de clusters, se cree que es mayor que uno y menor que veinte. \n",
        "    1. Programación del diseño experimental. \n",
        "    1. Muestre en una tabla los resultados de la métrica.\n",
        "    1. Grafique las métrica para ver el criterio del codo.\n",
        "    1. ¿Cuál es el númermo de cluster que considera mejor describe el conjunto de datos? ¿Cómo defendería su recomendación ante su contratante? (Considere en su respuesta los algoritmos que utilizó)"
      ]
    },
    {
      "cell_type": "markdown",
      "source": [
        "##2.1. Preprocesamiento de los datos\n",
        "En esta sección como un paso inicial, se carga se el dataset y se muestra algunas de las imagenes contenidas en este. \n",
        "Como parte del procesamiento, normalmente buscaríamos valores faltantes, outliers, y variables que haya que codificar. Pero para este dataset no es mecesario, pues se trata de pixeles, y todos están completos ya que todas las imágenes tienen la misma dimensión, además todas las variables, sabemos de ante mano que están en un valor de 0 a 255, por lo que no habrán outliers a menos que se haya hecho mal el dataset. \n",
        "\n",
        "Tampoco tenemos que codificar variables pues todas hacen referencia a pixeles. Esto también nos lleva a que no se pueden reducir atributos, al menos no para el problema que queremos resolver con este conjunto, porque nos interesa tener las imagenes completas. \n",
        "\n",
        "De igual forma, no consideramos necesario escalar los datos, porque todos se encuentran entre 0 y 255, son valores que tenemos por seguro que serán así. Si se desea se puede escalar, pero consideramos que no es indispensable en este caso, además de hizo la prueba en otro notebook para comprobar y al graficar el método del codo, la diferencia es mínima, pues si se escalan los datos solo se ve la curva más lisa. "
      ],
      "metadata": {
        "id": "UAdhPqjj-yR1"
      }
    },
    {
      "cell_type": "markdown",
      "source": [
        "--------------------------------------------------"
      ],
      "metadata": {
        "id": "jjqRzHyVOk9p"
      }
    },
    {
      "cell_type": "code",
      "execution_count": 1,
      "metadata": {
        "id": "peD59PBjdvpC"
      },
      "outputs": [],
      "source": [
        "%matplotlib inline\n",
        "import pandas as pd\n",
        "import math\n",
        "import matplotlib.pyplot as plt\n",
        "import numpy as np"
      ]
    },
    {
      "cell_type": "code",
      "source": [
        "from google.colab import drive\n",
        "drive.mount('/content/drive')"
      ],
      "metadata": {
        "colab": {
          "base_uri": "https://localhost:8080/"
        },
        "id": "RiIFYW8Xz5xd",
        "outputId": "032f177e-261b-4608-c41c-adb755b84c86"
      },
      "execution_count": 2,
      "outputs": [
        {
          "output_type": "stream",
          "name": "stdout",
          "text": [
            "Mounted at /content/drive\n"
          ]
        }
      ]
    },
    {
      "cell_type": "code",
      "source": [
        "emotions_df = pd.read_csv('/content/drive/MyDrive/1 SEMESTRE 2022/IA/Trabajo Práctico 3/descubrir_emociones.csv', header = 0, delimiter=';')  \n",
        "#print(dataset.describe())\n",
        "print(emotions_df.head(2))\n",
        "#Ver las filas\n",
        "#A veces no me cargan todas\n",
        "print(emotions_df.shape[0])"
      ],
      "metadata": {
        "colab": {
          "base_uri": "https://localhost:8080/"
        },
        "id": "QTtNYgL5yl-N",
        "outputId": "1a49ae66-13a9-40bc-c225-d63fcd661aa8"
      },
      "execution_count": 3,
      "outputs": [
        {
          "output_type": "stream",
          "name": "stdout",
          "text": [
            "    p1   p2   p3   p4   p5   p6   p7   p8   p9  p10  ...  p2295  p2296  p2297  \\\n",
            "0   70   80   82   72   58   58   60   63   54   58  ...    159    182    183   \n",
            "1  151  150  147  155  148  133  111  140  170  174  ...    105    108     95   \n",
            "\n",
            "   p2298  p2299  p2300  p2301  p2302  p2303  p2304  \n",
            "0    136    106    116     95    106    109     82  \n",
            "1    108    102     67    171    193    183    184  \n",
            "\n",
            "[2 rows x 2304 columns]\n",
            "24568\n"
          ]
        }
      ]
    },
    {
      "cell_type": "markdown",
      "source": [
        "Se crea una función para reconstruir imagenes, en este caso solo se muestra una, pues el objetivo es ver los datos con los que estamos trabajando. "
      ],
      "metadata": {
        "id": "Jpa_iycDqPtC"
      }
    },
    {
      "cell_type": "code",
      "source": [
        "def displayImg(i):\n",
        "  plt.imshow(emotions_df.loc[i].values.reshape(48,48))\n",
        "#Mostrar la imagen en la fila 2457\n",
        "displayImg(2457)"
      ],
      "metadata": {
        "colab": {
          "base_uri": "https://localhost:8080/",
          "height": 267
        },
        "id": "sOFXvwOi_O9i",
        "outputId": "f8a047db-4165-40f8-8046-cb8cdb6ce755"
      },
      "execution_count": 4,
      "outputs": [
        {
          "output_type": "display_data",
          "data": {
            "text/plain": [
              "<Figure size 432x288 with 1 Axes>"
            ],
            "image/png": "[encoded data removed]"
          },
          "metadata": {
            "needs_background": "light"
          }
        }
      ]
    },
    {
      "cell_type": "markdown",
      "source": [
        "--------------------------------------------------"
      ],
      "metadata": {
        "id": "UkeMa43QOi7X"
      }
    },
    {
      "cell_type": "markdown",
      "source": [
        "##2.2 Algoritmos de clustering"
      ],
      "metadata": {
        "id": "nKQu50iqT8_J"
      }
    },
    {
      "cell_type": "markdown",
      "source": [
        "En esta sección vamos a presentar el desarrollo y explicación de los algoritmos de Mini-batch K-means clustering y Birch clustering. \n",
        "\n",
        "Se han elegido estos dos porque en general, usar ambos algoritmos derivados de k-means como Mini-batch t Bisecting K-means, no nos permitía aprender mucho más, así que se usó Mini-batch por rapidez. \n",
        "\n",
        "Tampoco pudimos usar los algoritmos de Spectral clustering, pues aunque estos tienen el hiperparámetro que nos interesa, que es el número de clusters, y además son interesantemente buenos con imágenes, pero no se pudo terminar de ejecutar pues después de incluso 10 horas no estaba listo. \n",
        "\n",
        "En el caso de los agglomerative clustering, no se pudo pues no cuentan con hiperparámetros a probar en el análisis experimental. \n",
        "\n",
        "Finalmente se intentó con otro método, que a pesar de no tener el número de clusters, nos podría dar una estimación del mismo, sin embargo es algo lerdo, por lo que solo se logró ejecutarlo con un tercio de los datos para que durara unas cuantas horas, no obstante no es parte de la presente tarea.\n",
        "\n",
        "Por dichas razones se usan los algoritmos de Mini-Batch y Birch. \n"
      ],
      "metadata": {
        "id": "LSA63ikRv3gB"
      }
    },
    {
      "cell_type": "markdown",
      "source": [
        "###2.2.2 Mini-batch K-means Clustering\n",
        "\n",
        "Este algoritmo es una variante del K means visto en clases, solo que utiliza lotes, para reducir el tiempo de cálculo e intenta optimizar la función de objetivo al mismo tiempo.\n",
        "Los mini lotes son muestreados en cada iteración, la desventaja es que muestra peores resultados que el K means, pero con la ventaja de ser más rápido. \n",
        "Otro aspecto de este algortimo es que por cada lote, el centroide asignado, se actualiza, con el promedio de todas las muestras anteriores a ese centroide y a la larga, esto disminuye la tasa de cambio del mismo.\n",
        "\n",
        "Para este ejemplo usamos este algoritmo por su rápidez, ya que otros aunque quizá más exactos, tardan incluso horas, y muchos otros no tenían el hiperparámetro de número de clúster que es requerido en esta tarea. \n",
        "\n",
        "* Con respecto a los hiperparámetros, tenemos el número de clusters, vamos a guardar las métricas cambiando este valor de 2 a 19 clústers. \n",
        "* El método de inicialización, es decir el init, se escogió como K-means++, porque este selecciona los centroides iniciales para el agrupamiento, y lo hace de manera más inteligente. \n",
        "* Max_iter es el número de iteraciones que se hacen sobre el conjunto, el default es 100, pero se dejó 300 para ver si logra mejores resultados.\n",
        "* N_init, número de veces que se ejecutará el algoritmo con semillas de centroide diferente. \n",
        "* Random_state es para la inicialización de los centroides, de manera random. El valor elegido es la semilla.\n",
        "* Por último el batch_size es el tamaño de los mini lotes, en este caso es de 1024 porque es el valor preterminado y porque parece un valor adecuado para asegurar que sea un poco más rápido.\n",
        "\n"
      ],
      "metadata": {
        "id": "ycFBJZL-DPPw"
      }
    },
    {
      "cell_type": "code",
      "source": [
        "from sklearn.cluster import MiniBatchKMeans\n",
        "from sklearn.metrics import calinski_harabasz_score\n",
        "\n",
        "#Sum of squares based indexes\n",
        "SSBI_Batches = []\n",
        "wcss= []\n",
        "#De 2 a 19\n",
        "for i in range(2,20): \n",
        "    miniB_KMeans = MiniBatchKMeans(n_clusters=i, init=\"k-means++\",max_iter=300, n_init=20, random_state=0, batch_size=1024) #max_iter por default es 300\n",
        "    miniB_KMeans.fit(emotions_df)\n",
        "    c_score = calinski_harabasz_score(emotions_df, miniB_KMeans.labels_)\n",
        "    wcss.append(miniB_KMeans.inertia_)\n",
        "    SSBI_Batches.append(c_score)\n"
      ],
      "metadata": {
        "id": "QgkT2tnGDP6A"
      },
      "execution_count": null,
      "outputs": []
    },
    {
      "cell_type": "markdown",
      "source": [
        "#### Método del codo usando WCSS \n",
        "Suma de los cuadrados de las distancias (Within cluster sum of squares), en este caso el algoritmo trae dicha métrica con el atributo inertia_.  \n"
      ],
      "metadata": {
        "id": "PuN2lyIL9giG"
      }
    },
    {
      "cell_type": "code",
      "source": [
        "plt.plot(range(2,20),wcss) \n",
        "plt.title(\"Metodo del codo para Mini batch K-means con WCSS\")\n",
        "plt.xlabel(\"# clusters\")\n",
        "plt.show() "
      ],
      "metadata": {
        "id": "qE2P-8hL-Wkg",
        "colab": {
          "base_uri": "https://localhost:8080/",
          "height": 295
        },
        "outputId": "2b899240-8ae6-4c95-c23f-78d6014021fd"
      },
      "execution_count": null,
      "outputs": [
        {
          "output_type": "display_data",
          "data": {
            "text/plain": [
              "<Figure size 432x288 with 1 Axes>"
            ],
            "image/png": "[encoded data removed]"
          },
          "metadata": {
            "needs_background": "light"
          }
        }
      ]
    },
    {
      "cell_type": "markdown",
      "source": [
        "#### Método del codo usando SSBI \n",
        "Otra métrica que decidimos usar es un indice basado en la suma de cuadrados (Sum of squares based indexes), en este caso más especificamente calinski_harabasz_score que se encuentra en sklearn. \n",
        "Se escogió esta métrica ya que no tenemos los valores reales de las etiquetas, y porque es un buen criterio para la relación de la varianza, en la que una puntuación más alta significa que el modelo tiene clusters mejor definidos. El indice es la relación de la suma de la disperción entre los clusters.  "
      ],
      "metadata": {
        "id": "xnWQu_J0-jDW"
      }
    },
    {
      "cell_type": "code",
      "source": [
        "plt.plot(range(2,20),SSBI_Batches) \n",
        "plt.title(\"Metodo del codo para Mini batch K-means con SSBI\")\n",
        "plt.xlabel(\"# clusters\")\n",
        "plt.show() "
      ],
      "metadata": {
        "colab": {
          "base_uri": "https://localhost:8080/",
          "height": 295
        },
        "id": "7l7eGm3QSO5S",
        "outputId": "57fa73d3-2962-4a10-8cce-b25c7fb53fc2"
      },
      "execution_count": null,
      "outputs": [
        {
          "output_type": "display_data",
          "data": {
            "text/plain": [
              "<Figure size 432x288 with 1 Axes>"
            ],
            "image/png": "[encoded data removed]"
          },
          "metadata": {
            "needs_background": "light"
          }
        }
      ]
    },
    {
      "cell_type": "markdown",
      "source": [
        "#### Guardado de métricas para método del codo en Mini-batch K-means Clustering\n",
        "Se guardan los valores de las métricas usadas, en este caso inertia_, que es una métrica que incluye el modelo y calinski harabasz, ambas para ilustrar la gráfica del codo."
      ],
      "metadata": {
        "id": "D6in6XNwqw7J"
      }
    },
    {
      "cell_type": "code",
      "source": [
        "from joblib import dump\n",
        "dump(SSBI_Batches, 'SSBI_Batches_Kmeans.joblib') \n",
        "dump(wcss, 'wcss_Batches_Kmeans.joblib') "
      ],
      "metadata": {
        "colab": {
          "base_uri": "https://localhost:8080/"
        },
        "id": "Sj2lUHCCqKjx",
        "outputId": "60111ac0-56b3-4bb9-dd60-46d88ed97709"
      },
      "execution_count": null,
      "outputs": [
        {
          "output_type": "execute_result",
          "data": {
            "text/plain": [
              "['wcss_Batches_Kmeans.joblib']"
            ]
          },
          "metadata": {},
          "execution_count": 10
        }
      ]
    },
    {
      "cell_type": "markdown",
      "source": [
        "#### Recuperación de métricas para método del codo en Mini-batch K-means Clustering\n",
        "Los archivos que contienen la información de métricas se encuentran en drive. De manera que solo tenemos que cargarlas aquí para no correr el algoritmo desde cero, ya que en particular algunos aunque no Mini batch, suelen ser muy tardados. "
      ],
      "metadata": {
        "id": "0AmA8d2fCtq_"
      }
    },
    {
      "cell_type": "code",
      "source": [
        "from joblib import load\n",
        "SSBI_Batches = load('/content/drive/MyDrive/1 SEMESTRE 2022/IA/Trabajo Práctico 3/SSBI_Batches_Kmeans.joblib') \n",
        "wcss = load('/content/drive/MyDrive/1 SEMESTRE 2022/IA/Trabajo Práctico 3/wcss_Batches_Kmeans.joblib') "
      ],
      "metadata": {
        "id": "dqkz30WUCAGE"
      },
      "execution_count": 5,
      "outputs": []
    },
    {
      "cell_type": "markdown",
      "source": [
        "#### Resultados de las métricas WCSS Y SSBI para Mini-Batch"
      ],
      "metadata": {
        "id": "_hcLMpLWAjWU"
      }
    },
    {
      "cell_type": "code",
      "source": [
        "for i in range(len(wcss)):\n",
        "  print(\"Número de clústers:\", i+2, \" métrica WCSS:\", wcss[i], \" métrica SSBI:\", SSBI_Batches[i])"
      ],
      "metadata": {
        "colab": {
          "base_uri": "https://localhost:8080/"
        },
        "id": "2nr1cd_5Ajx5",
        "outputId": "3af6f3f6-3b8a-4059-b9e1-060aafc8a501"
      },
      "execution_count": 15,
      "outputs": [
        {
          "output_type": "stream",
          "name": "stdout",
          "text": [
            "Número de clústers: 2  métrica WCSS: 183202451031.01837  métrica SSBI: 5657.253690167098\n",
            "Número de clústers: 3  métrica WCSS: 171723611834.94717  métrica SSBI: 3861.6757363918655\n",
            "Número de clústers: 4  métrica WCSS: 163172067683.95502  métrica SSBI: 3136.6503315769355\n",
            "Número de clústers: 5  métrica WCSS: 156403111077.88257  métrica SSBI: 2703.3651208526217\n",
            "Número de clústers: 6  métrica WCSS: 153411595583.83008  métrica SSBI: 2315.612658029577\n",
            "Número de clústers: 7  métrica WCSS: 150902526611.58148  métrica SSBI: 2020.1022753477064\n",
            "Número de clústers: 8  métrica WCSS: 148629808927.5461  métrica SSBI: 1811.7498527075645\n",
            "Número de clústers: 9  métrica WCSS: 145450152297.74292  métrica SSBI: 1688.0514423543357\n",
            "Número de clústers: 10  métrica WCSS: 144017435348.67828  métrica SSBI: 1545.3415604830068\n",
            "Número de clústers: 11  métrica WCSS: 142598798158.50568  métrica SSBI: 1425.9942860719889\n",
            "Número de clústers: 12  métrica WCSS: 140751203615.245  métrica SSBI: 1342.318063114689\n",
            "Número de clústers: 13  métrica WCSS: 140674194875.92047  métrica SSBI: 1233.2080103976834\n",
            "Número de clústers: 14  métrica WCSS: 138012664631.25262  métrica SSBI: 1197.029050250561\n",
            "Número de clústers: 15  métrica WCSS: 137412110955.20232  métrica SSBI: 1123.9903500304456\n",
            "Número de clústers: 16  métrica WCSS: 135946842733.7938  métrica SSBI: 1079.2709965442905\n",
            "Número de clústers: 17  métrica WCSS: 134828950060.88876  métrica SSBI: 1030.596840764093\n",
            "Número de clústers: 18  métrica WCSS: 133790763731.62405  métrica SSBI: 989.3139797729144\n",
            "Número de clústers: 19  métrica WCSS: 133311424647.48883  métrica SSBI: 942.0939695259419\n"
          ]
        }
      ]
    },
    {
      "cell_type": "markdown",
      "source": [
        "--------------------------------------------------"
      ],
      "metadata": {
        "id": "WzY-09XaObY2"
      }
    },
    {
      "cell_type": "markdown",
      "source": [
        "###2.2.1 Birch clustering"
      ],
      "metadata": {
        "id": "UoatPOA4pd4O"
      }
    },
    {
      "cell_type": "markdown",
      "source": [
        "Balanced Iterative Reducing and Clustering using Hierarchies (BIRCH) es un algoritmo de agrupamiento que puede agrupar grandes conjuntos de datos generando primero un resumen pequeño y compacto del gran conjunto de datos que conserva la mayor cantidad de información posible. Este resumen más pequeño luego se agrupa en clústeres en lugar de agrupar el conjunto de datos más grande.\n",
        "\n",
        "Este algoritmo usa eficientemente la memoria, y es una alternativa al algoritmo anterior. \n",
        "Pero en el caso de birch, contruye una estructura de datos de árbol con centroides del clúster que se leen de la hoja.\n",
        "\n",
        "\n",
        "* El número de clústers es importante porque es el hiperparámetro que necesitamos para graficar el método del codo.\n",
        "* Compute_labels, por default es true, es para calcular las etiquetas en cada ajuste. \n",
        "* El branching factor, por defecto es 50, y limita el número de subclusters en un nodo. Este valor se dejó así, porque cambiarlo habría que analizar los resultados con otros valores. \n",
        "* Y el threshold o umbral, limita la distancia entre la muestra entrante y los subclusters existentes. Este valor si se escoge muy bajo promueve la división, y viceversa si se escoge alto, por eso se eligió un punto medio. \n"
      ],
      "metadata": {
        "id": "5RpOZmr3pkHp"
      }
    },
    {
      "cell_type": "code",
      "source": [
        "from sklearn.cluster import Birch\n",
        "from sklearn.metrics import calinski_harabasz_score\n",
        "#Sum of squares based indexes\n",
        "SSBI = []\n",
        "\n",
        "#De 2 a 19\n",
        "for i in range(2,20): \n",
        "  birch = Birch(n_clusters=i, compute_labels = True, branching_factor = 50, threshold = 0.5) \n",
        "  birch.fit(emotions_df)\n",
        "  c_score = calinski_harabasz_score(emotions_df, birch.labels_)\n",
        "  SSBI.append(c_score)\n"
      ],
      "metadata": {
        "id": "Lkw6eWbTpkiv"
      },
      "execution_count": null,
      "outputs": []
    },
    {
      "cell_type": "markdown",
      "source": [
        "#### Método del codo usando SSBI \n",
        "Como ya se había explicado en la sección anterior, elegimos esta métrica de calinski_harabasz_score porque se encuentra en sklearn y nos sirve para cuando no tenemos los valores reales de las etiquetas. "
      ],
      "metadata": {
        "id": "zkp41cT-Mj0j"
      }
    },
    {
      "cell_type": "code",
      "source": [
        "plt.plot(range(2,20),SSBI) \n",
        "plt.title(\"Metodo del codo para Birch clustering\")\n",
        "plt.xlabel(\"Número de clústers\")\n",
        "plt.show() "
      ],
      "metadata": {
        "colab": {
          "base_uri": "https://localhost:8080/",
          "height": 295
        },
        "id": "ZRWh8JeJMhKu",
        "outputId": "05bfc64c-9d84-4e51-ad24-0eb54c5d423f"
      },
      "execution_count": 22,
      "outputs": [
        {
          "output_type": "display_data",
          "data": {
            "text/plain": [
              "<Figure size 432x288 with 1 Axes>"
            ],
            "image/png": "[encoded data removed]"
          },
          "metadata": {
            "needs_background": "light"
          }
        }
      ]
    },
    {
      "cell_type": "markdown",
      "source": [
        "#### Guardado de métricas para método del codo en Birch clustering\n",
        "Se guardan los valores de las métricas usadas, en este caso calinski Harabasz, que es una métrica elegida pues este modelo no cuenta con una definida, como en el caso de Mini-batch k-means."
      ],
      "metadata": {
        "id": "RF2nTtskDaus"
      }
    },
    {
      "cell_type": "code",
      "source": [
        "from joblib import dump, load\n",
        "dump(SSBI, 'SSBI_Birch.joblib') \n"
      ],
      "metadata": {
        "colab": {
          "base_uri": "https://localhost:8080/"
        },
        "id": "nHdd2c-nr22G",
        "outputId": "272d3b77-3b00-4e7f-ed90-72cd54ddb203"
      },
      "execution_count": null,
      "outputs": [
        {
          "output_type": "execute_result",
          "data": {
            "text/plain": [
              "['SSBI_Birch.joblib']"
            ]
          },
          "metadata": {},
          "execution_count": 12
        }
      ]
    },
    {
      "cell_type": "markdown",
      "source": [
        "#### Recuperación de métricas para método del codo en Birch clustering\n",
        "Los archivos que contienen la información de métricas se encuentran en drive. De manera que solo tenemos que cargarlas aquí para no correr el algoritmo desde cero para obtenerlas, ya que en particular algunos algoritmos suelen ser muy tardados, como fue el caso de este con aproximadamente 5 horas. "
      ],
      "metadata": {
        "id": "BmF-s05hD__E"
      }
    },
    {
      "cell_type": "code",
      "source": [
        "from joblib import load\n",
        "SSBI = load('/content/drive/MyDrive/1 SEMESTRE 2022/IA/Trabajo Práctico 3/SSBI_Birch.joblib') \n"
      ],
      "metadata": {
        "id": "z0rCqVhGKHai"
      },
      "execution_count": 21,
      "outputs": []
    },
    {
      "cell_type": "markdown",
      "source": [
        "#### Resultados de la métrica SSBI para Birch"
      ],
      "metadata": {
        "id": "4Wz_cI9FNvMx"
      }
    },
    {
      "cell_type": "code",
      "source": [
        "for i in range(len(SSBI)):\n",
        "  print(\"Número de clústers:\", i+2, \" métrica SSBI:\", SSBI[i])"
      ],
      "metadata": {
        "id": "iwswhXV-pqUb",
        "colab": {
          "base_uri": "https://localhost:8080/"
        },
        "outputId": "0eea6e0d-ea26-46d6-98f7-55a8c78a6e29"
      },
      "execution_count": 23,
      "outputs": [
        {
          "output_type": "stream",
          "name": "stdout",
          "text": [
            "Número de clústers: 2  métrica SSBI: 4645.300767972804\n",
            "Número de clústers: 3  métrica SSBI: 3227.4087552663927\n",
            "Número de clústers: 4  métrica SSBI: 2490.804700605051\n",
            "Número de clústers: 5  métrica SSBI: 2065.2963364180423\n",
            "Número de clústers: 6  métrica SSBI: 1799.837396664531\n",
            "Número de clústers: 7  métrica SSBI: 1597.5154628394953\n",
            "Número de clústers: 8  métrica SSBI: 1440.1079574853766\n",
            "Número de clústers: 9  métrica SSBI: 1324.1741926471777\n",
            "Número de clústers: 10  métrica SSBI: 1231.9092697676144\n",
            "Número de clústers: 11  métrica SSBI: 1145.3670134345566\n",
            "Número de clústers: 12  métrica SSBI: 1073.5304128733544\n",
            "Número de clústers: 13  métrica SSBI: 1010.3417682438119\n",
            "Número de clústers: 14  métrica SSBI: 957.7757832338375\n",
            "Número de clústers: 15  métrica SSBI: 911.6180090196063\n",
            "Número de clústers: 16  métrica SSBI: 867.6880629137272\n",
            "Número de clústers: 17  métrica SSBI: 828.93829592115\n",
            "Número de clústers: 18  métrica SSBI: 791.8783945033416\n",
            "Número de clústers: 19  métrica SSBI: 758.7564934150467\n"
          ]
        }
      ]
    },
    {
      "cell_type": "markdown",
      "source": [
        "--------------------------------------------------"
      ],
      "metadata": {
        "id": "pGqiJMJ1OS2O"
      }
    },
    {
      "cell_type": "markdown",
      "source": [
        "##2.3 Diseño experimental \n"
      ],
      "metadata": {
        "id": "KFWaCIT2XXQH"
      }
    },
    {
      "cell_type": "code",
      "source": [
        "#Funcion que devuelve el mejor hiperparametro, según las métricas obtenidas\n",
        "def getBetter(hyperameter,metrics):\n",
        "  index = 0\n",
        "  high = 0\n",
        "  for m in range(len(metrics)):\n",
        "    if metrics[m]>high:\n",
        "      high = metrics[m]\n",
        "      index = m\n",
        "  return hyperameter[index]\n"
      ],
      "metadata": {
        "id": "W8tFkM8H6qLt"
      },
      "execution_count": null,
      "outputs": []
    },
    {
      "cell_type": "code",
      "source": [
        "def imprimirMetricas(hyperameter,metrics):\n",
        "  for h in range(hyperameter):\n",
        "    print(\"Para el hiperparámetro\",hyperameter[h], \"la métrica interna de silhouette coefficient es\",metrics[h] )"
      ],
      "metadata": {
        "id": "xe-9yU-GW3Eg"
      },
      "execution_count": null,
      "outputs": []
    },
    {
      "cell_type": "markdown",
      "source": [
        "###2.3.1 Diseño experimental para Mini-batch K-means Clustering"
      ],
      "metadata": {
        "id": "9u5rOaFFstGT"
      }
    },
    {
      "cell_type": "code",
      "source": [
        "from sklearn.cluster import MiniBatchKMeans\n",
        "from sklearn.metrics import silhouette_score\n",
        "\n",
        "Silluete_batches = []\n",
        "sizeBatches = [256,512,768,1024,1280,1536,1792,2048]\n",
        "#Probar el métricas para diferentes tamaños de lotes\n",
        "for batch in sizeBatches: \n",
        "    kmeans = MiniBatchKMeans(n_clusters=7, init=\"k-means++\",max_iter=300, n_init=20, random_state=0, batch_size=batch) #max_iter por default es 300\n",
        "    kmeans.fit(emotions_df)\n",
        "    s_score = silhouette_score(emotions_df, kmeans.labels_, metric='euclidean')\n",
        "    Silluete_batches.append(s_score)\n"
      ],
      "metadata": {
        "id": "toJAUzhJ3x_J"
      },
      "execution_count": null,
      "outputs": []
    },
    {
      "cell_type": "code",
      "source": [
        "from joblib import dump, load\n",
        "dump(Silluete_batches, 'Silluete_batches.joblib') \n"
      ],
      "metadata": {
        "colab": {
          "base_uri": "https://localhost:8080/"
        },
        "id": "UUGp_9GXpLb5",
        "outputId": "661e9e02-9731-4300-ba4c-82857e70cfdd"
      },
      "execution_count": null,
      "outputs": [
        {
          "output_type": "execute_result",
          "data": {
            "text/plain": [
              "['Silluete_batches.joblib']"
            ]
          },
          "metadata": {},
          "execution_count": 18
        }
      ]
    },
    {
      "cell_type": "code",
      "source": [
        "Silluete_batches"
      ],
      "metadata": {
        "colab": {
          "base_uri": "https://localhost:8080/"
        },
        "id": "MNCBnFuHwmYG",
        "outputId": "0b0a695b-f6b0-4381-f42a-7da4e513a70a"
      },
      "execution_count": null,
      "outputs": [
        {
          "output_type": "execute_result",
          "data": {
            "text/plain": [
              "[0.07015199442130919,\n",
              " 0.0662442004398201,\n",
              " 0.06757160309473198,\n",
              " 0.07020957230207354,\n",
              " 0.07094075620135525,\n",
              " 0.07157794364682703,\n",
              " 0.06766124018319462,\n",
              " 0.07291261104961583]"
            ]
          },
          "metadata": {},
          "execution_count": 19
        }
      ]
    },
    {
      "cell_type": "code",
      "source": [
        "getBetter(hyperameter,metrics)"
      ],
      "metadata": {
        "id": "EE5iKmSfWxbc"
      },
      "execution_count": null,
      "outputs": []
    },
    {
      "cell_type": "markdown",
      "source": [
        "###2.3.2 Diseño experimental para Birch clustering"
      ],
      "metadata": {
        "id": "08LjxR8yYWEh"
      }
    },
    {
      "cell_type": "code",
      "source": [
        "from sklearn.cluster import Birch\n",
        "from sklearn.metrics import silhouette_score\n",
        "from google.colab import files\n",
        "from joblib import dump\n",
        "\n",
        "\n",
        "Silluete_birch = []\n",
        "threshold_values = [0.2,0.3,0.4,0.5,0.6,0.7,0.8,0.9]\n",
        "for td in threshold_values: \n",
        "  birch = Birch(n_clusters=7, compute_labels = True, branching_factor = 50, threshold = td) \n",
        "  birch.fit(emotions_df)\n",
        "  s_score = silhouette_score(emotions_df, birch.labels_, metric='euclidean')\n",
        "  Silluete_birch.append(s_score)\n",
        "\n",
        "\n",
        "dump(Silluete_birch, 'Silluete_birch.joblib') \n",
        "files.download(\"Silluete_birch.joblib\")"
      ],
      "metadata": {
        "colab": {
          "base_uri": "https://localhost:8080/"
        },
        "id": "hUegdMF5XNac",
        "outputId": "8d7fba60-2f8d-4e47-80e8-4a3aff3c009d"
      },
      "execution_count": null,
      "outputs": [
        {
          "output_type": "display_data",
          "data": {
            "text/plain": [
              "<IPython.core.display.Javascript object>"
            ],
            "application/javascript": [
              "\n",
              "    async function download(id, filename, size) {\n",
              "      if (!google.colab.kernel.accessAllowed) {\n",
              "        return;\n",
              "      }\n",
              "      const div = document.createElement('div');\n",
              "      const label = document.createElement('label');\n",
              "      label.textContent = `Downloading \"${filename}\": `;\n",
              "      div.appendChild(label);\n",
              "      const progress = document.createElement('progress');\n",
              "      progress.max = size;\n",
              "      div.appendChild(progress);\n",
              "      document.body.appendChild(div);\n",
              "\n",
              "      const buffers = [];\n",
              "      let downloaded = 0;\n",
              "\n",
              "      const channel = await google.colab.kernel.comms.open(id);\n",
              "      // Send a message to notify the kernel that we're ready.\n",
              "      channel.send({})\n",
              "\n",
              "      for await (const message of channel.messages) {\n",
              "        // Send a message to notify the kernel that we're ready.\n",
              "        channel.send({})\n",
              "        if (message.buffers) {\n",
              "          for (const buffer of message.buffers) {\n",
              "            buffers.push(buffer);\n",
              "            downloaded += buffer.byteLength;\n",
              "            progress.value = downloaded;\n",
              "          }\n",
              "        }\n",
              "      }\n",
              "      const blob = new Blob(buffers, {type: 'application/binary'});\n",
              "      const a = document.createElement('a');\n",
              "      a.href = window.URL.createObjectURL(blob);\n",
              "      a.download = filename;\n",
              "      div.appendChild(a);\n",
              "      a.click();\n",
              "      div.remove();\n",
              "    }\n",
              "  "
            ]
          },
          "metadata": {}
        },
        {
          "output_type": "display_data",
          "data": {
            "text/plain": [
              "<IPython.core.display.Javascript object>"
            ],
            "application/javascript": [
              "download(\"download_cdc2beff-c3c2-4548-b84a-16a110860fc4\", \"Silluete_birch.joblib\", 274)"
            ]
          },
          "metadata": {}
        }
      ]
    },
    {
      "cell_type": "code",
      "source": [
        "from joblib import load\n",
        "Silluete_birch = load('Silluete_birch.joblib') "
      ],
      "metadata": {
        "id": "Yueujfb4pS-c"
      },
      "execution_count": null,
      "outputs": []
    },
    {
      "cell_type": "markdown",
      "source": [
        "--------------------------------------------------"
      ],
      "metadata": {
        "id": "hhBnG81qOqEH"
      }
    },
    {
      "cell_type": "markdown",
      "source": [
        "##2.4 Conclusión"
      ],
      "metadata": {
        "id": "3zyu5Ehim4_L"
      }
    },
    {
      "cell_type": "markdown",
      "source": [
        "concluir aqui"
      ],
      "metadata": {
        "id": "fuIx33a6GQRP"
      }
    },
    {
      "cell_type": "markdown",
      "source": [
        "--------------------------------------------------"
      ],
      "metadata": {
        "id": "umO1TtRiOrsT"
      }
    },
    {
      "cell_type": "markdown",
      "source": [
        "##Opcionalmente se muestran gráficas de los clústers\n"
      ],
      "metadata": {
        "id": "YcrHI5cm5D_U"
      }
    },
    {
      "cell_type": "markdown",
      "source": [
        "### Mini-batch K-means clustering"
      ],
      "metadata": {
        "id": "4eZGchgvACE6"
      }
    },
    {
      "cell_type": "code",
      "source": [
        "from sklearn.cluster import MiniBatchKMeans\n",
        "miniB_KMeans = MiniBatchKMeans(n_clusters=7, init=\"k-means++\",max_iter=300, n_init=7, random_state=0, batch_size=1024)\n",
        "miniB_KMeans.fit(emotions_df)\n",
        "\n",
        "result = miniB_KMeans.predict(emotions_df)"
      ],
      "metadata": {
        "id": "Nf-f2_pPACkL"
      },
      "execution_count": 18,
      "outputs": []
    },
    {
      "cell_type": "code",
      "source": [
        "from sklearn.decomposition import PCA\n",
        "pca = PCA(n_components=2)\n",
        "pca_emotions = pca.fit_transform(emotions_df)\n",
        "pca_emotions_df =  pd.DataFrame(data= pca_emotions, columns=['C1','C2'])\n",
        "pca_emotions_clusters = pd.concat([pca_emotions_df,  pd.DataFrame(result)],axis = 1)\n",
        "pca_emotions_clusters = pca_emotions_clusters.rename({0: 'Label'}, axis=1)\n",
        "pca_emotions_clusters.head()"
      ],
      "metadata": {
        "colab": {
          "base_uri": "https://localhost:8080/",
          "height": 206
        },
        "id": "v2BGIUbJALn4",
        "outputId": "4552e861-3f07-4c5e-abb0-326ecf5e4b7b"
      },
      "execution_count": 19,
      "outputs": [
        {
          "output_type": "execute_result",
          "data": {
            "text/plain": [
              "            C1           C2  Label\n",
              "0   701.059432   332.086134      2\n",
              "1   -60.482652  -503.266130      6\n",
              "2  -231.780172  -489.782343      6\n",
              "3  -401.480258  1276.986873      1\n",
              "4  1027.018325  1099.774340      2"
            ],
            "text/html": [
              "\n",
              "  <div id=\"df-0c4471b7-6b45-4435-bef7-8c8238a541b6\">\n",
              "    <div class=\"colab-df-container\">\n",
              "      <div>\n",
              "<style scoped>\n",
              "    .dataframe tbody tr th:only-of-type {\n",
              "        vertical-align: middle;\n",
              "    }\n",
              "\n",
              "    .dataframe tbody tr th {\n",
              "        vertical-align: top;\n",
              "    }\n",
              "\n",
              "    .dataframe thead th {\n",
              "        text-align: right;\n",
              "    }\n",
              "</style>\n",
              "<table border=\"1\" class=\"dataframe\">\n",
              "  <thead>\n",
              "    <tr style=\"text-align: right;\">\n",
              "      <th></th>\n",
              "      <th>C1</th>\n",
              "      <th>C2</th>\n",
              "      <th>Label</th>\n",
              "    </tr>\n",
              "  </thead>\n",
              "  <tbody>\n",
              "    <tr>\n",
              "      <th>0</th>\n",
              "      <td>701.059432</td>\n",
              "      <td>332.086134</td>\n",
              "      <td>2</td>\n",
              "    </tr>\n",
              "    <tr>\n",
              "      <th>1</th>\n",
              "      <td>-60.482652</td>\n",
              "      <td>-503.266130</td>\n",
              "      <td>6</td>\n",
              "    </tr>\n",
              "    <tr>\n",
              "      <th>2</th>\n",
              "      <td>-231.780172</td>\n",
              "      <td>-489.782343</td>\n",
              "      <td>6</td>\n",
              "    </tr>\n",
              "    <tr>\n",
              "      <th>3</th>\n",
              "      <td>-401.480258</td>\n",
              "      <td>1276.986873</td>\n",
              "      <td>1</td>\n",
              "    </tr>\n",
              "    <tr>\n",
              "      <th>4</th>\n",
              "      <td>1027.018325</td>\n",
              "      <td>1099.774340</td>\n",
              "      <td>2</td>\n",
              "    </tr>\n",
              "  </tbody>\n",
              "</table>\n",
              "</div>\n",
              "      <button class=\"colab-df-convert\" onclick=\"convertToInteractive('df-0c4471b7-6b45-4435-bef7-8c8238a541b6')\"\n",
              "              title=\"Convert this dataframe to an interactive table.\"\n",
              "              style=\"display:none;\">\n",
              "        \n",
              "  <svg xmlns=\"http://www.w3.org/2000/svg\" height=\"24px\"viewBox=\"0 0 24 24\"\n",
              "       width=\"24px\">\n",
              "    <path d=\"M0 0h24v24H0V0z\" fill=\"none\"/>\n",
              "    <path d=\"M18.56 5.44l.94 2.06.94-2.06 2.06-.94-2.06-.94-.94-2.06-.94 2.06-2.06.94zm-11 1L8.5 8.5l.94-2.06 2.06-.94-2.06-.94L8.5 2.5l-.94 2.06-2.06.94zm10 10l.94 2.06.94-2.06 2.06-.94-2.06-.94-.94-2.06-.94 2.06-2.06.94z\"/><path d=\"M17.41 7.96l-1.37-1.37c-.4-.4-.92-.59-1.43-.59-.52 0-1.04.2-1.43.59L10.3 9.45l-7.72 7.72c-.78.78-.78 2.05 0 2.83L4 21.41c.39.39.9.59 1.41.59.51 0 1.02-.2 1.41-.59l7.78-7.78 2.81-2.81c.8-.78.8-2.07 0-2.86zM5.41 20L4 18.59l7.72-7.72 1.47 1.35L5.41 20z\"/>\n",
              "  </svg>\n",
              "      </button>\n",
              "      \n",
              "  <style>\n",
              "    .colab-df-container {\n",
              "      display:flex;\n",
              "      flex-wrap:wrap;\n",
              "      gap: 12px;\n",
              "    }\n",
              "\n",
              "    .colab-df-convert {\n",
              "      background-color: #E8F0FE;\n",
              "      border: none;\n",
              "      border-radius: 50%;\n",
              "      cursor: pointer;\n",
              "      display: none;\n",
              "      fill: #1967D2;\n",
              "      height: 32px;\n",
              "      padding: 0 0 0 0;\n",
              "      width: 32px;\n",
              "    }\n",
              "\n",
              "    .colab-df-convert:hover {\n",
              "      background-color: #E2EBFA;\n",
              "      box-shadow: 0px 1px 2px rgba(60, 64, 67, 0.3), 0px 1px 3px 1px rgba(60, 64, 67, 0.15);\n",
              "      fill: #174EA6;\n",
              "    }\n",
              "\n",
              "    [theme=dark] .colab-df-convert {\n",
              "      background-color: #3B4455;\n",
              "      fill: #D2E3FC;\n",
              "    }\n",
              "\n",
              "    [theme=dark] .colab-df-convert:hover {\n",
              "      background-color: #434B5C;\n",
              "      box-shadow: 0px 1px 3px 1px rgba(0, 0, 0, 0.15);\n",
              "      filter: drop-shadow(0px 1px 2px rgba(0, 0, 0, 0.3));\n",
              "      fill: #FFFFFF;\n",
              "    }\n",
              "  </style>\n",
              "\n",
              "      <script>\n",
              "        const buttonEl =\n",
              "          document.querySelector('#df-0c4471b7-6b45-4435-bef7-8c8238a541b6 button.colab-df-convert');\n",
              "        buttonEl.style.display =\n",
              "          google.colab.kernel.accessAllowed ? 'block' : 'none';\n",
              "\n",
              "        async function convertToInteractive(key) {\n",
              "          const element = document.querySelector('#df-0c4471b7-6b45-4435-bef7-8c8238a541b6');\n",
              "          const dataTable =\n",
              "            await google.colab.kernel.invokeFunction('convertToInteractive',\n",
              "                                                     [key], {});\n",
              "          if (!dataTable) return;\n",
              "\n",
              "          const docLinkHtml = 'Like what you see? Visit the ' +\n",
              "            '<a target=\"_blank\" href=https://colab.research.google.com/notebooks/data_table.ipynb>data table notebook</a>'\n",
              "            + ' to learn more about interactive tables.';\n",
              "          element.innerHTML = '';\n",
              "          dataTable['output_type'] = 'display_data';\n",
              "          await google.colab.output.renderOutput(dataTable, element);\n",
              "          const docLink = document.createElement('div');\n",
              "          docLink.innerHTML = docLinkHtml;\n",
              "          element.appendChild(docLink);\n",
              "        }\n",
              "      </script>\n",
              "    </div>\n",
              "  </div>\n",
              "  "
            ]
          },
          "metadata": {},
          "execution_count": 19
        }
      ]
    },
    {
      "cell_type": "code",
      "source": [
        "fig = plt.figure(figsize=(6,6))\n",
        "ax = fig.add_subplot(1,1,1)\n",
        "ax.set_xlabel('C1', fontsize = 15)\n",
        "ax.set_ylabel('C2', fontsize = 15)\n",
        "ax.set_title('PCA', fontsize = 20)\n",
        "\n",
        "colors =  np.array(['blue', 'green', 'orange','pink','black','yellow','violet'])\n",
        "ax.scatter(x=pca_emotions_clusters.C1, y=pca_emotions_clusters.C2, c=colors[pca_emotions_clusters.Label], s=50)\n",
        "plt.show()"
      ],
      "metadata": {
        "colab": {
          "base_uri": "https://localhost:8080/",
          "height": 414
        },
        "id": "6L0WGo7ZASV_",
        "outputId": "44beec86-4d13-4638-dd06-b3f277f373ba"
      },
      "execution_count": 20,
      "outputs": [
        {
          "output_type": "display_data",
          "data": {
            "text/plain": [
              "<Figure size 432x432 with 1 Axes>"
            ],
            "image/png": "[encoded data removed]"
          },
          "metadata": {
            "needs_background": "light"
          }
        }
      ]
    },
    {
      "cell_type": "markdown",
      "source": [
        "### Birch clustering"
      ],
      "metadata": {
        "id": "5qezcP2FNOKi"
      }
    },
    {
      "cell_type": "code",
      "source": [
        "from sklearn.cluster import Birch\n",
        "birch = Birch(n_clusters=7, compute_labels = True, branching_factor = 60, threshold = 0.5)\n",
        "birch.fit(emotions_df)\n",
        "\n",
        "result = birch.predict(emotions_df)"
      ],
      "metadata": {
        "id": "aRE3dLdINT4b"
      },
      "execution_count": 24,
      "outputs": []
    },
    {
      "cell_type": "code",
      "source": [
        "from sklearn.decomposition import PCA\n",
        "pca_b = PCA(n_components=2)\n",
        "pca_emotions_b = pca_b.fit_transform(emotions_df)\n",
        "pca_emotions_df_b =  pd.DataFrame(data= pca_emotions_b, columns=['C1','C2'])\n",
        "pca_emotions_clusters_b = pd.concat([pca_emotions_df_b,  pd.DataFrame(result)],axis = 1)\n",
        "pca_emotions_clusters_b = pca_emotions_clusters_b.rename({0: 'Label'}, axis=1)\n",
        "pca_emotions_clusters_b.head()"
      ],
      "metadata": {
        "id": "K3oVytUlNdaz"
      },
      "execution_count": null,
      "outputs": []
    },
    {
      "cell_type": "code",
      "source": [
        "fig = plt.figure(figsize=(6,6))\n",
        "ax = fig.add_subplot(1,1,1)\n",
        "ax.set_xlabel('C1', fontsize = 15)\n",
        "ax.set_ylabel('C2', fontsize = 15)\n",
        "ax.set_title('PCA', fontsize = 20)\n",
        "\n",
        "colors =  np.array(['blue', 'green', 'orange','pink','black','yellow','violet'])\n",
        "ax.scatter(x=pca_emotions_clusters_b.C1, y=pca_emotions_clusters_b.C2, c=colors[pca_emotions_clusters_b.Label], s=50)\n",
        "plt.show()"
      ],
      "metadata": {
        "id": "L5U5_pYgNjI0"
      },
      "execution_count": null,
      "outputs": []
    }
  ],
  "metadata": {
    "colab": {
      "collapsed_sections": [],
      "name": "2022-1-Trabajo Practico_03_NataliaVargas_FabricioElizondo.ipynb",
      "provenance": [],
      "include_colab_link": true
    },
    "kernelspec": {
      "display_name": "Python 3 (ipykernel)",
      "language": "python",
      "name": "python3"
    },
    "language_info": {
      "codemirror_mode": {
        "name": "ipython",
        "version": 3
      },
      "file_extension": ".py",
      "mimetype": "text/x-python",
      "name": "python",
      "nbconvert_exporter": "python",
      "pygments_lexer": "ipython3",
      "version": "3.7.13"
    }
  },
  "nbformat": 4,
  "nbformat_minor": 0
}